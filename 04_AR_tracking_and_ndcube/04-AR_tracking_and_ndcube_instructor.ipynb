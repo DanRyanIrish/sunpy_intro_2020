{
 "cells": [
  {
   "cell_type": "markdown",
   "metadata": {},
   "source": [
    "# Tracking AR 12970 and creating an ndcube\n",
    "\n",
    "In this example we will attempt to find AR 12790, download HMI and AIA 193 data for it, track the AR in carrington coordinates and then create an animation of a composite image.\n",
    "\n",
    "\n",
    "To install ndcube run: `pip install \"ndcube>=2.0.0b1\"`"
   ]
  },
  {
   "cell_type": "code",
   "execution_count": null,
   "metadata": {},
   "outputs": [],
   "source": [
    "import copy\n",
    "\n",
    "import numpy as np\n",
    "import matplotlib.pyplot as plt\n",
    "\n",
    "from tqdm import tqdm_notebook\n",
    "\n",
    "import astropy.units as u\n",
    "from astropy.coordinates import SkyCoord\n",
    "from astropy.time import Time\n",
    "from astropy.wcs import WCS\n",
    "from reproject import reproject_adaptive, reproject_interp\n",
    "\n",
    "import sunpy.map\n",
    "import sunpy.coordinates\n",
    "from sunpy.net import Fido, attrs as a, hek\n",
    "\n",
    "from ndcube import NDCube"
   ]
  },
  {
   "cell_type": "markdown",
   "metadata": {},
   "source": [
    "## Obtaining the Data"
   ]
  },
  {
   "cell_type": "markdown",
   "metadata": {},
   "source": [
    "Let's start by finding a reference coord for AR 12790"
   ]
  },
  {
   "cell_type": "code",
   "execution_count": null,
   "metadata": {},
   "outputs": [],
   "source": [
    "hclient = hek.HEKClient()"
   ]
  },
  {
   "cell_type": "code",
   "execution_count": null,
   "metadata": {},
   "outputs": [],
   "source": [
    "res = hclient.search(hek.attrs.Time(\"2020/11/01\", \"2020/12/16\"), hek.attrs.AR, hek.attrs.AR.NOAANum == 12790)"
   ]
  },
  {
   "cell_type": "code",
   "execution_count": null,
   "metadata": {},
   "outputs": [],
   "source": [
    "res['ar_noaanum', 'event_starttime', 'hgc_coord']"
   ]
  },
  {
   "cell_type": "code",
   "execution_count": null,
   "metadata": {},
   "outputs": [],
   "source": [
    "res['hgc_coord'] = SkyCoord(np.float64([c.strip(\"POINT()\").split() for c in res['hgc_coord']]), unit=u.deg, frame=\"heliographic_carrington\")"
   ]
  },
  {
   "cell_type": "code",
   "execution_count": null,
   "metadata": {},
   "outputs": [],
   "source": [
    "res['event_starttime'] = Time(res['event_starttime'])"
   ]
  },
  {
   "cell_type": "code",
   "execution_count": null,
   "metadata": {},
   "outputs": [],
   "source": [
    "ar12790 = res['ar_noaanum', 'event_starttime', 'hgc_coord']"
   ]
  },
  {
   "cell_type": "code",
   "execution_count": null,
   "metadata": {},
   "outputs": [],
   "source": [
    "ar12790"
   ]
  },
  {
   "cell_type": "code",
   "execution_count": null,
   "metadata": {},
   "outputs": [],
   "source": [
    "start_time, end_time = ar12790['event_starttime'][[0,-1]]"
   ]
  },
  {
   "cell_type": "code",
   "execution_count": null,
   "metadata": {},
   "outputs": [],
   "source": [
    "start_time, end_time"
   ]
  },
  {
   "cell_type": "code",
   "execution_count": null,
   "metadata": {},
   "outputs": [],
   "source": [
    "hmi = a.Instrument.hmi & a.Physobs.los_magnetic_field\n",
    "aia = a.Instrument.aia & a.Wavelength(19.3*u.nm)"
   ]
  },
  {
   "cell_type": "code",
   "execution_count": null,
   "metadata": {},
   "outputs": [],
   "source": [
    "results = Fido.search(a.Time(start_time, end_time) & a.Sample(1*u.day), hmi | aia)"
   ]
  },
  {
   "cell_type": "code",
   "execution_count": null,
   "metadata": {},
   "outputs": [],
   "source": [
    "results"
   ]
  },
  {
   "cell_type": "code",
   "execution_count": null,
   "metadata": {},
   "outputs": [],
   "source": [
    "files = Fido.fetch(results[:, :11], path=\"~/psi/12790/{instrument}\")"
   ]
  },
  {
   "cell_type": "code",
   "execution_count": null,
   "metadata": {},
   "outputs": [],
   "source": [
    "files"
   ]
  },
  {
   "cell_type": "markdown",
   "metadata": {},
   "source": [
    "## Processing the Data\n",
    "\n",
    "Now we have got the data let's take the HMI images and reproject them into carrington coordinates so we can clearly see the evolution of the feature."
   ]
  },
  {
   "cell_type": "code",
   "execution_count": null,
   "metadata": {},
   "outputs": [],
   "source": [
    "%matplotlib widget"
   ]
  },
  {
   "cell_type": "code",
   "execution_count": null,
   "metadata": {},
   "outputs": [],
   "source": [
    "ar12790 = ar12790[:11]"
   ]
  },
  {
   "cell_type": "code",
   "execution_count": null,
   "metadata": {},
   "outputs": [],
   "source": [
    "hmi_maps = sunpy.map.Map(\"~/psi/12790/HMI/*\")\n",
    "aia_maps = sunpy.map.Map(\"~/psi/12790/AIA/*\")"
   ]
  },
  {
   "cell_type": "code",
   "execution_count": null,
   "metadata": {},
   "outputs": [],
   "source": [
    "data = [[h.observer_coordinate.lon, h.observer_coordinate.lat, h.observer_coordinate.radius] for h in hmi_maps]"
   ]
  },
  {
   "cell_type": "code",
   "execution_count": null,
   "metadata": {},
   "outputs": [],
   "source": [
    "observers = SkyCoord(data, unit=(u.deg, u.deg, u.m), obstime=[h.date for h in hmi_maps], frame=\"heliographic_stonyhurst\")"
   ]
  },
  {
   "cell_type": "code",
   "execution_count": null,
   "metadata": {},
   "outputs": [],
   "source": [
    "ar12790['hgc_coord'] = SkyCoord(ar12790['hgc_coord'], observer=observers, obstime=ar12790['event_starttime'])"
   ]
  },
  {
   "cell_type": "code",
   "execution_count": null,
   "metadata": {},
   "outputs": [],
   "source": [
    "plt.figure()\n",
    "ax = plt.subplot(projection=hmi_maps[0])\n",
    "hmi_maps[0].plot(vmin=-1500, vmax=1500, cmap='hmimag')\n",
    "ax.plot_coord(ar12790['hgc_coord'], \"wo\")\n",
    "plt.colorbar()"
   ]
  },
  {
   "cell_type": "code",
   "execution_count": null,
   "metadata": {},
   "outputs": [],
   "source": [
    "def make_carrington_wcses(maps, lat_scale, lon_scale):\n",
    "    lat_scale = 10\n",
    "    lon_scale = 10\n",
    "    shape = (180*lat_scale, 360*lon_scale)\n",
    "\n",
    "    wcses = []\n",
    "    for amap in maps:\n",
    "        observer = amap.observer_coordinate\n",
    "        header = sunpy.map.make_fitswcs_header(\n",
    "            shape,\n",
    "            SkyCoord(0, 0, unit=u.deg, observer=observer, obstime=amap.date, frame=\"heliographic_carrington\"),\n",
    "            scale=[1/lon_scale, 1/lat_scale]*u.deg/u.pix,\n",
    "            projection_code='CAR'\n",
    "        )\n",
    "        wcs = WCS(header)\n",
    "        wcs.heliographic_observer = in_map.observer_coordinate\n",
    "        wcses.append(wcs)\n",
    "        \n",
    "    return wcses"
   ]
  },
  {
   "cell_type": "code",
   "execution_count": null,
   "metadata": {},
   "outputs": [],
   "source": [
    "import warnings\n",
    "warnings.filterwarnings('ignore')"
   ]
  },
  {
   "cell_type": "code",
   "execution_count": null,
   "metadata": {},
   "outputs": [],
   "source": [
    "hmi_carrington_wcses = make_carrington_wcses(hmi_maps, 20, 20)"
   ]
  },
  {
   "cell_type": "code",
   "execution_count": null,
   "metadata": {},
   "outputs": [],
   "source": [
    "out_maps = []\n",
    "for in_map, out_wcs in tqdm_notebook(zip(hmi_maps, hmi_carrington_wcses),\n",
    "                                     total=len(hmi_maps)):\n",
    "    array, _ = reproject_interp(in_map, out_wcs, shape_out=shape)\n",
    "    out_maps.append(sunpy.map.Map(array, out_wcs))"
   ]
  },
  {
   "cell_type": "markdown",
   "metadata": {},
   "source": [
    "## Making a NDCube\n",
    "\n",
    "Now we have the data on a shared grid, let's build a NDCube out of the results, with a 3D WCS and then experiment a little with what NDCube can provide."
   ]
  },
  {
   "cell_type": "code",
   "execution_count": null,
   "metadata": {},
   "outputs": [],
   "source": [
    "seq = sunpy.map.Map(out_maps, sequence=True)"
   ]
  },
  {
   "cell_type": "code",
   "execution_count": null,
   "metadata": {},
   "outputs": [],
   "source": [
    "times = Time([m.date for m in seq])\n",
    "time_delta = times[1:] - times[:-1]\n",
    "time_delta.to(u.day).round()"
   ]
  },
  {
   "cell_type": "code",
   "execution_count": null,
   "metadata": {},
   "outputs": [],
   "source": [
    "cube_header = copy.copy(seq[0].meta)"
   ]
  },
  {
   "cell_type": "code",
   "execution_count": null,
   "metadata": {},
   "outputs": [],
   "source": [
    "cube_header"
   ]
  },
  {
   "cell_type": "code",
   "execution_count": null,
   "metadata": {},
   "outputs": [],
   "source": [
    "cube_header['wcsaxes'] = 3\n",
    "cube_header['CTYPE3'] = \"UTC\"\n",
    "cube_header['CDELT3'] = time_delta[0].to_value(u.s)\n",
    "cube_header['CRVAL3'] = 0\n",
    "cube_header['CRPIX3'] = 0\n",
    "cube_header['CUNIT3'] = \"s\"\n",
    "cube_header['CNAME1'] = \"Carrington Longitude\"\n",
    "cube_header['CNAME2'] = \"Carrington Latitude\"\n",
    "cube_header['CNAME3'] = \"Time\"\n",
    "cube_header['DATEREF'] = times[0].isot\n",
    "del cube_header['mjdref']\n",
    "del cube_header['mjd-obs']"
   ]
  },
  {
   "cell_type": "code",
   "execution_count": null,
   "metadata": {},
   "outputs": [],
   "source": [
    "cube_header"
   ]
  },
  {
   "cell_type": "code",
   "execution_count": null,
   "metadata": {},
   "outputs": [],
   "source": [
    "cube_wcs = WCS(cube_header)"
   ]
  },
  {
   "cell_type": "code",
   "execution_count": null,
   "metadata": {},
   "outputs": [],
   "source": [
    "cube_wcs"
   ]
  },
  {
   "cell_type": "code",
   "execution_count": null,
   "metadata": {},
   "outputs": [],
   "source": [
    "cube_wcs.pixel_to_world(0, 0, 0)"
   ]
  },
  {
   "cell_type": "code",
   "execution_count": null,
   "metadata": {},
   "outputs": [],
   "source": [
    "data = seq.as_array()"
   ]
  },
  {
   "cell_type": "code",
   "execution_count": null,
   "metadata": {},
   "outputs": [],
   "source": [
    "data.shape"
   ]
  },
  {
   "cell_type": "code",
   "execution_count": null,
   "metadata": {},
   "outputs": [],
   "source": [
    "data = np.rollaxis(data, -1)"
   ]
  },
  {
   "cell_type": "code",
   "execution_count": null,
   "metadata": {},
   "outputs": [],
   "source": [
    "data.shape"
   ]
  },
  {
   "cell_type": "code",
   "execution_count": null,
   "metadata": {},
   "outputs": [],
   "source": [
    "ndc = NDCube(data, wcs=cube_wcs)"
   ]
  },
  {
   "cell_type": "code",
   "execution_count": null,
   "metadata": {},
   "outputs": [],
   "source": [
    "ndc.plot(vmin=-1500, vmax=1500, cmap='hmimag')"
   ]
  },
  {
   "cell_type": "code",
   "execution_count": null,
   "metadata": {},
   "outputs": [],
   "source": [
    "ndc.array_axis_physical_types"
   ]
  },
  {
   "cell_type": "code",
   "execution_count": null,
   "metadata": {},
   "outputs": [],
   "source": [
    "small_cube = ndc.crop_by_values([240, -33, None], [260, -13, None], units=(u.deg, u.deg, u.s))"
   ]
  },
  {
   "cell_type": "code",
   "execution_count": null,
   "metadata": {},
   "outputs": [],
   "source": [
    "small_cube.plot(vmin=-1500, vmax=1500)"
   ]
  },
  {
   "cell_type": "code",
   "execution_count": null,
   "metadata": {},
   "outputs": [],
   "source": [
    "small_cube.axis_world_coords()"
   ]
  },
  {
   "cell_type": "code",
   "execution_count": null,
   "metadata": {},
   "outputs": [],
   "source": [
    "small_cube.axis_world_coords(\"time\")"
   ]
  }
 ],
 "metadata": {
  "kernelspec": {
   "display_name": "Python 3",
   "language": "python",
   "name": "python3"
  },
  "language_info": {
   "codemirror_mode": {
    "name": "ipython",
    "version": 3
   },
   "file_extension": ".py",
   "mimetype": "text/x-python",
   "name": "python",
   "nbconvert_exporter": "python",
   "pygments_lexer": "ipython3",
   "version": "3.9.1"
  }
 },
 "nbformat": 4,
 "nbformat_minor": 4
}
