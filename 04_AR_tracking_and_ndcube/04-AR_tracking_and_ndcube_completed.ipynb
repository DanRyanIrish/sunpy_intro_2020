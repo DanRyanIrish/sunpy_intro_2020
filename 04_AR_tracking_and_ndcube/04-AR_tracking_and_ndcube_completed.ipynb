{
 "cells": [
  {
   "cell_type": "markdown",
   "metadata": {},
   "source": [
    "# Tracking AR 12970 and creating an ndcube\n",
    "\n",
    "In this example we will attempt to find AR 12790, download HMI and AIA 193 data for it, track the AR in carrington coordinates and then create an animation of a composite image.\n",
    "\n",
    "\n",
    "To install ndcube run: `pip install \"ndcube>=2.0.0b1\"`"
   ]
  },
  {
   "cell_type": "code",
   "execution_count": 53,
   "metadata": {},
   "outputs": [],
   "source": [
    "import copy\n",
    "\n",
    "import numpy as np\n",
    "import matplotlib.pyplot as plt\n",
    "\n",
    "from tqdm.notebook import tqdm\n",
    "\n",
    "import astropy.units as u\n",
    "from astropy.coordinates import SkyCoord\n",
    "from astropy.time import Time\n",
    "from astropy.wcs import WCS\n",
    "from reproject import reproject_adaptive, reproject_interp\n",
    "\n",
    "import sunpy.map\n",
    "import sunpy.coordinates\n",
    "from sunpy.net import Fido, attrs as a, hek\n",
    "\n",
    "from ndcube import NDCube"
   ]
  },
  {
   "cell_type": "markdown",
   "metadata": {},
   "source": [
    "## Obtaining the Data"
   ]
  },
  {
   "cell_type": "markdown",
   "metadata": {},
   "source": [
    "Let's start by finding a reference coord for AR 12790"
   ]
  },
  {
   "cell_type": "code",
   "execution_count": 277,
   "metadata": {},
   "outputs": [],
   "source": [
    "hclient = hek.HEKClient()"
   ]
  },
  {
   "cell_type": "code",
   "execution_count": 278,
   "metadata": {},
   "outputs": [],
   "source": [
    "res = hclient.search(hek.attrs.Time(\"2020/11/01\", \"2020/12/17\"),\n",
    "                     hek.attrs.AR,\n",
    "                     hek.attrs.AR.NOAANum == 12790)"
   ]
  },
  {
   "cell_type": "code",
   "execution_count": 279,
   "metadata": {},
   "outputs": [
    {
     "data": {
      "text/html": [
       "<i>HEKTable length=12</i>\n",
       "<table id=\"table139869656990768\" class=\"table-striped table-bordered table-condensed\">\n",
       "<thead><tr><th>ar_noaanum</th><th>event_starttime</th><th>hgc_coord</th></tr></thead>\n",
       "<thead><tr><th>int64</th><th>str19</th><th>str21</th></tr></thead>\n",
       "<tr><td>12790</td><td>2020-12-02T00:00:00</td><td>POINT(-106.60512 -23)</td></tr>\n",
       "<tr><td>12790</td><td>2020-12-03T00:00:00</td><td>POINT(-107.7835 -23)</td></tr>\n",
       "<tr><td>12790</td><td>2020-12-04T00:00:00</td><td>POINT(-106.96162 -22)</td></tr>\n",
       "<tr><td>12790</td><td>2020-12-05T00:00:00</td><td>POINT(-108.13947 -23)</td></tr>\n",
       "<tr><td>12790</td><td>2020-12-06T00:00:00</td><td>POINT(-109.31706 -23)</td></tr>\n",
       "<tr><td>12790</td><td>2020-12-07T00:00:00</td><td>POINT(-108.49438 -23)</td></tr>\n",
       "<tr><td>12790</td><td>2020-12-08T00:00:00</td><td>POINT(-108.67141 -22)</td></tr>\n",
       "<tr><td>12790</td><td>2020-12-09T00:00:00</td><td>POINT(-107.84819 -21)</td></tr>\n",
       "<tr><td>12790</td><td>2020-12-10T00:00:00</td><td>POINT(-108.0247 -23)</td></tr>\n",
       "<tr><td>12790</td><td>2020-12-11T00:00:00</td><td>POINT(-108.20094 -22)</td></tr>\n",
       "<tr><td>12790</td><td>2020-12-12T00:00:00</td><td>POINT(-108.37691 -23)</td></tr>\n",
       "<tr><td>12790</td><td>2020-12-13T00:00:00</td><td>POINT(-107.55261 -23)</td></tr>\n",
       "</table>"
      ],
      "text/plain": [
       "<HEKTable length=12>\n",
       "ar_noaanum   event_starttime         hgc_coord      \n",
       "  int64           str19                str21        \n",
       "---------- ------------------- ---------------------\n",
       "     12790 2020-12-02T00:00:00 POINT(-106.60512 -23)\n",
       "     12790 2020-12-03T00:00:00  POINT(-107.7835 -23)\n",
       "     12790 2020-12-04T00:00:00 POINT(-106.96162 -22)\n",
       "     12790 2020-12-05T00:00:00 POINT(-108.13947 -23)\n",
       "     12790 2020-12-06T00:00:00 POINT(-109.31706 -23)\n",
       "     12790 2020-12-07T00:00:00 POINT(-108.49438 -23)\n",
       "     12790 2020-12-08T00:00:00 POINT(-108.67141 -22)\n",
       "     12790 2020-12-09T00:00:00 POINT(-107.84819 -21)\n",
       "     12790 2020-12-10T00:00:00  POINT(-108.0247 -23)\n",
       "     12790 2020-12-11T00:00:00 POINT(-108.20094 -22)\n",
       "     12790 2020-12-12T00:00:00 POINT(-108.37691 -23)\n",
       "     12790 2020-12-13T00:00:00 POINT(-107.55261 -23)"
      ]
     },
     "execution_count": 279,
     "metadata": {},
     "output_type": "execute_result"
    }
   ],
   "source": [
    "res['ar_noaanum', 'event_starttime', 'hgc_coord']"
   ]
  },
  {
   "cell_type": "code",
   "execution_count": 280,
   "metadata": {},
   "outputs": [],
   "source": [
    "res['hgc_coord'] = SkyCoord(np.float64([c.strip(\"POINT()\").split() for c in res['hgc_coord']]),\n",
    "                            unit=u.deg,\n",
    "                            frame=\"heliographic_carrington\")"
   ]
  },
  {
   "cell_type": "code",
   "execution_count": 281,
   "metadata": {},
   "outputs": [],
   "source": [
    "res['event_starttime'] = Time(res['event_starttime'])"
   ]
  },
  {
   "cell_type": "code",
   "execution_count": 282,
   "metadata": {},
   "outputs": [],
   "source": [
    "ar12790 = res['ar_noaanum', 'event_starttime', 'hgc_coord']"
   ]
  },
  {
   "cell_type": "code",
   "execution_count": 283,
   "metadata": {},
   "outputs": [
    {
     "data": {
      "text/html": [
       "<i>HEKTable length=12</i>\n",
       "<table id=\"table139869942001088\" class=\"table-striped table-bordered table-condensed\">\n",
       "<thead><tr><th>ar_noaanum</th><th>event_starttime</th><th>hgc_coord</th></tr></thead>\n",
       "<thead><tr><th></th><th></th><th>deg,deg,km</th></tr></thead>\n",
       "<thead><tr><th>int64</th><th>object</th><th>object</th></tr></thead>\n",
       "<tr><td>12790</td><td>2020-12-02T00:00:00.000</td><td>253.39488,-23.0,695700.0</td></tr>\n",
       "<tr><td>12790</td><td>2020-12-03T00:00:00.000</td><td>252.2165,-23.0,695700.0</td></tr>\n",
       "<tr><td>12790</td><td>2020-12-04T00:00:00.000</td><td>253.03838000000002,-22.0,695700.0</td></tr>\n",
       "<tr><td>12790</td><td>2020-12-05T00:00:00.000</td><td>251.86052999999998,-23.0,695700.0</td></tr>\n",
       "<tr><td>12790</td><td>2020-12-06T00:00:00.000</td><td>250.68294,-23.0,695700.0</td></tr>\n",
       "<tr><td>12790</td><td>2020-12-07T00:00:00.000</td><td>251.50562,-23.0,695700.0</td></tr>\n",
       "<tr><td>12790</td><td>2020-12-08T00:00:00.000</td><td>251.32859000000002,-22.0,695700.0</td></tr>\n",
       "<tr><td>12790</td><td>2020-12-09T00:00:00.000</td><td>252.15181,-21.0,695700.0</td></tr>\n",
       "<tr><td>12790</td><td>2020-12-10T00:00:00.000</td><td>251.9753,-23.0,695700.0</td></tr>\n",
       "<tr><td>12790</td><td>2020-12-11T00:00:00.000</td><td>251.79906,-22.0,695700.0</td></tr>\n",
       "<tr><td>12790</td><td>2020-12-12T00:00:00.000</td><td>251.62309,-23.0,695700.0</td></tr>\n",
       "<tr><td>12790</td><td>2020-12-13T00:00:00.000</td><td>252.44738999999998,-23.0,695700.0</td></tr>\n",
       "</table>"
      ],
      "text/plain": [
       "<HEKTable length=12>\n",
       "ar_noaanum     event_starttime                 hgc_coord            \n",
       "                                               deg,deg,km           \n",
       "  int64             object                       object             \n",
       "---------- ----------------------- ---------------------------------\n",
       "     12790 2020-12-02T00:00:00.000          253.39488,-23.0,695700.0\n",
       "     12790 2020-12-03T00:00:00.000           252.2165,-23.0,695700.0\n",
       "     12790 2020-12-04T00:00:00.000 253.03838000000002,-22.0,695700.0\n",
       "     12790 2020-12-05T00:00:00.000 251.86052999999998,-23.0,695700.0\n",
       "     12790 2020-12-06T00:00:00.000          250.68294,-23.0,695700.0\n",
       "     12790 2020-12-07T00:00:00.000          251.50562,-23.0,695700.0\n",
       "     12790 2020-12-08T00:00:00.000 251.32859000000002,-22.0,695700.0\n",
       "     12790 2020-12-09T00:00:00.000          252.15181,-21.0,695700.0\n",
       "     12790 2020-12-10T00:00:00.000           251.9753,-23.0,695700.0\n",
       "     12790 2020-12-11T00:00:00.000          251.79906,-22.0,695700.0\n",
       "     12790 2020-12-12T00:00:00.000          251.62309,-23.0,695700.0\n",
       "     12790 2020-12-13T00:00:00.000 252.44738999999998,-23.0,695700.0"
      ]
     },
     "execution_count": 283,
     "metadata": {},
     "output_type": "execute_result"
    }
   ],
   "source": [
    "ar12790"
   ]
  },
  {
   "cell_type": "code",
   "execution_count": 9,
   "metadata": {},
   "outputs": [],
   "source": [
    "start_time, end_time = ar12790['event_starttime'][[0,-1]]"
   ]
  },
  {
   "cell_type": "code",
   "execution_count": 10,
   "metadata": {},
   "outputs": [
    {
     "data": {
      "text/plain": [
       "(<Time object: scale='utc' format='isot' value=2020-12-02T00:00:00.000>,\n",
       " <Time object: scale='utc' format='isot' value=2020-12-13T00:00:00.000>)"
      ]
     },
     "execution_count": 10,
     "metadata": {},
     "output_type": "execute_result"
    }
   ],
   "source": [
    "start_time, end_time"
   ]
  },
  {
   "cell_type": "code",
   "execution_count": 11,
   "metadata": {},
   "outputs": [],
   "source": [
    "hmi = a.Instrument.hmi & a.Physobs.los_magnetic_field\n",
    "aia = a.Instrument.aia & a.Wavelength(19.3 * u.nm)"
   ]
  },
  {
   "cell_type": "code",
   "execution_count": 246,
   "metadata": {},
   "outputs": [],
   "source": [
    "results = Fido.search(a.Time(start_time, end_time), a.Sample(6*u.hour),\n",
    "                      hmi | aia)"
   ]
  },
  {
   "cell_type": "code",
   "execution_count": 247,
   "metadata": {},
   "outputs": [
    {
     "data": {
      "text/html": [
       "Results from 2 Providers:</br></br>44 Results from the VSOClient:</br><i>QTable length=44</i>\n",
       "<table id=\"table139869922466160\" class=\"table-striped table-bordered table-condensed\">\n",
       "<thead><tr><th>Start Time [1]</th><th>End Time [1]</th><th>Source</th><th>Instrument</th><th>Type</th><th>Wavelength [2]</th></tr></thead>\n",
       "<thead><tr><th></th><th></th><th></th><th></th><th></th><th>Angstrom</th></tr></thead>\n",
       "<thead><tr><th>str19</th><th>str19</th><th>str3</th><th>str3</th><th>str8</th><th>float64</th></tr></thead>\n",
       "<tr><td>2020-12-02 00:00:23</td><td>2020-12-02 00:00:24</td><td>SDO</td><td>HMI</td><td>FULLDISK</td><td>6173.0 .. 6174.0</td></tr>\n",
       "<tr><td>2020-12-02 06:00:23</td><td>2020-12-02 06:00:24</td><td>SDO</td><td>HMI</td><td>FULLDISK</td><td>6173.0 .. 6174.0</td></tr>\n",
       "<tr><td>2020-12-02 12:00:23</td><td>2020-12-02 12:00:24</td><td>SDO</td><td>HMI</td><td>FULLDISK</td><td>6173.0 .. 6174.0</td></tr>\n",
       "<tr><td>2020-12-02 18:00:23</td><td>2020-12-02 18:00:24</td><td>SDO</td><td>HMI</td><td>FULLDISK</td><td>6173.0 .. 6174.0</td></tr>\n",
       "<tr><td>2020-12-03 00:00:23</td><td>2020-12-03 00:00:24</td><td>SDO</td><td>HMI</td><td>FULLDISK</td><td>6173.0 .. 6174.0</td></tr>\n",
       "<tr><td>2020-12-03 06:00:23</td><td>2020-12-03 06:00:24</td><td>SDO</td><td>HMI</td><td>FULLDISK</td><td>6173.0 .. 6174.0</td></tr>\n",
       "<tr><td>2020-12-03 12:00:23</td><td>2020-12-03 12:00:24</td><td>SDO</td><td>HMI</td><td>FULLDISK</td><td>6173.0 .. 6174.0</td></tr>\n",
       "<tr><td>2020-12-03 18:00:23</td><td>2020-12-03 18:00:24</td><td>SDO</td><td>HMI</td><td>FULLDISK</td><td>6173.0 .. 6174.0</td></tr>\n",
       "<tr><td>2020-12-04 00:00:23</td><td>2020-12-04 00:00:24</td><td>SDO</td><td>HMI</td><td>FULLDISK</td><td>6173.0 .. 6174.0</td></tr>\n",
       "<tr><td>...</td><td>...</td><td>...</td><td>...</td><td>...</td><td>...</td></tr>\n",
       "<tr><td>2020-12-10 12:00:22</td><td>2020-12-10 12:00:23</td><td>SDO</td><td>HMI</td><td>FULLDISK</td><td>6173.0 .. 6174.0</td></tr>\n",
       "<tr><td>2020-12-10 18:00:22</td><td>2020-12-10 18:00:23</td><td>SDO</td><td>HMI</td><td>FULLDISK</td><td>6173.0 .. 6174.0</td></tr>\n",
       "<tr><td>2020-12-11 00:00:22</td><td>2020-12-11 00:00:23</td><td>SDO</td><td>HMI</td><td>FULLDISK</td><td>6173.0 .. 6174.0</td></tr>\n",
       "<tr><td>2020-12-11 06:00:22</td><td>2020-12-11 06:00:23</td><td>SDO</td><td>HMI</td><td>FULLDISK</td><td>6173.0 .. 6174.0</td></tr>\n",
       "<tr><td>2020-12-11 12:00:22</td><td>2020-12-11 12:00:23</td><td>SDO</td><td>HMI</td><td>FULLDISK</td><td>6173.0 .. 6174.0</td></tr>\n",
       "<tr><td>2020-12-11 18:00:22</td><td>2020-12-11 18:00:23</td><td>SDO</td><td>HMI</td><td>FULLDISK</td><td>6173.0 .. 6174.0</td></tr>\n",
       "<tr><td>2020-12-12 00:00:22</td><td>2020-12-12 00:00:23</td><td>SDO</td><td>HMI</td><td>FULLDISK</td><td>6173.0 .. 6174.0</td></tr>\n",
       "<tr><td>2020-12-12 06:00:22</td><td>2020-12-12 06:00:23</td><td>SDO</td><td>HMI</td><td>FULLDISK</td><td>6173.0 .. 6174.0</td></tr>\n",
       "<tr><td>2020-12-12 12:00:22</td><td>2020-12-12 12:00:23</td><td>SDO</td><td>HMI</td><td>FULLDISK</td><td>6173.0 .. 6174.0</td></tr>\n",
       "<tr><td>2020-12-12 18:00:22</td><td>2020-12-12 18:00:23</td><td>SDO</td><td>HMI</td><td>FULLDISK</td><td>6173.0 .. 6174.0</td></tr>\n",
       "</table></br>44 Results from the VSOClient:</br><i>QTable length=44</i>\n",
       "<table id=\"table139869905893216\" class=\"table-striped table-bordered table-condensed\">\n",
       "<thead><tr><th>Start Time [1]</th><th>End Time [1]</th><th>Source</th><th>Instrument</th><th>Type</th><th>Wavelength [2]</th></tr></thead>\n",
       "<thead><tr><th></th><th></th><th></th><th></th><th></th><th>Angstrom</th></tr></thead>\n",
       "<thead><tr><th>str19</th><th>str19</th><th>str3</th><th>str3</th><th>str8</th><th>float64</th></tr></thead>\n",
       "<tr><td>2020-12-02 00:00:04</td><td>2020-12-02 00:00:05</td><td>SDO</td><td>AIA</td><td>FULLDISK</td><td>193.0 .. 193.0</td></tr>\n",
       "<tr><td>2020-12-02 06:00:04</td><td>2020-12-02 06:00:05</td><td>SDO</td><td>AIA</td><td>FULLDISK</td><td>193.0 .. 193.0</td></tr>\n",
       "<tr><td>2020-12-02 12:00:04</td><td>2020-12-02 12:00:05</td><td>SDO</td><td>AIA</td><td>FULLDISK</td><td>193.0 .. 193.0</td></tr>\n",
       "<tr><td>2020-12-02 18:00:04</td><td>2020-12-02 18:00:05</td><td>SDO</td><td>AIA</td><td>FULLDISK</td><td>193.0 .. 193.0</td></tr>\n",
       "<tr><td>2020-12-03 00:00:04</td><td>2020-12-03 00:00:05</td><td>SDO</td><td>AIA</td><td>FULLDISK</td><td>193.0 .. 193.0</td></tr>\n",
       "<tr><td>2020-12-03 06:00:04</td><td>2020-12-03 06:00:05</td><td>SDO</td><td>AIA</td><td>FULLDISK</td><td>193.0 .. 193.0</td></tr>\n",
       "<tr><td>2020-12-03 12:00:04</td><td>2020-12-03 12:00:05</td><td>SDO</td><td>AIA</td><td>FULLDISK</td><td>193.0 .. 193.0</td></tr>\n",
       "<tr><td>2020-12-03 18:00:04</td><td>2020-12-03 18:00:05</td><td>SDO</td><td>AIA</td><td>FULLDISK</td><td>193.0 .. 193.0</td></tr>\n",
       "<tr><td>2020-12-04 00:00:04</td><td>2020-12-04 00:00:05</td><td>SDO</td><td>AIA</td><td>FULLDISK</td><td>193.0 .. 193.0</td></tr>\n",
       "<tr><td>...</td><td>...</td><td>...</td><td>...</td><td>...</td><td>...</td></tr>\n",
       "<tr><td>2020-12-10 12:00:04</td><td>2020-12-10 12:00:05</td><td>SDO</td><td>AIA</td><td>FULLDISK</td><td>193.0 .. 193.0</td></tr>\n",
       "<tr><td>2020-12-10 18:00:04</td><td>2020-12-10 18:00:05</td><td>SDO</td><td>AIA</td><td>FULLDISK</td><td>193.0 .. 193.0</td></tr>\n",
       "<tr><td>2020-12-11 00:00:04</td><td>2020-12-11 00:00:05</td><td>SDO</td><td>AIA</td><td>FULLDISK</td><td>193.0 .. 193.0</td></tr>\n",
       "<tr><td>2020-12-11 06:00:04</td><td>2020-12-11 06:00:05</td><td>SDO</td><td>AIA</td><td>FULLDISK</td><td>193.0 .. 193.0</td></tr>\n",
       "<tr><td>2020-12-11 12:00:04</td><td>2020-12-11 12:00:05</td><td>SDO</td><td>AIA</td><td>FULLDISK</td><td>193.0 .. 193.0</td></tr>\n",
       "<tr><td>2020-12-11 18:00:04</td><td>2020-12-11 18:00:05</td><td>SDO</td><td>AIA</td><td>FULLDISK</td><td>193.0 .. 193.0</td></tr>\n",
       "<tr><td>2020-12-12 00:00:04</td><td>2020-12-12 00:00:05</td><td>SDO</td><td>AIA</td><td>FULLDISK</td><td>193.0 .. 193.0</td></tr>\n",
       "<tr><td>2020-12-12 06:00:04</td><td>2020-12-12 06:00:05</td><td>SDO</td><td>AIA</td><td>FULLDISK</td><td>193.0 .. 193.0</td></tr>\n",
       "<tr><td>2020-12-12 12:00:04</td><td>2020-12-12 12:00:05</td><td>SDO</td><td>AIA</td><td>FULLDISK</td><td>193.0 .. 193.0</td></tr>\n",
       "<tr><td>2020-12-12 18:00:04</td><td>2020-12-12 18:00:05</td><td>SDO</td><td>AIA</td><td>FULLDISK</td><td>193.0 .. 193.0</td></tr>\n",
       "</table></br>"
      ],
      "text/plain": [
       "<sunpy.net.fido_factory.UnifiedResponse object at 0x7f35f1379d60>\n",
       "Results from 2 Providers:\n",
       "\n",
       "44 Results from the VSOClient:\n",
       "   Start Time [1]       End Time [1]    Source ...   Type    Wavelength [2] \n",
       "                                               ...              Angstrom    \n",
       "------------------- ------------------- ------ ... -------- ----------------\n",
       "2020-12-02 00:00:23 2020-12-02 00:00:24    SDO ... FULLDISK 6173.0 .. 6174.0\n",
       "2020-12-02 06:00:23 2020-12-02 06:00:24    SDO ... FULLDISK 6173.0 .. 6174.0\n",
       "2020-12-02 12:00:23 2020-12-02 12:00:24    SDO ... FULLDISK 6173.0 .. 6174.0\n",
       "2020-12-02 18:00:23 2020-12-02 18:00:24    SDO ... FULLDISK 6173.0 .. 6174.0\n",
       "2020-12-03 00:00:23 2020-12-03 00:00:24    SDO ... FULLDISK 6173.0 .. 6174.0\n",
       "2020-12-03 06:00:23 2020-12-03 06:00:24    SDO ... FULLDISK 6173.0 .. 6174.0\n",
       "2020-12-03 12:00:23 2020-12-03 12:00:24    SDO ... FULLDISK 6173.0 .. 6174.0\n",
       "2020-12-03 18:00:23 2020-12-03 18:00:24    SDO ... FULLDISK 6173.0 .. 6174.0\n",
       "2020-12-04 00:00:23 2020-12-04 00:00:24    SDO ... FULLDISK 6173.0 .. 6174.0\n",
       "2020-12-04 06:00:23 2020-12-04 06:00:24    SDO ... FULLDISK 6173.0 .. 6174.0\n",
       "                ...                 ...    ... ...      ...              ...\n",
       "2020-12-10 12:00:22 2020-12-10 12:00:23    SDO ... FULLDISK 6173.0 .. 6174.0\n",
       "2020-12-10 18:00:22 2020-12-10 18:00:23    SDO ... FULLDISK 6173.0 .. 6174.0\n",
       "2020-12-11 00:00:22 2020-12-11 00:00:23    SDO ... FULLDISK 6173.0 .. 6174.0\n",
       "2020-12-11 06:00:22 2020-12-11 06:00:23    SDO ... FULLDISK 6173.0 .. 6174.0\n",
       "2020-12-11 12:00:22 2020-12-11 12:00:23    SDO ... FULLDISK 6173.0 .. 6174.0\n",
       "2020-12-11 18:00:22 2020-12-11 18:00:23    SDO ... FULLDISK 6173.0 .. 6174.0\n",
       "2020-12-12 00:00:22 2020-12-12 00:00:23    SDO ... FULLDISK 6173.0 .. 6174.0\n",
       "2020-12-12 06:00:22 2020-12-12 06:00:23    SDO ... FULLDISK 6173.0 .. 6174.0\n",
       "2020-12-12 12:00:22 2020-12-12 12:00:23    SDO ... FULLDISK 6173.0 .. 6174.0\n",
       "2020-12-12 18:00:22 2020-12-12 18:00:23    SDO ... FULLDISK 6173.0 .. 6174.0\n",
       "Length = 44 rows\n",
       "\n",
       "44 Results from the VSOClient:\n",
       "   Start Time [1]       End Time [1]    Source ...   Type   Wavelength [2]\n",
       "                                               ...             Angstrom   \n",
       "------------------- ------------------- ------ ... -------- --------------\n",
       "2020-12-02 00:00:04 2020-12-02 00:00:05    SDO ... FULLDISK 193.0 .. 193.0\n",
       "2020-12-02 06:00:04 2020-12-02 06:00:05    SDO ... FULLDISK 193.0 .. 193.0\n",
       "2020-12-02 12:00:04 2020-12-02 12:00:05    SDO ... FULLDISK 193.0 .. 193.0\n",
       "2020-12-02 18:00:04 2020-12-02 18:00:05    SDO ... FULLDISK 193.0 .. 193.0\n",
       "2020-12-03 00:00:04 2020-12-03 00:00:05    SDO ... FULLDISK 193.0 .. 193.0\n",
       "2020-12-03 06:00:04 2020-12-03 06:00:05    SDO ... FULLDISK 193.0 .. 193.0\n",
       "2020-12-03 12:00:04 2020-12-03 12:00:05    SDO ... FULLDISK 193.0 .. 193.0\n",
       "2020-12-03 18:00:04 2020-12-03 18:00:05    SDO ... FULLDISK 193.0 .. 193.0\n",
       "2020-12-04 00:00:04 2020-12-04 00:00:05    SDO ... FULLDISK 193.0 .. 193.0\n",
       "2020-12-04 06:00:04 2020-12-04 06:00:05    SDO ... FULLDISK 193.0 .. 193.0\n",
       "                ...                 ...    ... ...      ...            ...\n",
       "2020-12-10 12:00:04 2020-12-10 12:00:05    SDO ... FULLDISK 193.0 .. 193.0\n",
       "2020-12-10 18:00:04 2020-12-10 18:00:05    SDO ... FULLDISK 193.0 .. 193.0\n",
       "2020-12-11 00:00:04 2020-12-11 00:00:05    SDO ... FULLDISK 193.0 .. 193.0\n",
       "2020-12-11 06:00:04 2020-12-11 06:00:05    SDO ... FULLDISK 193.0 .. 193.0\n",
       "2020-12-11 12:00:04 2020-12-11 12:00:05    SDO ... FULLDISK 193.0 .. 193.0\n",
       "2020-12-11 18:00:04 2020-12-11 18:00:05    SDO ... FULLDISK 193.0 .. 193.0\n",
       "2020-12-12 00:00:04 2020-12-12 00:00:05    SDO ... FULLDISK 193.0 .. 193.0\n",
       "2020-12-12 06:00:04 2020-12-12 06:00:05    SDO ... FULLDISK 193.0 .. 193.0\n",
       "2020-12-12 12:00:04 2020-12-12 12:00:05    SDO ... FULLDISK 193.0 .. 193.0\n",
       "2020-12-12 18:00:04 2020-12-12 18:00:05    SDO ... FULLDISK 193.0 .. 193.0\n",
       "Length = 44 rows\n"
      ]
     },
     "execution_count": 247,
     "metadata": {},
     "output_type": "execute_result"
    }
   ],
   "source": [
    "results"
   ]
  },
  {
   "cell_type": "code",
   "execution_count": 248,
   "metadata": {},
   "outputs": [
    {
     "data": {
      "application/vnd.jupyter.widget-view+json": {
       "model_id": "41d132b905854513988b8aa0026fdaee",
       "version_major": 2,
       "version_minor": 0
      },
      "text/plain": [
       "HBox(children=(HTML(value='Files Downloaded'), FloatProgress(value=0.0, max=88.0), HTML(value='')))"
      ]
     },
     "metadata": {},
     "output_type": "display_data"
    },
    {
     "data": {
      "application/vnd.jupyter.widget-view+json": {
       "model_id": "",
       "version_major": 2,
       "version_minor": 0
      },
      "text/plain": [
       "HBox(children=(HTML(value='hmi_m_45s_2020_12_02_06_01_30_tai_magnetogram.fits'), FloatProgress(value=0.0, max=…"
      ]
     },
     "metadata": {},
     "output_type": "display_data"
    },
    {
     "data": {
      "application/vnd.jupyter.widget-view+json": {
       "model_id": "",
       "version_major": 2,
       "version_minor": 0
      },
      "text/plain": [
       "HBox(children=(HTML(value='hmi_m_45s_2020_12_02_18_01_30_tai_magnetogram.fits'), FloatProgress(value=0.0, max=…"
      ]
     },
     "metadata": {},
     "output_type": "display_data"
    },
    {
     "data": {
      "application/vnd.jupyter.widget-view+json": {
       "model_id": "",
       "version_major": 2,
       "version_minor": 0
      },
      "text/plain": [
       "HBox(children=(HTML(value='hmi_m_45s_2020_12_02_12_01_30_tai_magnetogram.fits'), FloatProgress(value=0.0, max=…"
      ]
     },
     "metadata": {},
     "output_type": "display_data"
    },
    {
     "data": {
      "application/vnd.jupyter.widget-view+json": {
       "model_id": "",
       "version_major": 2,
       "version_minor": 0
      },
      "text/plain": [
       "HBox(children=(HTML(value='hmi_m_45s_2020_12_03_06_01_30_tai_magnetogram.fits'), FloatProgress(value=0.0, max=…"
      ]
     },
     "metadata": {},
     "output_type": "display_data"
    },
    {
     "data": {
      "application/vnd.jupyter.widget-view+json": {
       "model_id": "",
       "version_major": 2,
       "version_minor": 0
      },
      "text/plain": [
       "HBox(children=(HTML(value='hmi_m_45s_2020_12_03_12_01_30_tai_magnetogram.fits'), FloatProgress(value=0.0, max=…"
      ]
     },
     "metadata": {},
     "output_type": "display_data"
    },
    {
     "data": {
      "application/vnd.jupyter.widget-view+json": {
       "model_id": "",
       "version_major": 2,
       "version_minor": 0
      },
      "text/plain": [
       "HBox(children=(HTML(value='hmi_m_45s_2020_12_03_18_01_30_tai_magnetogram.fits'), FloatProgress(value=0.0, max=…"
      ]
     },
     "metadata": {},
     "output_type": "display_data"
    },
    {
     "data": {
      "application/vnd.jupyter.widget-view+json": {
       "model_id": "",
       "version_major": 2,
       "version_minor": 0
      },
      "text/plain": [
       "HBox(children=(HTML(value='hmi_m_45s_2020_12_04_06_01_30_tai_magnetogram.fits'), FloatProgress(value=0.0, max=…"
      ]
     },
     "metadata": {},
     "output_type": "display_data"
    },
    {
     "data": {
      "application/vnd.jupyter.widget-view+json": {
       "model_id": "",
       "version_major": 2,
       "version_minor": 0
      },
      "text/plain": [
       "HBox(children=(HTML(value='hmi_m_45s_2020_12_04_12_01_30_tai_magnetogram.fits'), FloatProgress(value=0.0, max=…"
      ]
     },
     "metadata": {},
     "output_type": "display_data"
    },
    {
     "data": {
      "application/vnd.jupyter.widget-view+json": {
       "model_id": "",
       "version_major": 2,
       "version_minor": 0
      },
      "text/plain": [
       "HBox(children=(HTML(value='hmi_m_45s_2020_12_04_18_01_30_tai_magnetogram.fits'), FloatProgress(value=0.0, max=…"
      ]
     },
     "metadata": {},
     "output_type": "display_data"
    },
    {
     "data": {
      "application/vnd.jupyter.widget-view+json": {
       "model_id": "",
       "version_major": 2,
       "version_minor": 0
      },
      "text/plain": [
       "HBox(children=(HTML(value='hmi_m_45s_2020_12_05_06_01_30_tai_magnetogram.fits'), FloatProgress(value=0.0, max=…"
      ]
     },
     "metadata": {},
     "output_type": "display_data"
    },
    {
     "data": {
      "application/vnd.jupyter.widget-view+json": {
       "model_id": "",
       "version_major": 2,
       "version_minor": 0
      },
      "text/plain": [
       "HBox(children=(HTML(value='hmi_m_45s_2020_12_05_12_01_30_tai_magnetogram.fits'), FloatProgress(value=0.0, max=…"
      ]
     },
     "metadata": {},
     "output_type": "display_data"
    },
    {
     "data": {
      "application/vnd.jupyter.widget-view+json": {
       "model_id": "",
       "version_major": 2,
       "version_minor": 0
      },
      "text/plain": [
       "HBox(children=(HTML(value='hmi_m_45s_2020_12_05_18_01_30_tai_magnetogram.fits'), FloatProgress(value=0.0, max=…"
      ]
     },
     "metadata": {},
     "output_type": "display_data"
    },
    {
     "data": {
      "application/vnd.jupyter.widget-view+json": {
       "model_id": "",
       "version_major": 2,
       "version_minor": 0
      },
      "text/plain": [
       "HBox(children=(HTML(value='hmi_m_45s_2020_12_06_12_01_30_tai_magnetogram.fits'), FloatProgress(value=0.0, max=…"
      ]
     },
     "metadata": {},
     "output_type": "display_data"
    },
    {
     "data": {
      "application/vnd.jupyter.widget-view+json": {
       "model_id": "",
       "version_major": 2,
       "version_minor": 0
      },
      "text/plain": [
       "HBox(children=(HTML(value='hmi_m_45s_2020_12_06_18_01_30_tai_magnetogram.fits'), FloatProgress(value=0.0, max=…"
      ]
     },
     "metadata": {},
     "output_type": "display_data"
    },
    {
     "data": {
      "application/vnd.jupyter.widget-view+json": {
       "model_id": "",
       "version_major": 2,
       "version_minor": 0
      },
      "text/plain": [
       "HBox(children=(HTML(value='hmi_m_45s_2020_12_06_06_01_30_tai_magnetogram.fits'), FloatProgress(value=0.0, max=…"
      ]
     },
     "metadata": {},
     "output_type": "display_data"
    },
    {
     "data": {
      "application/vnd.jupyter.widget-view+json": {
       "model_id": "",
       "version_major": 2,
       "version_minor": 0
      },
      "text/plain": [
       "HBox(children=(HTML(value='hmi_m_45s_2020_12_07_06_01_30_tai_magnetogram.fits'), FloatProgress(value=0.0, max=…"
      ]
     },
     "metadata": {},
     "output_type": "display_data"
    },
    {
     "data": {
      "application/vnd.jupyter.widget-view+json": {
       "model_id": "",
       "version_major": 2,
       "version_minor": 0
      },
      "text/plain": [
       "HBox(children=(HTML(value='hmi_m_45s_2020_12_07_12_01_30_tai_magnetogram.fits'), FloatProgress(value=0.0, max=…"
      ]
     },
     "metadata": {},
     "output_type": "display_data"
    },
    {
     "data": {
      "application/vnd.jupyter.widget-view+json": {
       "model_id": "",
       "version_major": 2,
       "version_minor": 0
      },
      "text/plain": [
       "HBox(children=(HTML(value='hmi_m_45s_2020_12_08_12_01_30_tai_magnetogram.fits'), FloatProgress(value=0.0, max=…"
      ]
     },
     "metadata": {},
     "output_type": "display_data"
    },
    {
     "data": {
      "application/vnd.jupyter.widget-view+json": {
       "model_id": "",
       "version_major": 2,
       "version_minor": 0
      },
      "text/plain": [
       "HBox(children=(HTML(value='hmi_m_45s_2020_12_08_06_01_30_tai_magnetogram.fits'), FloatProgress(value=0.0, max=…"
      ]
     },
     "metadata": {},
     "output_type": "display_data"
    },
    {
     "data": {
      "application/vnd.jupyter.widget-view+json": {
       "model_id": "",
       "version_major": 2,
       "version_minor": 0
      },
      "text/plain": [
       "HBox(children=(HTML(value='hmi_m_45s_2020_12_07_18_01_30_tai_magnetogram.fits'), FloatProgress(value=0.0, max=…"
      ]
     },
     "metadata": {},
     "output_type": "display_data"
    },
    {
     "data": {
      "application/vnd.jupyter.widget-view+json": {
       "model_id": "",
       "version_major": 2,
       "version_minor": 0
      },
      "text/plain": [
       "HBox(children=(HTML(value='hmi_m_45s_2020_12_08_18_01_30_tai_magnetogram.fits'), FloatProgress(value=0.0, max=…"
      ]
     },
     "metadata": {},
     "output_type": "display_data"
    },
    {
     "data": {
      "application/vnd.jupyter.widget-view+json": {
       "model_id": "",
       "version_major": 2,
       "version_minor": 0
      },
      "text/plain": [
       "HBox(children=(HTML(value='hmi_m_45s_2020_12_09_06_01_30_tai_magnetogram.fits'), FloatProgress(value=0.0, max=…"
      ]
     },
     "metadata": {},
     "output_type": "display_data"
    },
    {
     "data": {
      "application/vnd.jupyter.widget-view+json": {
       "model_id": "",
       "version_major": 2,
       "version_minor": 0
      },
      "text/plain": [
       "HBox(children=(HTML(value='hmi_m_45s_2020_12_09_12_01_30_tai_magnetogram.fits'), FloatProgress(value=0.0, max=…"
      ]
     },
     "metadata": {},
     "output_type": "display_data"
    },
    {
     "data": {
      "application/vnd.jupyter.widget-view+json": {
       "model_id": "",
       "version_major": 2,
       "version_minor": 0
      },
      "text/plain": [
       "HBox(children=(HTML(value='hmi_m_45s_2020_12_09_18_01_30_tai_magnetogram.fits'), FloatProgress(value=0.0, max=…"
      ]
     },
     "metadata": {},
     "output_type": "display_data"
    },
    {
     "data": {
      "application/vnd.jupyter.widget-view+json": {
       "model_id": "",
       "version_major": 2,
       "version_minor": 0
      },
      "text/plain": [
       "HBox(children=(HTML(value='hmi_m_45s_2020_12_10_06_01_30_tai_magnetogram.fits'), FloatProgress(value=0.0, max=…"
      ]
     },
     "metadata": {},
     "output_type": "display_data"
    },
    {
     "data": {
      "application/vnd.jupyter.widget-view+json": {
       "model_id": "",
       "version_major": 2,
       "version_minor": 0
      },
      "text/plain": [
       "HBox(children=(HTML(value='hmi_m_45s_2020_12_10_12_01_30_tai_magnetogram.fits'), FloatProgress(value=0.0, max=…"
      ]
     },
     "metadata": {},
     "output_type": "display_data"
    },
    {
     "data": {
      "application/vnd.jupyter.widget-view+json": {
       "model_id": "",
       "version_major": 2,
       "version_minor": 0
      },
      "text/plain": [
       "HBox(children=(HTML(value='hmi_m_45s_2020_12_10_18_01_30_tai_magnetogram.fits'), FloatProgress(value=0.0, max=…"
      ]
     },
     "metadata": {},
     "output_type": "display_data"
    },
    {
     "data": {
      "application/vnd.jupyter.widget-view+json": {
       "model_id": "",
       "version_major": 2,
       "version_minor": 0
      },
      "text/plain": [
       "HBox(children=(HTML(value='hmi_m_45s_2020_12_11_06_01_30_tai_magnetogram.fits'), FloatProgress(value=0.0, max=…"
      ]
     },
     "metadata": {},
     "output_type": "display_data"
    },
    {
     "data": {
      "application/vnd.jupyter.widget-view+json": {
       "model_id": "",
       "version_major": 2,
       "version_minor": 0
      },
      "text/plain": [
       "HBox(children=(HTML(value='hmi_m_45s_2020_12_11_12_01_30_tai_magnetogram.fits'), FloatProgress(value=0.0, max=…"
      ]
     },
     "metadata": {},
     "output_type": "display_data"
    },
    {
     "data": {
      "application/vnd.jupyter.widget-view+json": {
       "model_id": "",
       "version_major": 2,
       "version_minor": 0
      },
      "text/plain": [
       "HBox(children=(HTML(value='hmi_m_45s_2020_12_11_18_01_30_tai_magnetogram.fits'), FloatProgress(value=0.0, max=…"
      ]
     },
     "metadata": {},
     "output_type": "display_data"
    },
    {
     "data": {
      "application/vnd.jupyter.widget-view+json": {
       "model_id": "",
       "version_major": 2,
       "version_minor": 0
      },
      "text/plain": [
       "HBox(children=(HTML(value='hmi_m_45s_2020_12_12_06_01_30_tai_magnetogram.fits'), FloatProgress(value=0.0, max=…"
      ]
     },
     "metadata": {},
     "output_type": "display_data"
    },
    {
     "data": {
      "application/vnd.jupyter.widget-view+json": {
       "model_id": "",
       "version_major": 2,
       "version_minor": 0
      },
      "text/plain": [
       "HBox(children=(HTML(value='hmi_m_45s_2020_12_12_12_01_30_tai_magnetogram.fits'), FloatProgress(value=0.0, max=…"
      ]
     },
     "metadata": {},
     "output_type": "display_data"
    },
    {
     "data": {
      "application/vnd.jupyter.widget-view+json": {
       "model_id": "",
       "version_major": 2,
       "version_minor": 0
      },
      "text/plain": [
       "HBox(children=(HTML(value='hmi_m_45s_2020_12_12_18_01_30_tai_magnetogram.fits'), FloatProgress(value=0.0, max=…"
      ]
     },
     "metadata": {},
     "output_type": "display_data"
    },
    {
     "data": {
      "application/vnd.jupyter.widget-view+json": {
       "model_id": "",
       "version_major": 2,
       "version_minor": 0
      },
      "text/plain": [
       "HBox(children=(HTML(value='aia_lev1_193a_2020_12_02t06_00_04_85z_image_lev1.fits'), FloatProgress(value=0.0, m…"
      ]
     },
     "metadata": {},
     "output_type": "display_data"
    },
    {
     "data": {
      "application/vnd.jupyter.widget-view+json": {
       "model_id": "",
       "version_major": 2,
       "version_minor": 0
      },
      "text/plain": [
       "HBox(children=(HTML(value='aia_lev1_193a_2020_12_02t18_00_04_84z_image_lev1.fits'), FloatProgress(value=0.0, m…"
      ]
     },
     "metadata": {},
     "output_type": "display_data"
    },
    {
     "data": {
      "application/vnd.jupyter.widget-view+json": {
       "model_id": "",
       "version_major": 2,
       "version_minor": 0
      },
      "text/plain": [
       "HBox(children=(HTML(value='aia_lev1_193a_2020_12_02t12_00_04_84z_image_lev1.fits'), FloatProgress(value=0.0, m…"
      ]
     },
     "metadata": {},
     "output_type": "display_data"
    },
    {
     "data": {
      "application/vnd.jupyter.widget-view+json": {
       "model_id": "",
       "version_major": 2,
       "version_minor": 0
      },
      "text/plain": [
       "HBox(children=(HTML(value='aia_lev1_193a_2020_12_03t06_00_04_84z_image_lev1.fits'), FloatProgress(value=0.0, m…"
      ]
     },
     "metadata": {},
     "output_type": "display_data"
    },
    {
     "data": {
      "application/vnd.jupyter.widget-view+json": {
       "model_id": "",
       "version_major": 2,
       "version_minor": 0
      },
      "text/plain": [
       "HBox(children=(HTML(value='aia_lev1_193a_2020_12_03t12_00_04_84z_image_lev1.fits'), FloatProgress(value=0.0, m…"
      ]
     },
     "metadata": {},
     "output_type": "display_data"
    },
    {
     "data": {
      "application/vnd.jupyter.widget-view+json": {
       "model_id": "",
       "version_major": 2,
       "version_minor": 0
      },
      "text/plain": [
       "HBox(children=(HTML(value='aia_lev1_193a_2020_12_03t18_00_04_84z_image_lev1.fits'), FloatProgress(value=0.0, m…"
      ]
     },
     "metadata": {},
     "output_type": "display_data"
    },
    {
     "data": {
      "application/vnd.jupyter.widget-view+json": {
       "model_id": "",
       "version_major": 2,
       "version_minor": 0
      },
      "text/plain": [
       "HBox(children=(HTML(value='aia_lev1_193a_2020_12_04t06_00_04_84z_image_lev1.fits'), FloatProgress(value=0.0, m…"
      ]
     },
     "metadata": {},
     "output_type": "display_data"
    },
    {
     "data": {
      "application/vnd.jupyter.widget-view+json": {
       "model_id": "",
       "version_major": 2,
       "version_minor": 0
      },
      "text/plain": [
       "HBox(children=(HTML(value='aia_lev1_193a_2020_12_04t12_00_04_84z_image_lev1.fits'), FloatProgress(value=0.0, m…"
      ]
     },
     "metadata": {},
     "output_type": "display_data"
    },
    {
     "data": {
      "application/vnd.jupyter.widget-view+json": {
       "model_id": "",
       "version_major": 2,
       "version_minor": 0
      },
      "text/plain": [
       "HBox(children=(HTML(value='aia_lev1_193a_2020_12_04t18_00_04_84z_image_lev1.fits'), FloatProgress(value=0.0, m…"
      ]
     },
     "metadata": {},
     "output_type": "display_data"
    },
    {
     "data": {
      "application/vnd.jupyter.widget-view+json": {
       "model_id": "",
       "version_major": 2,
       "version_minor": 0
      },
      "text/plain": [
       "HBox(children=(HTML(value='aia_lev1_193a_2020_12_05t06_00_04_84z_image_lev1.fits'), FloatProgress(value=0.0, m…"
      ]
     },
     "metadata": {},
     "output_type": "display_data"
    },
    {
     "data": {
      "application/vnd.jupyter.widget-view+json": {
       "model_id": "",
       "version_major": 2,
       "version_minor": 0
      },
      "text/plain": [
       "HBox(children=(HTML(value='aia_lev1_193a_2020_12_05t12_00_04_84z_image_lev1.fits'), FloatProgress(value=0.0, m…"
      ]
     },
     "metadata": {},
     "output_type": "display_data"
    },
    {
     "data": {
      "application/vnd.jupyter.widget-view+json": {
       "model_id": "",
       "version_major": 2,
       "version_minor": 0
      },
      "text/plain": [
       "HBox(children=(HTML(value='aia_lev1_193a_2020_12_05t18_00_04_84z_image_lev1.fits'), FloatProgress(value=0.0, m…"
      ]
     },
     "metadata": {},
     "output_type": "display_data"
    },
    {
     "data": {
      "application/vnd.jupyter.widget-view+json": {
       "model_id": "",
       "version_major": 2,
       "version_minor": 0
      },
      "text/plain": [
       "HBox(children=(HTML(value='aia_lev1_193a_2020_12_06t06_00_04_84z_image_lev1.fits'), FloatProgress(value=0.0, m…"
      ]
     },
     "metadata": {},
     "output_type": "display_data"
    },
    {
     "data": {
      "application/vnd.jupyter.widget-view+json": {
       "model_id": "",
       "version_major": 2,
       "version_minor": 0
      },
      "text/plain": [
       "HBox(children=(HTML(value='aia_lev1_193a_2020_12_06t12_00_04_84z_image_lev1.fits'), FloatProgress(value=0.0, m…"
      ]
     },
     "metadata": {},
     "output_type": "display_data"
    },
    {
     "data": {
      "application/vnd.jupyter.widget-view+json": {
       "model_id": "",
       "version_major": 2,
       "version_minor": 0
      },
      "text/plain": [
       "HBox(children=(HTML(value='aia_lev1_193a_2020_12_06t18_00_04_84z_image_lev1.fits'), FloatProgress(value=0.0, m…"
      ]
     },
     "metadata": {},
     "output_type": "display_data"
    },
    {
     "data": {
      "application/vnd.jupyter.widget-view+json": {
       "model_id": "",
       "version_major": 2,
       "version_minor": 0
      },
      "text/plain": [
       "HBox(children=(HTML(value='aia_lev1_193a_2020_12_07t06_00_04_83z_image_lev1.fits'), FloatProgress(value=0.0, m…"
      ]
     },
     "metadata": {},
     "output_type": "display_data"
    },
    {
     "data": {
      "application/vnd.jupyter.widget-view+json": {
       "model_id": "",
       "version_major": 2,
       "version_minor": 0
      },
      "text/plain": [
       "HBox(children=(HTML(value='aia_lev1_193a_2020_12_07t12_00_04_84z_image_lev1.fits'), FloatProgress(value=0.0, m…"
      ]
     },
     "metadata": {},
     "output_type": "display_data"
    },
    {
     "data": {
      "application/vnd.jupyter.widget-view+json": {
       "model_id": "",
       "version_major": 2,
       "version_minor": 0
      },
      "text/plain": [
       "HBox(children=(HTML(value='aia_lev1_193a_2020_12_07t18_00_04_84z_image_lev1.fits'), FloatProgress(value=0.0, m…"
      ]
     },
     "metadata": {},
     "output_type": "display_data"
    },
    {
     "data": {
      "application/vnd.jupyter.widget-view+json": {
       "model_id": "",
       "version_major": 2,
       "version_minor": 0
      },
      "text/plain": [
       "HBox(children=(HTML(value='aia_lev1_193a_2020_12_08t06_00_04_84z_image_lev1.fits'), FloatProgress(value=0.0, m…"
      ]
     },
     "metadata": {},
     "output_type": "display_data"
    },
    {
     "data": {
      "application/vnd.jupyter.widget-view+json": {
       "model_id": "",
       "version_major": 2,
       "version_minor": 0
      },
      "text/plain": [
       "HBox(children=(HTML(value='aia_lev1_193a_2020_12_08t12_00_04_85z_image_lev1.fits'), FloatProgress(value=0.0, m…"
      ]
     },
     "metadata": {},
     "output_type": "display_data"
    },
    {
     "data": {
      "application/vnd.jupyter.widget-view+json": {
       "model_id": "",
       "version_major": 2,
       "version_minor": 0
      },
      "text/plain": [
       "HBox(children=(HTML(value='aia_lev1_193a_2020_12_08t18_00_04_84z_image_lev1.fits'), FloatProgress(value=0.0, m…"
      ]
     },
     "metadata": {},
     "output_type": "display_data"
    },
    {
     "data": {
      "application/vnd.jupyter.widget-view+json": {
       "model_id": "",
       "version_major": 2,
       "version_minor": 0
      },
      "text/plain": [
       "HBox(children=(HTML(value='aia_lev1_193a_2020_12_09t06_00_04_84z_image_lev1.fits'), FloatProgress(value=0.0, m…"
      ]
     },
     "metadata": {},
     "output_type": "display_data"
    },
    {
     "data": {
      "application/vnd.jupyter.widget-view+json": {
       "model_id": "",
       "version_major": 2,
       "version_minor": 0
      },
      "text/plain": [
       "HBox(children=(HTML(value='aia_lev1_193a_2020_12_09t12_00_04_84z_image_lev1.fits'), FloatProgress(value=0.0, m…"
      ]
     },
     "metadata": {},
     "output_type": "display_data"
    },
    {
     "data": {
      "application/vnd.jupyter.widget-view+json": {
       "model_id": "",
       "version_major": 2,
       "version_minor": 0
      },
      "text/plain": [
       "HBox(children=(HTML(value='aia_lev1_193a_2020_12_09t18_00_04_84z_image_lev1.fits'), FloatProgress(value=0.0, m…"
      ]
     },
     "metadata": {},
     "output_type": "display_data"
    },
    {
     "data": {
      "application/vnd.jupyter.widget-view+json": {
       "model_id": "",
       "version_major": 2,
       "version_minor": 0
      },
      "text/plain": [
       "HBox(children=(HTML(value='aia_lev1_193a_2020_12_10t06_00_04_84z_image_lev1.fits'), FloatProgress(value=0.0, m…"
      ]
     },
     "metadata": {},
     "output_type": "display_data"
    },
    {
     "data": {
      "application/vnd.jupyter.widget-view+json": {
       "model_id": "",
       "version_major": 2,
       "version_minor": 0
      },
      "text/plain": [
       "HBox(children=(HTML(value='aia_lev1_193a_2020_12_10t12_00_04_84z_image_lev1.fits'), FloatProgress(value=0.0, m…"
      ]
     },
     "metadata": {},
     "output_type": "display_data"
    },
    {
     "data": {
      "application/vnd.jupyter.widget-view+json": {
       "model_id": "",
       "version_major": 2,
       "version_minor": 0
      },
      "text/plain": [
       "HBox(children=(HTML(value='aia_lev1_193a_2020_12_10t18_00_04_84z_image_lev1.fits'), FloatProgress(value=0.0, m…"
      ]
     },
     "metadata": {},
     "output_type": "display_data"
    },
    {
     "data": {
      "application/vnd.jupyter.widget-view+json": {
       "model_id": "",
       "version_major": 2,
       "version_minor": 0
      },
      "text/plain": [
       "HBox(children=(HTML(value='aia_lev1_193a_2020_12_11t06_00_04_84z_image_lev1.fits'), FloatProgress(value=0.0, m…"
      ]
     },
     "metadata": {},
     "output_type": "display_data"
    },
    {
     "data": {
      "application/vnd.jupyter.widget-view+json": {
       "model_id": "",
       "version_major": 2,
       "version_minor": 0
      },
      "text/plain": [
       "HBox(children=(HTML(value='aia_lev1_193a_2020_12_11t12_00_04_84z_image_lev1.fits'), FloatProgress(value=0.0, m…"
      ]
     },
     "metadata": {},
     "output_type": "display_data"
    },
    {
     "data": {
      "application/vnd.jupyter.widget-view+json": {
       "model_id": "",
       "version_major": 2,
       "version_minor": 0
      },
      "text/plain": [
       "HBox(children=(HTML(value='aia_lev1_193a_2020_12_11t18_00_04_84z_image_lev1.fits'), FloatProgress(value=0.0, m…"
      ]
     },
     "metadata": {},
     "output_type": "display_data"
    },
    {
     "data": {
      "application/vnd.jupyter.widget-view+json": {
       "model_id": "",
       "version_major": 2,
       "version_minor": 0
      },
      "text/plain": [
       "HBox(children=(HTML(value='aia_lev1_193a_2020_12_12t06_00_04_85z_image_lev1.fits'), FloatProgress(value=0.0, m…"
      ]
     },
     "metadata": {},
     "output_type": "display_data"
    },
    {
     "data": {
      "application/vnd.jupyter.widget-view+json": {
       "model_id": "",
       "version_major": 2,
       "version_minor": 0
      },
      "text/plain": [
       "HBox(children=(HTML(value='aia_lev1_193a_2020_12_12t12_00_04_84z_image_lev1.fits'), FloatProgress(value=0.0, m…"
      ]
     },
     "metadata": {},
     "output_type": "display_data"
    },
    {
     "data": {
      "application/vnd.jupyter.widget-view+json": {
       "model_id": "",
       "version_major": 2,
       "version_minor": 0
      },
      "text/plain": [
       "HBox(children=(HTML(value='aia_lev1_193a_2020_12_12t18_00_04_84z_image_lev1.fits'), FloatProgress(value=0.0, m…"
      ]
     },
     "metadata": {},
     "output_type": "display_data"
    },
    {
     "name": "stdout",
     "output_type": "stream",
     "text": [
      "\n"
     ]
    }
   ],
   "source": [
    "files = Fido.fetch(results, path=\"~/psi_data/12790/{instrument}/\")"
   ]
  },
  {
   "cell_type": "code",
   "execution_count": 259,
   "metadata": {},
   "outputs": [
    {
     "data": {
      "text/plain": [
       "<parfive.results.Results object at 0x7f360109ea90>\n",
       "['/home/stuart/psi_data/12790/HMI/hmi_m_45s_2020_12_07_00_01_30_tai_magnetogram.fits', '/home/stuart/psi_data/12790/HMI/hmi_m_45s_2020_12_10_00_01_30_tai_magnetogram.fits', '/home/stuart/psi_data/12790/AIA/aia_lev1_193a_2020_12_04t06_00_04_84z_image_lev1.fits', '/home/stuart/psi_data/12790/HMI/hmi_m_45s_2020_12_08_00_01_30_tai_magnetogram.fits', '/home/stuart/psi_data/12790/HMI/hmi_m_45s_2020_12_11_06_01_30_tai_magnetogram.fits', '/home/stuart/psi_data/12790/AIA/aia_lev1_193a_2020_12_04t18_00_04_84z_image_lev1.fits', '/home/stuart/psi_data/12790/AIA/aia_lev1_193a_2020_12_08t18_00_04_84z_image_lev1.fits', '/home/stuart/psi_data/12790/HMI/hmi_m_45s_2020_12_06_06_01_30_tai_magnetogram.fits', '/home/stuart/psi_data/12790/HMI/hmi_m_45s_2020_12_09_00_01_30_tai_magnetogram.fits', '/home/stuart/psi_data/12790/AIA/aia_lev1_193a_2020_12_09t12_00_04_84z_image_lev1.fits', '/home/stuart/psi_data/12790/AIA/aia_lev1_193a_2020_12_09t18_00_04_84z_image_lev1.fits', '/home/stuart/psi_data/12790/HMI/hmi_m_45s_2020_12_05_06_01_30_tai_magnetogram.fits', '/home/stuart/psi_data/12790/HMI/hmi_m_45s_2020_12_12_00_01_30_tai_magnetogram.fits', '/home/stuart/psi_data/12790/AIA/aia_lev1_193a_2020_12_02t12_00_04_84z_image_lev1.fits', '/home/stuart/psi_data/12790/AIA/aia_lev1_193a_2020_12_07t18_00_04_84z_image_lev1.fits', '/home/stuart/psi_data/12790/HMI/hmi_m_45s_2020_12_06_18_01_30_tai_magnetogram.fits', '/home/stuart/psi_data/12790/HMI/hmi_m_45s_2020_12_11_00_01_30_tai_magnetogram.fits', '/home/stuart/psi_data/12790/HMI/hmi_m_45s_2020_12_12_18_01_30_tai_magnetogram.fits', '/home/stuart/psi_data/12790/AIA/aia_lev1_193a_2020_12_11t06_00_04_84z_image_lev1.fits', '/home/stuart/psi_data/12790/HMI/hmi_m_45s_2020_12_08_06_01_30_tai_magnetogram.fits', '/home/stuart/psi_data/12790/AIA/aia_lev1_193a_2020_12_03t00_00_04_85z_image_lev1.fits', '/home/stuart/psi_data/12790/AIA/aia_lev1_193a_2020_12_09t00_00_04_84z_image_lev1.fits', '/home/stuart/psi_data/12790/AIA/aia_lev1_193a_2020_12_12t00_00_04_84z_image_lev1.fits', '/home/stuart/psi_data/12790/HMI/hmi_m_45s_2020_12_08_12_01_30_tai_magnetogram.fits', '/home/stuart/psi_data/12790/AIA/aia_lev1_193a_2020_12_02t00_00_04_83z_image_lev1.fits', '/home/stuart/psi_data/12790/AIA/aia_lev1_193a_2020_12_07t00_00_04_84z_image_lev1.fits', '/home/stuart/psi_data/12790/AIA/aia_lev1_193a_2020_12_07t06_00_04_83z_image_lev1.fits', '/home/stuart/psi_data/12790/HMI/hmi_m_45s_2020_12_07_06_01_30_tai_magnetogram.fits', '/home/stuart/psi_data/12790/AIA/aia_lev1_193a_2020_12_10t00_00_04_84z_image_lev1.fits', '/home/stuart/psi_data/12790/HMI/hmi_m_45s_2020_12_02_12_01_30_tai_magnetogram.fits', '/home/stuart/psi_data/12790/HMI/hmi_m_45s_2020_12_09_18_01_30_tai_magnetogram.fits', '/home/stuart/psi_data/12790/AIA/aia_lev1_193a_2020_12_06t18_00_04_84z_image_lev1.fits', '/home/stuart/psi_data/12790/HMI/hmi_m_45s_2020_12_09_06_01_30_tai_magnetogram.fits', '/home/stuart/psi_data/12790/HMI/hmi_m_45s_2020_12_12_06_01_30_tai_magnetogram.fits', '/home/stuart/psi_data/12790/AIA/aia_lev1_193a_2020_12_03t06_00_04_84z_image_lev1.fits', '/home/stuart/psi_data/12790/AIA/aia_lev1_193a_2020_12_08t12_00_04_85z_image_lev1.fits', '/home/stuart/psi_data/12790/AIA/aia_lev1_193a_2020_12_12t18_00_04_84z_image_lev1.fits', '/home/stuart/psi_data/12790/HMI/hmi_m_45s_2020_12_07_18_01_30_tai_magnetogram.fits', '/home/stuart/psi_data/12790/HMI/hmi_m_45s_2020_12_11_12_01_30_tai_magnetogram.fits', '/home/stuart/psi_data/12790/HMI/hmi_m_45s_2020_12_02_18_01_30_tai_magnetogram.fits', '/home/stuart/psi_data/12790/AIA/aia_lev1_193a_2020_12_05t06_00_04_84z_image_lev1.fits', '/home/stuart/psi_data/12790/AIA/aia_lev1_193a_2020_12_06t12_00_04_84z_image_lev1.fits', '/home/stuart/psi_data/12790/HMI/hmi_m_45s_2020_12_07_12_01_30_tai_magnetogram.fits', '/home/stuart/psi_data/12790/HMI/hmi_m_45s_2020_12_03_00_01_30_tai_magnetogram.fits', '/home/stuart/psi_data/12790/HMI/hmi_m_45s_2020_12_10_06_01_30_tai_magnetogram.fits', '/home/stuart/psi_data/12790/AIA/aia_lev1_193a_2020_12_06t06_00_04_84z_image_lev1.fits', '/home/stuart/psi_data/12790/AIA/aia_lev1_193a_2020_12_11t12_00_04_84z_image_lev1.fits', '/home/stuart/psi_data/12790/HMI/hmi_m_45s_2020_12_05_12_01_30_tai_magnetogram.fits', '/home/stuart/psi_data/12790/HMI/hmi_m_45s_2020_12_12_12_01_30_tai_magnetogram.fits', '/home/stuart/psi_data/12790/AIA/aia_lev1_193a_2020_12_04t00_00_04_84z_image_lev1.fits', '/home/stuart/psi_data/12790/AIA/aia_lev1_193a_2020_12_10t12_00_04_84z_image_lev1.fits', '/home/stuart/psi_data/12790/HMI/hmi_m_45s_2020_12_04_00_01_30_tai_magnetogram.fits', '/home/stuart/psi_data/12790/HMI/hmi_m_45s_2020_12_02_00_01_30_tai_magnetogram.fits', '/home/stuart/psi_data/12790/AIA/aia_lev1_193a_2020_12_02t18_00_04_84z_image_lev1.fits', '/home/stuart/psi_data/12790/AIA/aia_lev1_193a_2020_12_03t12_00_04_84z_image_lev1.fits', '/home/stuart/psi_data/12790/AIA/aia_lev1_193a_2020_12_10t18_00_04_84z_image_lev1.fits', '/home/stuart/psi_data/12790/AIA/aia_lev1_193a_2020_12_12t12_00_04_84z_image_lev1.fits', '/home/stuart/psi_data/12790/HMI/hmi_m_45s_2020_12_04_06_01_30_tai_magnetogram.fits', '/home/stuart/psi_data/12790/HMI/hmi_m_45s_2020_12_02_06_01_30_tai_magnetogram.fits', '/home/stuart/psi_data/12790/HMI/hmi_m_45s_2020_12_09_12_01_30_tai_magnetogram.fits', '/home/stuart/psi_data/12790/AIA/aia_lev1_193a_2020_12_05t12_00_04_84z_image_lev1.fits', '/home/stuart/psi_data/12790/AIA/aia_lev1_193a_2020_12_08t00_00_04_85z_image_lev1.fits', '/home/stuart/psi_data/12790/HMI/hmi_m_45s_2020_12_05_18_01_30_tai_magnetogram.fits', '/home/stuart/psi_data/12790/HMI/hmi_m_45s_2020_12_03_06_01_30_tai_magnetogram.fits', '/home/stuart/psi_data/12790/AIA/aia_lev1_193a_2020_12_03t18_00_04_84z_image_lev1.fits', '/home/stuart/psi_data/12790/AIA/aia_lev1_193a_2020_12_05t18_00_04_84z_image_lev1.fits', '/home/stuart/psi_data/12790/AIA/aia_lev1_193a_2020_12_08t06_00_04_84z_image_lev1.fits', '/home/stuart/psi_data/12790/HMI/hmi_m_45s_2020_12_04_12_01_30_tai_magnetogram.fits', '/home/stuart/psi_data/12790/HMI/hmi_m_45s_2020_12_05_00_01_30_tai_magnetogram.fits', '/home/stuart/psi_data/12790/HMI/hmi_m_45s_2020_12_10_18_01_30_tai_magnetogram.fits', '/home/stuart/psi_data/12790/AIA/aia_lev1_193a_2020_12_05t00_00_04_84z_image_lev1.fits', '/home/stuart/psi_data/12790/AIA/aia_lev1_193a_2020_12_10t06_00_04_84z_image_lev1.fits', '/home/stuart/psi_data/12790/HMI/hmi_m_45s_2020_12_06_00_01_30_tai_magnetogram.fits', '/home/stuart/psi_data/12790/HMI/hmi_m_45s_2020_12_04_18_01_30_tai_magnetogram.fits', '/home/stuart/psi_data/12790/AIA/aia_lev1_193a_2020_12_02t06_00_04_85z_image_lev1.fits', '/home/stuart/psi_data/12790/AIA/aia_lev1_193a_2020_12_04t12_00_04_84z_image_lev1.fits', '/home/stuart/psi_data/12790/AIA/aia_lev1_193a_2020_12_11t18_00_04_84z_image_lev1.fits', '/home/stuart/psi_data/12790/HMI/hmi_m_45s_2020_12_08_18_01_30_tai_magnetogram.fits', '/home/stuart/psi_data/12790/HMI/hmi_m_45s_2020_12_03_18_01_30_tai_magnetogram.fits', '/home/stuart/psi_data/12790/HMI/hmi_m_45s_2020_12_10_12_01_30_tai_magnetogram.fits', '/home/stuart/psi_data/12790/AIA/aia_lev1_193a_2020_12_07t12_00_04_84z_image_lev1.fits', '/home/stuart/psi_data/12790/AIA/aia_lev1_193a_2020_12_09t06_00_04_84z_image_lev1.fits', '/home/stuart/psi_data/12790/AIA/aia_lev1_193a_2020_12_12t06_00_04_85z_image_lev1.fits', '/home/stuart/psi_data/12790/HMI/hmi_m_45s_2020_12_06_12_01_30_tai_magnetogram.fits', '/home/stuart/psi_data/12790/HMI/hmi_m_45s_2020_12_03_12_01_30_tai_magnetogram.fits', '/home/stuart/psi_data/12790/HMI/hmi_m_45s_2020_12_11_18_01_30_tai_magnetogram.fits', '/home/stuart/psi_data/12790/AIA/aia_lev1_193a_2020_12_06t00_00_04_84z_image_lev1.fits', '/home/stuart/psi_data/12790/AIA/aia_lev1_193a_2020_12_11t00_00_04_84z_image_lev1.fits']"
      ]
     },
     "execution_count": 259,
     "metadata": {},
     "output_type": "execute_result"
    }
   ],
   "source": [
    "files"
   ]
  },
  {
   "cell_type": "markdown",
   "metadata": {},
   "source": [
    "## Processing the Data\n",
    "\n",
    "Now we have got the data let's take the HMI images and reproject them into carrington coordinates so we can clearly see the evolution of the feature."
   ]
  },
  {
   "cell_type": "code",
   "execution_count": 250,
   "metadata": {},
   "outputs": [
    {
     "name": "stdout",
     "output_type": "stream",
     "text": [
      "Using matplotlib backend: module://ipympl.backend_nbagg\n"
     ]
    }
   ],
   "source": [
    "%matplotlib"
   ]
  },
  {
   "cell_type": "code",
   "execution_count": 287,
   "metadata": {},
   "outputs": [],
   "source": [
    "ar12790 = ar12790[:11]"
   ]
  },
  {
   "cell_type": "code",
   "execution_count": 263,
   "metadata": {},
   "outputs": [],
   "source": [
    "hmi_maps = sunpy.map.Map(\"~/psi_data/12790/HMI/*\")\n",
    "#aia_maps = sunpy.map.Map(\"~/psi/12790/AIA/*\") "
   ]
  },
  {
   "cell_type": "code",
   "execution_count": 284,
   "metadata": {},
   "outputs": [
    {
     "name": "stderr",
     "output_type": "stream",
     "text": [
      "WARNING: AstropyDeprecationWarning: Transforming a frame instance to a frame class (as opposed to another frame instance) will not be supported in the future.  Either explicitly instantiate the target frame, or first convert the source frame instance to a `astropy.coordinates.SkyCoord` and use its `transform_to()` method. [astropy.coordinates.baseframe]\n"
     ]
    }
   ],
   "source": [
    "data = [[h.observer_coordinate.lon, h.observer_coordinate.lat, h.observer_coordinate.radius] for h in hmi_maps[::4]]"
   ]
  },
  {
   "cell_type": "code",
   "execution_count": 285,
   "metadata": {},
   "outputs": [],
   "source": [
    "observers = SkyCoord(data, unit=(u.deg, u.deg, u.m), obstime=[h.date for h in hmi_maps[::4]], frame=\"heliographic_stonyhurst\")"
   ]
  },
  {
   "cell_type": "code",
   "execution_count": 288,
   "metadata": {},
   "outputs": [],
   "source": [
    "ar12790['hgc_coord'] = SkyCoord(ar12790['hgc_coord'], observer=observers, obstime=[h.date for h in hmi_maps[::4]])"
   ]
  },
  {
   "cell_type": "code",
   "execution_count": 289,
   "metadata": {},
   "outputs": [
    {
     "data": {
      "text/plain": [
       "<SkyCoord (HeliographicCarrington: obstime=['2020-12-02T00:00:23.400' '2020-12-03T00:00:23.300'\n",
       " '2020-12-04T00:00:23.300' '2020-12-05T00:00:23.200'\n",
       " '2020-12-06T00:00:23.100' '2020-12-07T00:00:23.100'\n",
       " '2020-12-08T00:00:23.000' '2020-12-09T00:00:22.900'\n",
       " '2020-12-10T00:00:22.900' '2020-12-11T00:00:22.800'\n",
       " '2020-12-12T00:00:22.800'], observer=<HeliographicStonyhurst Coordinate (obstime=['2020-12-02T00:00:23.400' '2020-12-03T00:00:23.300'\n",
       " '2020-12-04T00:00:23.300' '2020-12-05T00:00:23.200'\n",
       " '2020-12-06T00:00:23.100' '2020-12-07T00:00:23.100'\n",
       " '2020-12-08T00:00:23.000' '2020-12-09T00:00:22.900'\n",
       " '2020-12-10T00:00:22.900' '2020-12-11T00:00:22.800'\n",
       " '2020-12-12T00:00:22.800']): (lon, lat, radius) in (deg, deg, m)\n",
       "    [(-0.01912113,  0.727277, 1.47471968e+11),\n",
       "     (-0.01910594,  0.599633, 1.47448999e+11),\n",
       "     (-0.0190744 ,  0.471764, 1.47426850e+11),\n",
       "     (-0.01907004,  0.343709, 1.47405508e+11),\n",
       "     (-0.01906129,  0.21551 , 1.47384953e+11),\n",
       "     (-0.01901451,  0.087205, 1.47365159e+11),\n",
       "     (-0.019     , -0.041164, 1.47346091e+11),\n",
       "     (-0.0189758 , -0.169557, 1.47327711e+11),\n",
       "     (-0.01894355, -0.297932, 1.47309973e+11),\n",
       "     (-0.01891462, -0.42625 , 1.47292836e+11),\n",
       "     (-0.01884891, -0.554468, 1.47276255e+11)]>): (lon, lat, radius) in (deg, deg, km)\n",
       "    [(253.39488, -23., 695700.), (252.2165 , -23., 695700.),\n",
       "     (253.03838, -22., 695700.), (251.86053, -23., 695700.),\n",
       "     (250.68294, -23., 695700.), (251.50562, -23., 695700.),\n",
       "     (251.32859, -22., 695700.), (252.15181, -21., 695700.),\n",
       "     (251.9753 , -23., 695700.), (251.79906, -22., 695700.),\n",
       "     (251.62309, -23., 695700.)]>"
      ]
     },
     "execution_count": 289,
     "metadata": {},
     "output_type": "execute_result"
    }
   ],
   "source": [
    "ar12790['hgc_coord']"
   ]
  },
  {
   "cell_type": "code",
   "execution_count": 290,
   "metadata": {},
   "outputs": [
    {
     "data": {
      "application/vnd.jupyter.widget-view+json": {
       "model_id": "5ceceee3106c4a6f88830c8d8d3889c8",
       "version_major": 2,
       "version_minor": 0
      },
      "text/plain": [
       "Canvas(toolbar=Toolbar(toolitems=[('Home', 'Reset original view', 'home', 'home'), ('Back', 'Back to previous …"
      ]
     },
     "metadata": {},
     "output_type": "display_data"
    },
    {
     "name": "stderr",
     "output_type": "stream",
     "text": [
      "WARNING: FITSFixedWarning: CRDER1 = 'nan ' \n",
      "a floating-point value was expected. [astropy.wcs.wcs]\n",
      "WARNING: FITSFixedWarning: CRDER2 = 'nan ' \n",
      "a floating-point value was expected. [astropy.wcs.wcs]\n",
      "WARNING: AstropyDeprecationWarning: Transforming a frame instance to a frame class (as opposed to another frame instance) will not be supported in the future.  Either explicitly instantiate the target frame, or first convert the source frame instance to a `astropy.coordinates.SkyCoord` and use its `transform_to()` method. [astropy.coordinates.baseframe]\n",
      "WARNING: FITSFixedWarning: CRDER1 = 'nan ' \n",
      "a floating-point value was expected. [astropy.wcs.wcs]\n",
      "WARNING: FITSFixedWarning: CRDER2 = 'nan ' \n",
      "a floating-point value was expected. [astropy.wcs.wcs]\n",
      "WARNING: AstropyDeprecationWarning: Transforming a frame instance to a frame class (as opposed to another frame instance) will not be supported in the future.  Either explicitly instantiate the target frame, or first convert the source frame instance to a `astropy.coordinates.SkyCoord` and use its `transform_to()` method. [astropy.coordinates.baseframe]\n",
      "/home/stuart/.virtualenvs/predsci/lib/python3.9/site-packages/astropy/visualization/wcsaxes/core.py:211: MatplotlibDeprecationWarning: Passing parameters norm and vmin/vmax simultaneously is deprecated since 3.3 and will become an error two minor releases later. Please pass vmin/vmax directly to the norm when creating it.\n",
      "  return super().imshow(X, *args, origin=origin, **kwargs)\n"
     ]
    },
    {
     "data": {
      "text/plain": [
       "<matplotlib.colorbar.Colorbar at 0x7f35f1373e20>"
      ]
     },
     "execution_count": 290,
     "metadata": {},
     "output_type": "execute_result"
    }
   ],
   "source": [
    "plt.figure()\n",
    "ax = plt.subplot(projection=hmi_maps[0])\n",
    "hmi_maps[0].plot(vmin=-1500, vmax=1500, cmap='hmimag')\n",
    "ax.plot_coord(ar12790['hgc_coord'], \"wo\")\n",
    "plt.colorbar()"
   ]
  },
  {
   "cell_type": "code",
   "execution_count": 291,
   "metadata": {},
   "outputs": [],
   "source": [
    "def make_carrington_wcses(maps, lat_scale, lon_scale):\n",
    "    centre_lat = ar12790['hgc_coord'][0].lat\n",
    "    scale = [1/lon_scale, 1/lat_scale]*u.deg/u.pix\n",
    "    shape = (40*lat_scale, 40*lon_scale)\n",
    "    \n",
    "    lat_pix_offset = -centre_lat / scale[1]\n",
    "    \n",
    "    wcses = []\n",
    "    for amap in maps:\n",
    "        observer = amap.observer_coordinate\n",
    "        header = sunpy.map.make_fitswcs_header(\n",
    "            shape,\n",
    "            SkyCoord(ar12790['hgc_coord'][0].lon, 0,\n",
    "                     unit=u.deg, observer=observer, obstime=amap.date, frame=\"heliographic_carrington\"),\n",
    "            scale=scale,\n",
    "            reference_pixel=u.Quantity([(shape[1]-1)/2*u.pix, ((shape[0]-1)/2*u.pix) + lat_pix_offset]),\n",
    "            projection_code=\"CAR\"\n",
    "        )\n",
    "\n",
    "        wcs = WCS(header)\n",
    "        wcs.heliographic_observer = observer\n",
    "        \n",
    "        wcses.append(wcs)\n",
    "        \n",
    "    return shape, wcses"
   ]
  },
  {
   "cell_type": "code",
   "execution_count": 292,
   "metadata": {},
   "outputs": [
    {
     "name": "stderr",
     "output_type": "stream",
     "text": [
      "WARNING: AstropyDeprecationWarning: Transforming a frame instance to a frame class (as opposed to another frame instance) will not be supported in the future.  Either explicitly instantiate the target frame, or first convert the source frame instance to a `astropy.coordinates.SkyCoord` and use its `transform_to()` method. [astropy.coordinates.baseframe]\n",
      "WARNING: AstropyDeprecationWarning: Transforming a frame instance to a frame class (as opposed to another frame instance) will not be supported in the future.  Either explicitly instantiate the target frame, or first convert the source frame instance to a `astropy.coordinates.SkyCoord` and use its `transform_to()` method. [astropy.coordinates.baseframe]\n",
      "WARNING: AstropyDeprecationWarning: Transforming a frame instance to a frame class (as opposed to another frame instance) will not be supported in the future.  Either explicitly instantiate the target frame, or first convert the source frame instance to a `astropy.coordinates.SkyCoord` and use its `transform_to()` method. [astropy.coordinates.baseframe]\n",
      "WARNING: AstropyDeprecationWarning: Transforming a frame instance to a frame class (as opposed to another frame instance) will not be supported in the future.  Either explicitly instantiate the target frame, or first convert the source frame instance to a `astropy.coordinates.SkyCoord` and use its `transform_to()` method. [astropy.coordinates.baseframe]\n",
      "WARNING: AstropyDeprecationWarning: Transforming a frame instance to a frame class (as opposed to another frame instance) will not be supported in the future.  Either explicitly instantiate the target frame, or first convert the source frame instance to a `astropy.coordinates.SkyCoord` and use its `transform_to()` method. [astropy.coordinates.baseframe]\n",
      "WARNING: AstropyDeprecationWarning: Transforming a frame instance to a frame class (as opposed to another frame instance) will not be supported in the future.  Either explicitly instantiate the target frame, or first convert the source frame instance to a `astropy.coordinates.SkyCoord` and use its `transform_to()` method. [astropy.coordinates.baseframe]\n",
      "WARNING: AstropyDeprecationWarning: Transforming a frame instance to a frame class (as opposed to another frame instance) will not be supported in the future.  Either explicitly instantiate the target frame, or first convert the source frame instance to a `astropy.coordinates.SkyCoord` and use its `transform_to()` method. [astropy.coordinates.baseframe]\n",
      "WARNING: AstropyDeprecationWarning: Transforming a frame instance to a frame class (as opposed to another frame instance) will not be supported in the future.  Either explicitly instantiate the target frame, or first convert the source frame instance to a `astropy.coordinates.SkyCoord` and use its `transform_to()` method. [astropy.coordinates.baseframe]\n",
      "WARNING: AstropyDeprecationWarning: Transforming a frame instance to a frame class (as opposed to another frame instance) will not be supported in the future.  Either explicitly instantiate the target frame, or first convert the source frame instance to a `astropy.coordinates.SkyCoord` and use its `transform_to()` method. [astropy.coordinates.baseframe]\n",
      "WARNING: AstropyDeprecationWarning: Transforming a frame instance to a frame class (as opposed to another frame instance) will not be supported in the future.  Either explicitly instantiate the target frame, or first convert the source frame instance to a `astropy.coordinates.SkyCoord` and use its `transform_to()` method. [astropy.coordinates.baseframe]\n",
      "WARNING: AstropyDeprecationWarning: Transforming a frame instance to a frame class (as opposed to another frame instance) will not be supported in the future.  Either explicitly instantiate the target frame, or first convert the source frame instance to a `astropy.coordinates.SkyCoord` and use its `transform_to()` method. [astropy.coordinates.baseframe]\n",
      "WARNING: AstropyDeprecationWarning: Transforming a frame instance to a frame class (as opposed to another frame instance) will not be supported in the future.  Either explicitly instantiate the target frame, or first convert the source frame instance to a `astropy.coordinates.SkyCoord` and use its `transform_to()` method. [astropy.coordinates.baseframe]\n",
      "WARNING: AstropyDeprecationWarning: Transforming a frame instance to a frame class (as opposed to another frame instance) will not be supported in the future.  Either explicitly instantiate the target frame, or first convert the source frame instance to a `astropy.coordinates.SkyCoord` and use its `transform_to()` method. [astropy.coordinates.baseframe]\n",
      "WARNING: AstropyDeprecationWarning: Transforming a frame instance to a frame class (as opposed to another frame instance) will not be supported in the future.  Either explicitly instantiate the target frame, or first convert the source frame instance to a `astropy.coordinates.SkyCoord` and use its `transform_to()` method. [astropy.coordinates.baseframe]\n",
      "WARNING: AstropyDeprecationWarning: Transforming a frame instance to a frame class (as opposed to another frame instance) will not be supported in the future.  Either explicitly instantiate the target frame, or first convert the source frame instance to a `astropy.coordinates.SkyCoord` and use its `transform_to()` method. [astropy.coordinates.baseframe]\n",
      "WARNING: AstropyDeprecationWarning: Transforming a frame instance to a frame class (as opposed to another frame instance) will not be supported in the future.  Either explicitly instantiate the target frame, or first convert the source frame instance to a `astropy.coordinates.SkyCoord` and use its `transform_to()` method. [astropy.coordinates.baseframe]\n",
      "WARNING: AstropyDeprecationWarning: Transforming a frame instance to a frame class (as opposed to another frame instance) will not be supported in the future.  Either explicitly instantiate the target frame, or first convert the source frame instance to a `astropy.coordinates.SkyCoord` and use its `transform_to()` method. [astropy.coordinates.baseframe]\n",
      "WARNING: AstropyDeprecationWarning: Transforming a frame instance to a frame class (as opposed to another frame instance) will not be supported in the future.  Either explicitly instantiate the target frame, or first convert the source frame instance to a `astropy.coordinates.SkyCoord` and use its `transform_to()` method. [astropy.coordinates.baseframe]\n",
      "WARNING: AstropyDeprecationWarning: Transforming a frame instance to a frame class (as opposed to another frame instance) will not be supported in the future.  Either explicitly instantiate the target frame, or first convert the source frame instance to a `astropy.coordinates.SkyCoord` and use its `transform_to()` method. [astropy.coordinates.baseframe]\n",
      "WARNING: AstropyDeprecationWarning: Transforming a frame instance to a frame class (as opposed to another frame instance) will not be supported in the future.  Either explicitly instantiate the target frame, or first convert the source frame instance to a `astropy.coordinates.SkyCoord` and use its `transform_to()` method. [astropy.coordinates.baseframe]\n",
      "WARNING: AstropyDeprecationWarning: Transforming a frame instance to a frame class (as opposed to another frame instance) will not be supported in the future.  Either explicitly instantiate the target frame, or first convert the source frame instance to a `astropy.coordinates.SkyCoord` and use its `transform_to()` method. [astropy.coordinates.baseframe]\n",
      "WARNING: AstropyDeprecationWarning: Transforming a frame instance to a frame class (as opposed to another frame instance) will not be supported in the future.  Either explicitly instantiate the target frame, or first convert the source frame instance to a `astropy.coordinates.SkyCoord` and use its `transform_to()` method. [astropy.coordinates.baseframe]\n",
      "WARNING: AstropyDeprecationWarning: Transforming a frame instance to a frame class (as opposed to another frame instance) will not be supported in the future.  Either explicitly instantiate the target frame, or first convert the source frame instance to a `astropy.coordinates.SkyCoord` and use its `transform_to()` method. [astropy.coordinates.baseframe]\n",
      "WARNING: AstropyDeprecationWarning: Transforming a frame instance to a frame class (as opposed to another frame instance) will not be supported in the future.  Either explicitly instantiate the target frame, or first convert the source frame instance to a `astropy.coordinates.SkyCoord` and use its `transform_to()` method. [astropy.coordinates.baseframe]\n",
      "WARNING: AstropyDeprecationWarning: Transforming a frame instance to a frame class (as opposed to another frame instance) will not be supported in the future.  Either explicitly instantiate the target frame, or first convert the source frame instance to a `astropy.coordinates.SkyCoord` and use its `transform_to()` method. [astropy.coordinates.baseframe]\n",
      "WARNING: AstropyDeprecationWarning: Transforming a frame instance to a frame class (as opposed to another frame instance) will not be supported in the future.  Either explicitly instantiate the target frame, or first convert the source frame instance to a `astropy.coordinates.SkyCoord` and use its `transform_to()` method. [astropy.coordinates.baseframe]\n",
      "WARNING: AstropyDeprecationWarning: Transforming a frame instance to a frame class (as opposed to another frame instance) will not be supported in the future.  Either explicitly instantiate the target frame, or first convert the source frame instance to a `astropy.coordinates.SkyCoord` and use its `transform_to()` method. [astropy.coordinates.baseframe]\n",
      "WARNING: AstropyDeprecationWarning: Transforming a frame instance to a frame class (as opposed to another frame instance) will not be supported in the future.  Either explicitly instantiate the target frame, or first convert the source frame instance to a `astropy.coordinates.SkyCoord` and use its `transform_to()` method. [astropy.coordinates.baseframe]\n",
      "WARNING: AstropyDeprecationWarning: Transforming a frame instance to a frame class (as opposed to another frame instance) will not be supported in the future.  Either explicitly instantiate the target frame, or first convert the source frame instance to a `astropy.coordinates.SkyCoord` and use its `transform_to()` method. [astropy.coordinates.baseframe]\n",
      "WARNING: AstropyDeprecationWarning: Transforming a frame instance to a frame class (as opposed to another frame instance) will not be supported in the future.  Either explicitly instantiate the target frame, or first convert the source frame instance to a `astropy.coordinates.SkyCoord` and use its `transform_to()` method. [astropy.coordinates.baseframe]\n",
      "WARNING: AstropyDeprecationWarning: Transforming a frame instance to a frame class (as opposed to another frame instance) will not be supported in the future.  Either explicitly instantiate the target frame, or first convert the source frame instance to a `astropy.coordinates.SkyCoord` and use its `transform_to()` method. [astropy.coordinates.baseframe]\n",
      "WARNING: AstropyDeprecationWarning: Transforming a frame instance to a frame class (as opposed to another frame instance) will not be supported in the future.  Either explicitly instantiate the target frame, or first convert the source frame instance to a `astropy.coordinates.SkyCoord` and use its `transform_to()` method. [astropy.coordinates.baseframe]\n",
      "WARNING: AstropyDeprecationWarning: Transforming a frame instance to a frame class (as opposed to another frame instance) will not be supported in the future.  Either explicitly instantiate the target frame, or first convert the source frame instance to a `astropy.coordinates.SkyCoord` and use its `transform_to()` method. [astropy.coordinates.baseframe]\n",
      "WARNING: AstropyDeprecationWarning: Transforming a frame instance to a frame class (as opposed to another frame instance) will not be supported in the future.  Either explicitly instantiate the target frame, or first convert the source frame instance to a `astropy.coordinates.SkyCoord` and use its `transform_to()` method. [astropy.coordinates.baseframe]\n",
      "WARNING: AstropyDeprecationWarning: Transforming a frame instance to a frame class (as opposed to another frame instance) will not be supported in the future.  Either explicitly instantiate the target frame, or first convert the source frame instance to a `astropy.coordinates.SkyCoord` and use its `transform_to()` method. [astropy.coordinates.baseframe]\n",
      "WARNING: AstropyDeprecationWarning: Transforming a frame instance to a frame class (as opposed to another frame instance) will not be supported in the future.  Either explicitly instantiate the target frame, or first convert the source frame instance to a `astropy.coordinates.SkyCoord` and use its `transform_to()` method. [astropy.coordinates.baseframe]\n",
      "WARNING: AstropyDeprecationWarning: Transforming a frame instance to a frame class (as opposed to another frame instance) will not be supported in the future.  Either explicitly instantiate the target frame, or first convert the source frame instance to a `astropy.coordinates.SkyCoord` and use its `transform_to()` method. [astropy.coordinates.baseframe]\n",
      "WARNING: AstropyDeprecationWarning: Transforming a frame instance to a frame class (as opposed to another frame instance) will not be supported in the future.  Either explicitly instantiate the target frame, or first convert the source frame instance to a `astropy.coordinates.SkyCoord` and use its `transform_to()` method. [astropy.coordinates.baseframe]\n",
      "WARNING: AstropyDeprecationWarning: Transforming a frame instance to a frame class (as opposed to another frame instance) will not be supported in the future.  Either explicitly instantiate the target frame, or first convert the source frame instance to a `astropy.coordinates.SkyCoord` and use its `transform_to()` method. [astropy.coordinates.baseframe]\n",
      "WARNING: AstropyDeprecationWarning: Transforming a frame instance to a frame class (as opposed to another frame instance) will not be supported in the future.  Either explicitly instantiate the target frame, or first convert the source frame instance to a `astropy.coordinates.SkyCoord` and use its `transform_to()` method. [astropy.coordinates.baseframe]\n",
      "WARNING: AstropyDeprecationWarning: Transforming a frame instance to a frame class (as opposed to another frame instance) will not be supported in the future.  Either explicitly instantiate the target frame, or first convert the source frame instance to a `astropy.coordinates.SkyCoord` and use its `transform_to()` method. [astropy.coordinates.baseframe]\n",
      "WARNING: AstropyDeprecationWarning: Transforming a frame instance to a frame class (as opposed to another frame instance) will not be supported in the future.  Either explicitly instantiate the target frame, or first convert the source frame instance to a `astropy.coordinates.SkyCoord` and use its `transform_to()` method. [astropy.coordinates.baseframe]\n",
      "WARNING: AstropyDeprecationWarning: Transforming a frame instance to a frame class (as opposed to another frame instance) will not be supported in the future.  Either explicitly instantiate the target frame, or first convert the source frame instance to a `astropy.coordinates.SkyCoord` and use its `transform_to()` method. [astropy.coordinates.baseframe]\n",
      "WARNING: AstropyDeprecationWarning: Transforming a frame instance to a frame class (as opposed to another frame instance) will not be supported in the future.  Either explicitly instantiate the target frame, or first convert the source frame instance to a `astropy.coordinates.SkyCoord` and use its `transform_to()` method. [astropy.coordinates.baseframe]\n"
     ]
    }
   ],
   "source": [
    "shape, hmi_carrington_wcses = make_carrington_wcses(hmi_maps, 35, 35)"
   ]
  },
  {
   "cell_type": "code",
   "execution_count": 294,
   "metadata": {},
   "outputs": [],
   "source": [
    "%matplotlib widget"
   ]
  },
  {
   "cell_type": "code",
   "execution_count": 314,
   "metadata": {},
   "outputs": [
    {
     "data": {
      "application/vnd.jupyter.widget-view+json": {
       "model_id": "29ffabf96ed64a0fa4fc95e6451305c6",
       "version_major": 2,
       "version_minor": 0
      },
      "text/plain": [
       "HBox(children=(HTML(value=''), FloatProgress(value=0.0, max=44.0), HTML(value='')))"
      ]
     },
     "metadata": {},
     "output_type": "display_data"
    },
    {
     "name": "stderr",
     "output_type": "stream",
     "text": [
      "WARNING: FITSFixedWarning: CRDER1 = 'nan ' \n",
      "a floating-point value was expected. [astropy.wcs.wcs]\n",
      "WARNING: FITSFixedWarning: CRDER2 = 'nan ' \n",
      "a floating-point value was expected. [astropy.wcs.wcs]\n",
      "WARNING: AstropyDeprecationWarning: Transforming a frame instance to a frame class (as opposed to another frame instance) will not be supported in the future.  Either explicitly instantiate the target frame, or first convert the source frame instance to a `astropy.coordinates.SkyCoord` and use its `transform_to()` method. [astropy.coordinates.baseframe]\n",
      "WARNING: FITSFixedWarning: CRDER1 = 'nan ' \n",
      "a floating-point value was expected. [astropy.wcs.wcs]\n",
      "WARNING: FITSFixedWarning: CRDER2 = 'nan ' \n",
      "a floating-point value was expected. [astropy.wcs.wcs]\n",
      "WARNING: AstropyDeprecationWarning: Transforming a frame instance to a frame class (as opposed to another frame instance) will not be supported in the future.  Either explicitly instantiate the target frame, or first convert the source frame instance to a `astropy.coordinates.SkyCoord` and use its `transform_to()` method. [astropy.coordinates.baseframe]\n",
      "WARNING: FITSFixedWarning: CRDER1 = 'nan ' \n",
      "a floating-point value was expected. [astropy.wcs.wcs]\n",
      "WARNING: FITSFixedWarning: CRDER2 = 'nan ' \n",
      "a floating-point value was expected. [astropy.wcs.wcs]\n",
      "WARNING: AstropyDeprecationWarning: Transforming a frame instance to a frame class (as opposed to another frame instance) will not be supported in the future.  Either explicitly instantiate the target frame, or first convert the source frame instance to a `astropy.coordinates.SkyCoord` and use its `transform_to()` method. [astropy.coordinates.baseframe]\n",
      "WARNING: FITSFixedWarning: CRDER1 = 'nan ' \n",
      "a floating-point value was expected. [astropy.wcs.wcs]\n",
      "WARNING: FITSFixedWarning: CRDER2 = 'nan ' \n",
      "a floating-point value was expected. [astropy.wcs.wcs]\n",
      "WARNING: AstropyDeprecationWarning: Transforming a frame instance to a frame class (as opposed to another frame instance) will not be supported in the future.  Either explicitly instantiate the target frame, or first convert the source frame instance to a `astropy.coordinates.SkyCoord` and use its `transform_to()` method. [astropy.coordinates.baseframe]\n",
      "WARNING: FITSFixedWarning: CRDER1 = 'nan ' \n",
      "a floating-point value was expected. [astropy.wcs.wcs]\n",
      "WARNING: FITSFixedWarning: CRDER2 = 'nan ' \n",
      "a floating-point value was expected. [astropy.wcs.wcs]\n",
      "WARNING: AstropyDeprecationWarning: Transforming a frame instance to a frame class (as opposed to another frame instance) will not be supported in the future.  Either explicitly instantiate the target frame, or first convert the source frame instance to a `astropy.coordinates.SkyCoord` and use its `transform_to()` method. [astropy.coordinates.baseframe]\n",
      "WARNING: FITSFixedWarning: CRDER1 = 'nan ' \n",
      "a floating-point value was expected. [astropy.wcs.wcs]\n",
      "WARNING: FITSFixedWarning: CRDER2 = 'nan ' \n",
      "a floating-point value was expected. [astropy.wcs.wcs]\n",
      "WARNING: AstropyDeprecationWarning: Transforming a frame instance to a frame class (as opposed to another frame instance) will not be supported in the future.  Either explicitly instantiate the target frame, or first convert the source frame instance to a `astropy.coordinates.SkyCoord` and use its `transform_to()` method. [astropy.coordinates.baseframe]\n",
      "WARNING: FITSFixedWarning: CRDER1 = 'nan ' \n",
      "a floating-point value was expected. [astropy.wcs.wcs]\n",
      "WARNING: FITSFixedWarning: CRDER2 = 'nan ' \n",
      "a floating-point value was expected. [astropy.wcs.wcs]\n",
      "WARNING: AstropyDeprecationWarning: Transforming a frame instance to a frame class (as opposed to another frame instance) will not be supported in the future.  Either explicitly instantiate the target frame, or first convert the source frame instance to a `astropy.coordinates.SkyCoord` and use its `transform_to()` method. [astropy.coordinates.baseframe]\n",
      "WARNING: FITSFixedWarning: CRDER1 = 'nan ' \n",
      "a floating-point value was expected. [astropy.wcs.wcs]\n",
      "WARNING: FITSFixedWarning: CRDER2 = 'nan ' \n",
      "a floating-point value was expected. [astropy.wcs.wcs]\n",
      "WARNING: AstropyDeprecationWarning: Transforming a frame instance to a frame class (as opposed to another frame instance) will not be supported in the future.  Either explicitly instantiate the target frame, or first convert the source frame instance to a `astropy.coordinates.SkyCoord` and use its `transform_to()` method. [astropy.coordinates.baseframe]\n",
      "WARNING: FITSFixedWarning: CRDER1 = 'nan ' \n",
      "a floating-point value was expected. [astropy.wcs.wcs]\n",
      "WARNING: FITSFixedWarning: CRDER2 = 'nan ' \n",
      "a floating-point value was expected. [astropy.wcs.wcs]\n",
      "WARNING: AstropyDeprecationWarning: Transforming a frame instance to a frame class (as opposed to another frame instance) will not be supported in the future.  Either explicitly instantiate the target frame, or first convert the source frame instance to a `astropy.coordinates.SkyCoord` and use its `transform_to()` method. [astropy.coordinates.baseframe]\n",
      "WARNING: FITSFixedWarning: CRDER1 = 'nan ' \n",
      "a floating-point value was expected. [astropy.wcs.wcs]\n",
      "WARNING: FITSFixedWarning: CRDER2 = 'nan ' \n",
      "a floating-point value was expected. [astropy.wcs.wcs]\n",
      "WARNING: AstropyDeprecationWarning: Transforming a frame instance to a frame class (as opposed to another frame instance) will not be supported in the future.  Either explicitly instantiate the target frame, or first convert the source frame instance to a `astropy.coordinates.SkyCoord` and use its `transform_to()` method. [astropy.coordinates.baseframe]\n",
      "WARNING: FITSFixedWarning: CRDER1 = 'nan ' \n",
      "a floating-point value was expected. [astropy.wcs.wcs]\n",
      "WARNING: FITSFixedWarning: CRDER2 = 'nan ' \n",
      "a floating-point value was expected. [astropy.wcs.wcs]\n",
      "WARNING: AstropyDeprecationWarning: Transforming a frame instance to a frame class (as opposed to another frame instance) will not be supported in the future.  Either explicitly instantiate the target frame, or first convert the source frame instance to a `astropy.coordinates.SkyCoord` and use its `transform_to()` method. [astropy.coordinates.baseframe]\n",
      "WARNING: FITSFixedWarning: CRDER1 = 'nan ' \n",
      "a floating-point value was expected. [astropy.wcs.wcs]\n",
      "WARNING: FITSFixedWarning: CRDER2 = 'nan ' \n",
      "a floating-point value was expected. [astropy.wcs.wcs]\n",
      "WARNING: AstropyDeprecationWarning: Transforming a frame instance to a frame class (as opposed to another frame instance) will not be supported in the future.  Either explicitly instantiate the target frame, or first convert the source frame instance to a `astropy.coordinates.SkyCoord` and use its `transform_to()` method. [astropy.coordinates.baseframe]\n",
      "WARNING: FITSFixedWarning: CRDER1 = 'nan ' \n",
      "a floating-point value was expected. [astropy.wcs.wcs]\n",
      "WARNING: FITSFixedWarning: CRDER2 = 'nan ' \n",
      "a floating-point value was expected. [astropy.wcs.wcs]\n",
      "WARNING: AstropyDeprecationWarning: Transforming a frame instance to a frame class (as opposed to another frame instance) will not be supported in the future.  Either explicitly instantiate the target frame, or first convert the source frame instance to a `astropy.coordinates.SkyCoord` and use its `transform_to()` method. [astropy.coordinates.baseframe]\n",
      "WARNING: FITSFixedWarning: CRDER1 = 'nan ' \n",
      "a floating-point value was expected. [astropy.wcs.wcs]\n",
      "WARNING: FITSFixedWarning: CRDER2 = 'nan ' \n",
      "a floating-point value was expected. [astropy.wcs.wcs]\n",
      "WARNING: AstropyDeprecationWarning: Transforming a frame instance to a frame class (as opposed to another frame instance) will not be supported in the future.  Either explicitly instantiate the target frame, or first convert the source frame instance to a `astropy.coordinates.SkyCoord` and use its `transform_to()` method. [astropy.coordinates.baseframe]\n",
      "WARNING: FITSFixedWarning: CRDER1 = 'nan ' \n",
      "a floating-point value was expected. [astropy.wcs.wcs]\n",
      "WARNING: FITSFixedWarning: CRDER2 = 'nan ' \n",
      "a floating-point value was expected. [astropy.wcs.wcs]\n",
      "WARNING: AstropyDeprecationWarning: Transforming a frame instance to a frame class (as opposed to another frame instance) will not be supported in the future.  Either explicitly instantiate the target frame, or first convert the source frame instance to a `astropy.coordinates.SkyCoord` and use its `transform_to()` method. [astropy.coordinates.baseframe]\n",
      "WARNING: FITSFixedWarning: CRDER1 = 'nan ' \n",
      "a floating-point value was expected. [astropy.wcs.wcs]\n",
      "WARNING: FITSFixedWarning: CRDER2 = 'nan ' \n",
      "a floating-point value was expected. [astropy.wcs.wcs]\n",
      "WARNING: AstropyDeprecationWarning: Transforming a frame instance to a frame class (as opposed to another frame instance) will not be supported in the future.  Either explicitly instantiate the target frame, or first convert the source frame instance to a `astropy.coordinates.SkyCoord` and use its `transform_to()` method. [astropy.coordinates.baseframe]\n",
      "WARNING: FITSFixedWarning: CRDER1 = 'nan ' \n",
      "a floating-point value was expected. [astropy.wcs.wcs]\n",
      "WARNING: FITSFixedWarning: CRDER2 = 'nan ' \n",
      "a floating-point value was expected. [astropy.wcs.wcs]\n",
      "WARNING: AstropyDeprecationWarning: Transforming a frame instance to a frame class (as opposed to another frame instance) will not be supported in the future.  Either explicitly instantiate the target frame, or first convert the source frame instance to a `astropy.coordinates.SkyCoord` and use its `transform_to()` method. [astropy.coordinates.baseframe]\n",
      "WARNING: FITSFixedWarning: CRDER1 = 'nan ' \n",
      "a floating-point value was expected. [astropy.wcs.wcs]\n",
      "WARNING: FITSFixedWarning: CRDER2 = 'nan ' \n",
      "a floating-point value was expected. [astropy.wcs.wcs]\n",
      "WARNING: AstropyDeprecationWarning: Transforming a frame instance to a frame class (as opposed to another frame instance) will not be supported in the future.  Either explicitly instantiate the target frame, or first convert the source frame instance to a `astropy.coordinates.SkyCoord` and use its `transform_to()` method. [astropy.coordinates.baseframe]\n",
      "WARNING: FITSFixedWarning: CRDER1 = 'nan ' \n",
      "a floating-point value was expected. [astropy.wcs.wcs]\n",
      "WARNING: FITSFixedWarning: CRDER2 = 'nan ' \n",
      "a floating-point value was expected. [astropy.wcs.wcs]\n",
      "WARNING: AstropyDeprecationWarning: Transforming a frame instance to a frame class (as opposed to another frame instance) will not be supported in the future.  Either explicitly instantiate the target frame, or first convert the source frame instance to a `astropy.coordinates.SkyCoord` and use its `transform_to()` method. [astropy.coordinates.baseframe]\n",
      "WARNING: FITSFixedWarning: CRDER1 = 'nan ' \n",
      "a floating-point value was expected. [astropy.wcs.wcs]\n",
      "WARNING: FITSFixedWarning: CRDER2 = 'nan ' \n",
      "a floating-point value was expected. [astropy.wcs.wcs]\n",
      "WARNING: AstropyDeprecationWarning: Transforming a frame instance to a frame class (as opposed to another frame instance) will not be supported in the future.  Either explicitly instantiate the target frame, or first convert the source frame instance to a `astropy.coordinates.SkyCoord` and use its `transform_to()` method. [astropy.coordinates.baseframe]\n",
      "WARNING: FITSFixedWarning: CRDER1 = 'nan ' \n",
      "a floating-point value was expected. [astropy.wcs.wcs]\n",
      "WARNING: FITSFixedWarning: CRDER2 = 'nan ' \n",
      "a floating-point value was expected. [astropy.wcs.wcs]\n",
      "WARNING: AstropyDeprecationWarning: Transforming a frame instance to a frame class (as opposed to another frame instance) will not be supported in the future.  Either explicitly instantiate the target frame, or first convert the source frame instance to a `astropy.coordinates.SkyCoord` and use its `transform_to()` method. [astropy.coordinates.baseframe]\n",
      "WARNING: FITSFixedWarning: CRDER1 = 'nan ' \n",
      "a floating-point value was expected. [astropy.wcs.wcs]\n",
      "WARNING: FITSFixedWarning: CRDER2 = 'nan ' \n",
      "a floating-point value was expected. [astropy.wcs.wcs]\n",
      "WARNING: AstropyDeprecationWarning: Transforming a frame instance to a frame class (as opposed to another frame instance) will not be supported in the future.  Either explicitly instantiate the target frame, or first convert the source frame instance to a `astropy.coordinates.SkyCoord` and use its `transform_to()` method. [astropy.coordinates.baseframe]\n",
      "WARNING: FITSFixedWarning: CRDER1 = 'nan ' \n",
      "a floating-point value was expected. [astropy.wcs.wcs]\n",
      "WARNING: FITSFixedWarning: CRDER2 = 'nan ' \n",
      "a floating-point value was expected. [astropy.wcs.wcs]\n",
      "WARNING: AstropyDeprecationWarning: Transforming a frame instance to a frame class (as opposed to another frame instance) will not be supported in the future.  Either explicitly instantiate the target frame, or first convert the source frame instance to a `astropy.coordinates.SkyCoord` and use its `transform_to()` method. [astropy.coordinates.baseframe]\n",
      "WARNING: FITSFixedWarning: CRDER1 = 'nan ' \n",
      "a floating-point value was expected. [astropy.wcs.wcs]\n",
      "WARNING: FITSFixedWarning: CRDER2 = 'nan ' \n",
      "a floating-point value was expected. [astropy.wcs.wcs]\n",
      "WARNING: AstropyDeprecationWarning: Transforming a frame instance to a frame class (as opposed to another frame instance) will not be supported in the future.  Either explicitly instantiate the target frame, or first convert the source frame instance to a `astropy.coordinates.SkyCoord` and use its `transform_to()` method. [astropy.coordinates.baseframe]\n",
      "WARNING: FITSFixedWarning: CRDER1 = 'nan ' \n",
      "a floating-point value was expected. [astropy.wcs.wcs]\n",
      "WARNING: FITSFixedWarning: CRDER2 = 'nan ' \n",
      "a floating-point value was expected. [astropy.wcs.wcs]\n",
      "WARNING: AstropyDeprecationWarning: Transforming a frame instance to a frame class (as opposed to another frame instance) will not be supported in the future.  Either explicitly instantiate the target frame, or first convert the source frame instance to a `astropy.coordinates.SkyCoord` and use its `transform_to()` method. [astropy.coordinates.baseframe]\n",
      "WARNING: FITSFixedWarning: CRDER1 = 'nan ' \n",
      "a floating-point value was expected. [astropy.wcs.wcs]\n",
      "WARNING: FITSFixedWarning: CRDER2 = 'nan ' \n",
      "a floating-point value was expected. [astropy.wcs.wcs]\n",
      "WARNING: AstropyDeprecationWarning: Transforming a frame instance to a frame class (as opposed to another frame instance) will not be supported in the future.  Either explicitly instantiate the target frame, or first convert the source frame instance to a `astropy.coordinates.SkyCoord` and use its `transform_to()` method. [astropy.coordinates.baseframe]\n",
      "WARNING: FITSFixedWarning: CRDER1 = 'nan ' \n",
      "a floating-point value was expected. [astropy.wcs.wcs]\n",
      "WARNING: FITSFixedWarning: CRDER2 = 'nan ' \n",
      "a floating-point value was expected. [astropy.wcs.wcs]\n",
      "WARNING: AstropyDeprecationWarning: Transforming a frame instance to a frame class (as opposed to another frame instance) will not be supported in the future.  Either explicitly instantiate the target frame, or first convert the source frame instance to a `astropy.coordinates.SkyCoord` and use its `transform_to()` method. [astropy.coordinates.baseframe]\n",
      "WARNING: FITSFixedWarning: CRDER1 = 'nan ' \n",
      "a floating-point value was expected. [astropy.wcs.wcs]\n",
      "WARNING: FITSFixedWarning: CRDER2 = 'nan ' \n",
      "a floating-point value was expected. [astropy.wcs.wcs]\n",
      "WARNING: AstropyDeprecationWarning: Transforming a frame instance to a frame class (as opposed to another frame instance) will not be supported in the future.  Either explicitly instantiate the target frame, or first convert the source frame instance to a `astropy.coordinates.SkyCoord` and use its `transform_to()` method. [astropy.coordinates.baseframe]\n",
      "WARNING: FITSFixedWarning: CRDER1 = 'nan ' \n",
      "a floating-point value was expected. [astropy.wcs.wcs]\n",
      "WARNING: FITSFixedWarning: CRDER2 = 'nan ' \n",
      "a floating-point value was expected. [astropy.wcs.wcs]\n",
      "WARNING: AstropyDeprecationWarning: Transforming a frame instance to a frame class (as opposed to another frame instance) will not be supported in the future.  Either explicitly instantiate the target frame, or first convert the source frame instance to a `astropy.coordinates.SkyCoord` and use its `transform_to()` method. [astropy.coordinates.baseframe]\n",
      "WARNING: FITSFixedWarning: CRDER1 = 'nan ' \n",
      "a floating-point value was expected. [astropy.wcs.wcs]\n",
      "WARNING: FITSFixedWarning: CRDER2 = 'nan ' \n",
      "a floating-point value was expected. [astropy.wcs.wcs]\n",
      "WARNING: AstropyDeprecationWarning: Transforming a frame instance to a frame class (as opposed to another frame instance) will not be supported in the future.  Either explicitly instantiate the target frame, or first convert the source frame instance to a `astropy.coordinates.SkyCoord` and use its `transform_to()` method. [astropy.coordinates.baseframe]\n",
      "WARNING: FITSFixedWarning: CRDER1 = 'nan ' \n",
      "a floating-point value was expected. [astropy.wcs.wcs]\n",
      "WARNING: FITSFixedWarning: CRDER2 = 'nan ' \n",
      "a floating-point value was expected. [astropy.wcs.wcs]\n",
      "WARNING: AstropyDeprecationWarning: Transforming a frame instance to a frame class (as opposed to another frame instance) will not be supported in the future.  Either explicitly instantiate the target frame, or first convert the source frame instance to a `astropy.coordinates.SkyCoord` and use its `transform_to()` method. [astropy.coordinates.baseframe]\n",
      "WARNING: FITSFixedWarning: CRDER1 = 'nan ' \n",
      "a floating-point value was expected. [astropy.wcs.wcs]\n",
      "WARNING: FITSFixedWarning: CRDER2 = 'nan ' \n",
      "a floating-point value was expected. [astropy.wcs.wcs]\n",
      "WARNING: AstropyDeprecationWarning: Transforming a frame instance to a frame class (as opposed to another frame instance) will not be supported in the future.  Either explicitly instantiate the target frame, or first convert the source frame instance to a `astropy.coordinates.SkyCoord` and use its `transform_to()` method. [astropy.coordinates.baseframe]\n",
      "WARNING: FITSFixedWarning: CRDER1 = 'nan ' \n",
      "a floating-point value was expected. [astropy.wcs.wcs]\n",
      "WARNING: FITSFixedWarning: CRDER2 = 'nan ' \n",
      "a floating-point value was expected. [astropy.wcs.wcs]\n",
      "WARNING: AstropyDeprecationWarning: Transforming a frame instance to a frame class (as opposed to another frame instance) will not be supported in the future.  Either explicitly instantiate the target frame, or first convert the source frame instance to a `astropy.coordinates.SkyCoord` and use its `transform_to()` method. [astropy.coordinates.baseframe]\n",
      "WARNING: FITSFixedWarning: CRDER1 = 'nan ' \n",
      "a floating-point value was expected. [astropy.wcs.wcs]\n",
      "WARNING: FITSFixedWarning: CRDER2 = 'nan ' \n",
      "a floating-point value was expected. [astropy.wcs.wcs]\n",
      "WARNING: AstropyDeprecationWarning: Transforming a frame instance to a frame class (as opposed to another frame instance) will not be supported in the future.  Either explicitly instantiate the target frame, or first convert the source frame instance to a `astropy.coordinates.SkyCoord` and use its `transform_to()` method. [astropy.coordinates.baseframe]\n",
      "WARNING: FITSFixedWarning: CRDER1 = 'nan ' \n",
      "a floating-point value was expected. [astropy.wcs.wcs]\n",
      "WARNING: FITSFixedWarning: CRDER2 = 'nan ' \n",
      "a floating-point value was expected. [astropy.wcs.wcs]\n",
      "WARNING: AstropyDeprecationWarning: Transforming a frame instance to a frame class (as opposed to another frame instance) will not be supported in the future.  Either explicitly instantiate the target frame, or first convert the source frame instance to a `astropy.coordinates.SkyCoord` and use its `transform_to()` method. [astropy.coordinates.baseframe]\n",
      "WARNING: FITSFixedWarning: CRDER1 = 'nan ' \n",
      "a floating-point value was expected. [astropy.wcs.wcs]\n",
      "WARNING: FITSFixedWarning: CRDER2 = 'nan ' \n",
      "a floating-point value was expected. [astropy.wcs.wcs]\n",
      "WARNING: AstropyDeprecationWarning: Transforming a frame instance to a frame class (as opposed to another frame instance) will not be supported in the future.  Either explicitly instantiate the target frame, or first convert the source frame instance to a `astropy.coordinates.SkyCoord` and use its `transform_to()` method. [astropy.coordinates.baseframe]\n",
      "WARNING: FITSFixedWarning: CRDER1 = 'nan ' \n",
      "a floating-point value was expected. [astropy.wcs.wcs]\n",
      "WARNING: FITSFixedWarning: CRDER2 = 'nan ' \n",
      "a floating-point value was expected. [astropy.wcs.wcs]\n",
      "WARNING: AstropyDeprecationWarning: Transforming a frame instance to a frame class (as opposed to another frame instance) will not be supported in the future.  Either explicitly instantiate the target frame, or first convert the source frame instance to a `astropy.coordinates.SkyCoord` and use its `transform_to()` method. [astropy.coordinates.baseframe]\n",
      "WARNING: FITSFixedWarning: CRDER1 = 'nan ' \n",
      "a floating-point value was expected. [astropy.wcs.wcs]\n",
      "WARNING: FITSFixedWarning: CRDER2 = 'nan ' \n",
      "a floating-point value was expected. [astropy.wcs.wcs]\n",
      "WARNING: AstropyDeprecationWarning: Transforming a frame instance to a frame class (as opposed to another frame instance) will not be supported in the future.  Either explicitly instantiate the target frame, or first convert the source frame instance to a `astropy.coordinates.SkyCoord` and use its `transform_to()` method. [astropy.coordinates.baseframe]\n",
      "WARNING: FITSFixedWarning: CRDER1 = 'nan ' \n",
      "a floating-point value was expected. [astropy.wcs.wcs]\n",
      "WARNING: FITSFixedWarning: CRDER2 = 'nan ' \n",
      "a floating-point value was expected. [astropy.wcs.wcs]\n",
      "WARNING: AstropyDeprecationWarning: Transforming a frame instance to a frame class (as opposed to another frame instance) will not be supported in the future.  Either explicitly instantiate the target frame, or first convert the source frame instance to a `astropy.coordinates.SkyCoord` and use its `transform_to()` method. [astropy.coordinates.baseframe]\n",
      "WARNING: FITSFixedWarning: CRDER1 = 'nan ' \n",
      "a floating-point value was expected. [astropy.wcs.wcs]\n",
      "WARNING: FITSFixedWarning: CRDER2 = 'nan ' \n",
      "a floating-point value was expected. [astropy.wcs.wcs]\n",
      "WARNING: AstropyDeprecationWarning: Transforming a frame instance to a frame class (as opposed to another frame instance) will not be supported in the future.  Either explicitly instantiate the target frame, or first convert the source frame instance to a `astropy.coordinates.SkyCoord` and use its `transform_to()` method. [astropy.coordinates.baseframe]\n",
      "WARNING: FITSFixedWarning: CRDER1 = 'nan ' \n",
      "a floating-point value was expected. [astropy.wcs.wcs]\n",
      "WARNING: FITSFixedWarning: CRDER2 = 'nan ' \n",
      "a floating-point value was expected. [astropy.wcs.wcs]\n",
      "WARNING: AstropyDeprecationWarning: Transforming a frame instance to a frame class (as opposed to another frame instance) will not be supported in the future.  Either explicitly instantiate the target frame, or first convert the source frame instance to a `astropy.coordinates.SkyCoord` and use its `transform_to()` method. [astropy.coordinates.baseframe]\n",
      "WARNING: FITSFixedWarning: CRDER1 = 'nan ' \n",
      "a floating-point value was expected. [astropy.wcs.wcs]\n",
      "WARNING: FITSFixedWarning: CRDER2 = 'nan ' \n",
      "a floating-point value was expected. [astropy.wcs.wcs]\n",
      "WARNING: AstropyDeprecationWarning: Transforming a frame instance to a frame class (as opposed to another frame instance) will not be supported in the future.  Either explicitly instantiate the target frame, or first convert the source frame instance to a `astropy.coordinates.SkyCoord` and use its `transform_to()` method. [astropy.coordinates.baseframe]\n",
      "WARNING: FITSFixedWarning: CRDER1 = 'nan ' \n",
      "a floating-point value was expected. [astropy.wcs.wcs]\n",
      "WARNING: FITSFixedWarning: CRDER2 = 'nan ' \n",
      "a floating-point value was expected. [astropy.wcs.wcs]\n",
      "WARNING: AstropyDeprecationWarning: Transforming a frame instance to a frame class (as opposed to another frame instance) will not be supported in the future.  Either explicitly instantiate the target frame, or first convert the source frame instance to a `astropy.coordinates.SkyCoord` and use its `transform_to()` method. [astropy.coordinates.baseframe]\n",
      "WARNING: FITSFixedWarning: CRDER1 = 'nan ' \n",
      "a floating-point value was expected. [astropy.wcs.wcs]\n",
      "WARNING: FITSFixedWarning: CRDER2 = 'nan ' \n",
      "a floating-point value was expected. [astropy.wcs.wcs]\n",
      "WARNING: AstropyDeprecationWarning: Transforming a frame instance to a frame class (as opposed to another frame instance) will not be supported in the future.  Either explicitly instantiate the target frame, or first convert the source frame instance to a `astropy.coordinates.SkyCoord` and use its `transform_to()` method. [astropy.coordinates.baseframe]\n"
     ]
    },
    {
     "name": "stdout",
     "output_type": "stream",
     "text": [
      "\n"
     ]
    }
   ],
   "source": [
    "out_maps = []\n",
    "for in_map, out_wcs in tqdm(zip(hmi_maps, hmi_carrington_wcses), total=len(hmi_maps)):\n",
    "    array, _ = reproject_adaptive(in_map, out_wcs, shape_out=shape)\n",
    "    out_maps.append(sunpy.map.Map(array, out_wcs))"
   ]
  },
  {
   "cell_type": "markdown",
   "metadata": {},
   "source": [
    "## Making a NDCube\n",
    "\n",
    "Now we have the data on a shared grid, let's build a NDCube out of the results, with a 3D WCS and then experiment a little with what NDCube can provide."
   ]
  },
  {
   "cell_type": "code",
   "execution_count": 315,
   "metadata": {},
   "outputs": [],
   "source": [
    "seq = sunpy.map.Map(out_maps, sequence=True)"
   ]
  },
  {
   "cell_type": "code",
   "execution_count": 316,
   "metadata": {},
   "outputs": [
    {
     "data": {
      "text/latex": [
       "$[6,~6,~6,~6,~6,~6,~6,~6,~6,~6,~6,~6,~6,~6,~6,~6,~6,~6,~6,~6,~6,~6,~6,~6,~6,~6,~6,~6,~6,~6,~6,~6,~6,~6,~6,~6,~6,~6,~6,~6,~6,~6,~6] \\; \\mathrm{h}$"
      ],
      "text/plain": [
       "<Quantity [6., 6., 6., 6., 6., 6., 6., 6., 6., 6., 6., 6., 6., 6., 6., 6.,\n",
       "           6., 6., 6., 6., 6., 6., 6., 6., 6., 6., 6., 6., 6., 6., 6., 6.,\n",
       "           6., 6., 6., 6., 6., 6., 6., 6., 6., 6., 6.] h>"
      ]
     },
     "execution_count": 316,
     "metadata": {},
     "output_type": "execute_result"
    }
   ],
   "source": [
    "times = Time([m.date for m in seq])\n",
    "time_delta = times[1:] - times[:-1]\n",
    "time_delta.to(u.hour).round()"
   ]
  },
  {
   "cell_type": "code",
   "execution_count": 317,
   "metadata": {},
   "outputs": [],
   "source": [
    "cube_header = copy.copy(seq[0].meta)"
   ]
  },
  {
   "cell_type": "code",
   "execution_count": 318,
   "metadata": {},
   "outputs": [],
   "source": [
    "cube_header['wcsaxes'] = 3\n",
    "cube_header['naxis'] = 3\n",
    "cube_header['CTYPE3'] = \"UTC\"\n",
    "cube_header['CDELT3'] = time_delta[0].to_value(u.s)\n",
    "cube_header['CUNIT3'] = \"s\"\n",
    "cube_header['CRVAL3'] = 0\n",
    "cube_header['CRPIX3'] = 0\n",
    "cube_header['DATEREF'] = times[0].isot\n",
    "del cube_header['mjdref']\n",
    "del cube_header['mjd-obs']"
   ]
  },
  {
   "cell_type": "code",
   "execution_count": 319,
   "metadata": {},
   "outputs": [],
   "source": [
    "cube_wcs = WCS(cube_header)"
   ]
  },
  {
   "cell_type": "code",
   "execution_count": 320,
   "metadata": {},
   "outputs": [],
   "source": [
    "ndc = NDCube(np.rollaxis(seq.as_array(), -1), wcs=cube_wcs)"
   ]
  },
  {
   "cell_type": "code",
   "execution_count": 321,
   "metadata": {},
   "outputs": [
    {
     "data": {
      "application/vnd.jupyter.widget-view+json": {
       "model_id": "bc24d4ab5bcb49feb8024a069b78450a",
       "version_major": 2,
       "version_minor": 0
      },
      "text/plain": [
       "Canvas(toolbar=Toolbar(toolitems=[('Home', 'Reset original view', 'home', 'home'), ('Back', 'Back to previous …"
      ]
     },
     "metadata": {},
     "output_type": "display_data"
    },
    {
     "data": {
      "text/plain": [
       "<sunpy.visualization.animator.wcs.ArrayAnimatorWCS at 0x7f35f37db640>"
      ]
     },
     "execution_count": 321,
     "metadata": {},
     "output_type": "execute_result"
    }
   ],
   "source": [
    "ndc.plot()"
   ]
  },
  {
   "cell_type": "code",
   "execution_count": 75,
   "metadata": {},
   "outputs": [
    {
     "data": {
      "text/plain": [
       "[('time',),\n",
       " ('custom:pos.heliographic.carrington.lon',\n",
       "  'custom:pos.heliographic.carrington.lat'),\n",
       " ('custom:pos.heliographic.carrington.lon',\n",
       "  'custom:pos.heliographic.carrington.lat')]"
      ]
     },
     "execution_count": 75,
     "metadata": {},
     "output_type": "execute_result"
    }
   ],
   "source": [
    "ndc.array_axis_physical_types"
   ]
  },
  {
   "cell_type": "code",
   "execution_count": 76,
   "metadata": {},
   "outputs": [],
   "source": [
    "small_cube = ndc.crop_by_values([240, -33, None], [260, -13, None], units=(u.deg, u.deg, u.s))"
   ]
  },
  {
   "cell_type": "code",
   "execution_count": 51,
   "metadata": {},
   "outputs": [
    {
     "data": {
      "text/plain": [
       "<sunpy.visualization.animator.wcs.ArrayAnimatorWCS at 0x7f36020bfe20>"
      ]
     },
     "execution_count": 51,
     "metadata": {},
     "output_type": "execute_result"
    }
   ],
   "source": [
    "small_cube.plot(vmin=-1500, vmax=1500)"
   ]
  },
  {
   "cell_type": "code",
   "execution_count": 324,
   "metadata": {},
   "outputs": [
    {
     "data": {
      "application/vnd.jupyter.widget-view+json": {
       "model_id": "a6f40d33d7d3447c9ddea4ab37cbe447",
       "version_major": 2,
       "version_minor": 0
      },
      "text/plain": [
       "Canvas(toolbar=Toolbar(toolitems=[('Home', 'Reset original view', 'home', 'home'), ('Back', 'Back to previous …"
      ]
     },
     "metadata": {},
     "output_type": "display_data"
    },
    {
     "data": {
      "text/plain": [
       "<WCSAxesSubplot:>"
      ]
     },
     "execution_count": 324,
     "metadata": {},
     "output_type": "execute_result"
    }
   ],
   "source": [
    "plt.figure()\n",
    "ndc[:,650,:].plot(aspect=\"auto\")"
   ]
  },
  {
   "cell_type": "code",
   "execution_count": null,
   "metadata": {},
   "outputs": [],
   "source": [
    "small_cube.axis_world_coords()"
   ]
  },
  {
   "cell_type": "code",
   "execution_count": null,
   "metadata": {},
   "outputs": [],
   "source": [
    "small_cube.axis_world_coords(\"time\")"
   ]
  },
  {
   "cell_type": "code",
   "execution_count": null,
   "metadata": {},
   "outputs": [],
   "source": [
    "h = hmi_maps[0]"
   ]
  },
  {
   "cell_type": "code",
   "execution_count": null,
   "metadata": {},
   "outputs": [],
   "source": [
    "h.draw_contours"
   ]
  },
  {
   "cell_type": "code",
   "execution_count": null,
   "metadata": {},
   "outputs": [],
   "source": [
    "plt.figure()\n",
    "ax = plt.subplot(projection=hmi_maps[0])\n",
    "#aia_maps[0].plot()\n",
    "hmi_maps[0].draw_contours(levels=np.linspace(hm, 100, 100)*u.percent, axes=ax)"
   ]
  },
  {
   "cell_type": "code",
   "execution_count": null,
   "metadata": {},
   "outputs": [],
   "source": []
  }
 ],
 "metadata": {
  "kernelspec": {
   "display_name": "Environment (virtualenv_predsci)",
   "language": "python",
   "name": "virtualenv_predsci"
  },
  "language_info": {
   "codemirror_mode": {
    "name": "ipython",
    "version": 3
   },
   "file_extension": ".py",
   "mimetype": "text/x-python",
   "name": "python",
   "nbconvert_exporter": "python",
   "pygments_lexer": "ipython3",
   "version": "3.9.1"
  }
 },
 "nbformat": 4,
 "nbformat_minor": 4
}
