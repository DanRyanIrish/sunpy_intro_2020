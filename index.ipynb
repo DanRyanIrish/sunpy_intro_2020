{
 "cells": [
  {
   "cell_type": "markdown",
   "metadata": {},
   "source": [
    "# Introduction to SunPy Workshop\n",
    "\n",
    "This repository will contain the materials for an introductory workshop on sunpy and solar data in Python.\n",
    "\n",
    "To use these notebooks you will need to install sunpy and jupyter."
   ]
  },
  {
   "cell_type": "markdown",
   "metadata": {},
   "source": [
    "### Participant Notebooks\n",
    "\n",
    "1. [Overview of sunpy](01_SunPy_Overview/01-sunpy_overview.ipynb)\n",
    "1. [Coordinates and World Coordinate Systems](02_Coordinates/02-Coordinates_and_WCS_in_SunPy.ipynb)\n",
    "1. [Searching for data and events with sunpy](03_Search_and_Download/03-Search_and_Download.ipynb)\n",
    "1. [AR Tracking and NDCube](04_AR_tracking_and_ndcube/04-AR_tracking_and_ndcube.ipynb)"
   ]
  },
  {
   "cell_type": "markdown",
   "metadata": {},
   "source": [
    "Alongside each notebook is an \"instructor\" version which has all the code cells filled in. Feel free to use these versions if you are not following along, or can read easier from your own screen:\n",
    "\n",
    "### Instructor Notebooks\n",
    "\n",
    "1. [Overview of sunpy (instructor)](01_SunPy_Overview/01-sunpy_overview_instructor.ipynb)\n",
    "1. [Coordinates and World Coordinate Systems (instructor)](02_Coordinates/02-Coordinates_and_WCS_in_SunPy_instructor.ipynb)\n",
    "1. [Searching for data and events with sunpy (instructor(](03_Search_and_Download/03-Search_and_Download_instructor.ipynb)\n",
    "1. [AR Tracking and NDCube (instructor)](04_AR_tracking_and_ndcube/04-AR_tracking_and_ndcube_instructor.ipynb)"
   ]
  }
 ],
 "metadata": {
  "kernelspec": {
   "display_name": "Environment (virtualenv_predsci)",
   "language": "python",
   "name": "virtualenv_predsci"
  },
  "language_info": {
   "codemirror_mode": {
    "name": "ipython",
    "version": 3
   },
   "file_extension": ".py",
   "mimetype": "text/x-python",
   "name": "python",
   "nbconvert_exporter": "python",
   "pygments_lexer": "ipython3",
   "version": "3.9.1"
  }
 },
 "nbformat": 4,
 "nbformat_minor": 4
}
