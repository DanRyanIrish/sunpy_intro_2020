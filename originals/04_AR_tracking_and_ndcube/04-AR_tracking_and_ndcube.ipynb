{
 "cells": [
  {
   "cell_type": "markdown",
   "metadata": {},
   "source": [
    "# Tracking AR 12970 and creating an ndcube\n",
    "\n",
    "In this example we will attempt to find AR 12790, download HMI and AIA 193 data for it, track the AR in carrington coordinates and then create an animation of a composite image.\n",
    "\n",
    "\n",
    "To install ndcube run: `pip install \"ndcube>=2.0.0b1\"`"
   ]
  },
  {
   "cell_type": "code",
   "execution_count": 182,
   "metadata": {
    "tags": [
     "keep_input"
    ]
   },
   "outputs": [],
   "source": [
    "import copy\n",
    "\n",
    "import numpy as np\n",
    "import matplotlib.pyplot as plt\n",
    "\n",
    "from tqdm import tqdm_notebook\n",
    "\n",
    "import astropy.units as u\n",
    "from astropy.coordinates import SkyCoord\n",
    "from astropy.time import Time\n",
    "from astropy.wcs import WCS\n",
    "from reproject import reproject_adaptive, reproject_interp\n",
    "\n",
    "import sunpy.map\n",
    "import sunpy.coordinates\n",
    "from sunpy.net import Fido, attrs as a, hek\n",
    "\n",
    "from ndcube import NDCube"
   ]
  },
  {
   "cell_type": "markdown",
   "metadata": {},
   "source": [
    "## Obtaining the Data"
   ]
  },
  {
   "cell_type": "markdown",
   "metadata": {},
   "source": [
    "Let's start by finding a reference coord for AR 12790"
   ]
  },
  {
   "cell_type": "code",
   "execution_count": null,
   "metadata": {},
   "outputs": [],
   "source": [
    "hclient = hek.HEKClient()"
   ]
  },
  {
   "cell_type": "code",
   "execution_count": null,
   "metadata": {},
   "outputs": [],
   "source": [
    "res = hclient.search(hek.attrs.Time(\"2020/11/01\", \"2020/12/16\"), hek.attrs.AR, hek.attrs.AR.NOAANum == 12790)"
   ]
  },
  {
   "cell_type": "code",
   "execution_count": null,
   "metadata": {},
   "outputs": [],
   "source": [
    "res['ar_noaanum', 'event_starttime', 'hgc_coord']"
   ]
  },
  {
   "cell_type": "code",
   "execution_count": null,
   "metadata": {},
   "outputs": [],
   "source": [
    "res['hgc_coord'] = SkyCoord(np.float64([c.strip(\"POINT()\").split() for c in res['hgc_coord']]), unit=u.deg, frame=\"heliographic_carrington\")"
   ]
  },
  {
   "cell_type": "code",
   "execution_count": null,
   "metadata": {},
   "outputs": [],
   "source": [
    "res['event_starttime'] = Time(res['event_starttime'])"
   ]
  },
  {
   "cell_type": "code",
   "execution_count": null,
   "metadata": {},
   "outputs": [],
   "source": [
    "ar12790 = res['ar_noaanum', 'event_starttime', 'hgc_coord']"
   ]
  },
  {
   "cell_type": "code",
   "execution_count": null,
   "metadata": {},
   "outputs": [],
   "source": [
    "ar12790"
   ]
  },
  {
   "cell_type": "code",
   "execution_count": null,
   "metadata": {},
   "outputs": [],
   "source": [
    "start_time, end_time = ar12790['event_starttime'][[0,-1]]"
   ]
  },
  {
   "cell_type": "code",
   "execution_count": null,
   "metadata": {},
   "outputs": [],
   "source": [
    "start_time, end_time"
   ]
  },
  {
   "cell_type": "code",
   "execution_count": null,
   "metadata": {},
   "outputs": [],
   "source": [
    "hmi = a.Instrument.hmi & a.Physobs.los_magnetic_field\n",
    "aia = a.Instrument.aia & a.Wavelength(19.3*u.nm)"
   ]
  },
  {
   "cell_type": "code",
   "execution_count": null,
   "metadata": {},
   "outputs": [],
   "source": [
    "results = Fido.search(a.Time(start_time, end_time) & a.Sample(1*u.day), hmi | aia)"
   ]
  },
  {
   "cell_type": "code",
   "execution_count": null,
   "metadata": {},
   "outputs": [],
   "source": [
    "results"
   ]
  },
  {
   "cell_type": "code",
   "execution_count": null,
   "metadata": {},
   "outputs": [],
   "source": [
    "files = Fido.fetch(results[:, :11], path=\"~/psi/12790/{instrument}\")"
   ]
  },
  {
   "cell_type": "code",
   "execution_count": null,
   "metadata": {},
   "outputs": [],
   "source": [
    "files"
   ]
  },
  {
   "cell_type": "markdown",
   "metadata": {},
   "source": [
    "## Processing the Data\n",
    "\n",
    "Now we have got the data let's take the HMI images and reproject them into carrington coordinates so we can clearly see the evolution of the feature."
   ]
  },
  {
   "cell_type": "code",
   "execution_count": null,
   "metadata": {},
   "outputs": [],
   "source": [
    "%matplotlib widget"
   ]
  },
  {
   "cell_type": "code",
   "execution_count": null,
   "metadata": {},
   "outputs": [],
   "source": [
    "ar12790 = ar12790[:11]"
   ]
  },
  {
   "cell_type": "code",
   "execution_count": null,
   "metadata": {},
   "outputs": [],
   "source": [
    "hmi_maps = sunpy.map.Map(\"~/psi/12790/HMI/*\")\n",
    "aia_maps = sunpy.map.Map(\"~/psi/12790/AIA/*\")"
   ]
  },
  {
   "cell_type": "code",
   "execution_count": null,
   "metadata": {},
   "outputs": [],
   "source": [
    "data = [[h.observer_coordinate.lon, h.observer_coordinate.lat, h.observer_coordinate.radius] for h in hmi_maps]"
   ]
  },
  {
   "cell_type": "code",
   "execution_count": null,
   "metadata": {},
   "outputs": [],
   "source": [
    "observers = SkyCoord(data, unit=(u.deg, u.deg, u.m), obstime=[h.date for h in hmi_maps], frame=\"heliographic_stonyhurst\")"
   ]
  },
  {
   "cell_type": "code",
   "execution_count": null,
   "metadata": {},
   "outputs": [],
   "source": [
    "ar12790['hgc_coord'] = SkyCoord(ar12790['hgc_coord'], observer=observers, obstime=ar12790['event_starttime'])"
   ]
  },
  {
   "cell_type": "code",
   "execution_count": null,
   "metadata": {},
   "outputs": [],
   "source": [
    "plt.figure()\n",
    "ax = plt.subplot(projection=hmi_maps[0])\n",
    "hmi_maps[0].plot(vmin=-1500, vmax=1500, cmap='hmimag')\n",
    "ax.plot_coord(ar12790['hgc_coord'], \"wo\")\n",
    "plt.colorbar()"
   ]
  },
  {
   "cell_type": "code",
   "execution_count": 75,
   "metadata": {},
   "outputs": [],
   "source": [
    "def make_carrington_wcses(maps, lat_scale, lon_scale):\n",
    "    lat_scale = 10\n",
    "    lon_scale = 10\n",
    "    shape = (180*lat_scale, 360*lon_scale)\n",
    "\n",
    "    wcses = []\n",
    "    for amap in maps:\n",
    "        observer = amap.observer_coordinate\n",
    "        header = sunpy.map.make_fitswcs_header(\n",
    "            shape,\n",
    "            SkyCoord(0, 0, unit=u.deg, observer=observer, obstime=amap.date, frame=\"heliographic_carrington\"),\n",
    "            scale=[1/lon_scale, 1/lat_scale]*u.deg/u.pix,\n",
    "            projection_code='CAR'\n",
    "        )\n",
    "        wcs = WCS(header)\n",
    "        wcs.heliographic_observer = in_map.observer_coordinate\n",
    "        wcses.append(wcs)\n",
    "        \n",
    "    return wcses"
   ]
  },
  {
   "cell_type": "code",
   "execution_count": 108,
   "metadata": {},
   "outputs": [],
   "source": [
    "import warnings\n",
    "warnings.filterwarnings('ignore')"
   ]
  },
  {
   "cell_type": "code",
   "execution_count": 109,
   "metadata": {},
   "outputs": [],
   "source": [
    "hmi_carrington_wcses = make_carrington_wcses(hmi_maps, 20, 20)"
   ]
  },
  {
   "cell_type": "code",
   "execution_count": 115,
   "metadata": {},
   "outputs": [
    {
     "data": {
      "application/vnd.jupyter.widget-view+json": {
       "model_id": "64a6af86d4a44967bc5c64aa26d524ee",
       "version_major": 2,
       "version_minor": 0
      },
      "text/plain": [
       "HBox(children=(HTML(value=''), FloatProgress(value=0.0, max=11.0), HTML(value='')))"
      ]
     },
     "metadata": {},
     "output_type": "display_data"
    },
    {
     "name": "stdout",
     "output_type": "stream",
     "text": [
      "\n"
     ]
    }
   ],
   "source": [
    "out_maps = []\n",
    "for in_map, out_wcs in tqdm_notebook(zip(hmi_maps, hmi_carrington_wcses),\n",
    "                                     total=len(hmi_maps)):\n",
    "    array, _ = reproject_interp(in_map, out_wcs, shape_out=shape)\n",
    "    out_maps.append(sunpy.map.Map(array, out_wcs))"
   ]
  },
  {
   "cell_type": "markdown",
   "metadata": {},
   "source": [
    "## Making a NDCube\n",
    "\n",
    "Now we have the data on a shared grid, let's build a NDCube out of the results, with a 3D WCS and then experiment a little with what NDCube can provide."
   ]
  },
  {
   "cell_type": "code",
   "execution_count": 137,
   "metadata": {},
   "outputs": [],
   "source": [
    "seq = sunpy.map.Map(out_maps, sequence=True)"
   ]
  },
  {
   "cell_type": "code",
   "execution_count": 138,
   "metadata": {},
   "outputs": [
    {
     "data": {
      "text/latex": [
       "$[1,~1,~1,~1,~1,~1,~1,~1,~1,~1] \\; \\mathrm{d}$"
      ],
      "text/plain": [
       "<Quantity [1., 1., 1., 1., 1., 1., 1., 1., 1., 1.] d>"
      ]
     },
     "execution_count": 138,
     "metadata": {},
     "output_type": "execute_result"
    }
   ],
   "source": [
    "times = Time([m.date for m in seq])\n",
    "time_delta = times[1:] - times[:-1]\n",
    "time_delta.to(u.day).round()"
   ]
  },
  {
   "cell_type": "code",
   "execution_count": 141,
   "metadata": {},
   "outputs": [],
   "source": [
    "cube_header = copy.copy(seq[0].meta)"
   ]
  },
  {
   "cell_type": "code",
   "execution_count": 142,
   "metadata": {},
   "outputs": [
    {
     "data": {
      "text/plain": [
       "MetaDict([('wcsaxes', 2),\n",
       "          ('crpix1', 1800.5),\n",
       "          ('crpix2', 900.5),\n",
       "          ('cdelt1', 0.1),\n",
       "          ('cdelt2', 0.1),\n",
       "          ('cunit1', 'deg'),\n",
       "          ('cunit2', 'deg'),\n",
       "          ('ctype1', 'CRLN-CAR'),\n",
       "          ('ctype2', 'CRLT-CAR'),\n",
       "          ('crval1', 0.0),\n",
       "          ('crval2', 0.0),\n",
       "          ('lonpole', 0.0),\n",
       "          ('latpole', 90.0),\n",
       "          ('mjdref', 0.0),\n",
       "          ('date-obs', '2020-12-02T00:00:23.400'),\n",
       "          ('mjd-obs', 59185.000270833),\n",
       "          ('dsun_obs', 147471967995.64),\n",
       "          ('hgln_obs', -0.01912112591458),\n",
       "          ('hglt_obs', 0.727277),\n",
       "          ('naxis1', 3600),\n",
       "          ('naxis2', 1800),\n",
       "          ('naxis', 2)])"
      ]
     },
     "execution_count": 142,
     "metadata": {},
     "output_type": "execute_result"
    }
   ],
   "source": [
    "cube_header"
   ]
  },
  {
   "cell_type": "code",
   "execution_count": 143,
   "metadata": {},
   "outputs": [],
   "source": [
    "cube_header['wcsaxes'] = 3\n",
    "cube_header['CTYPE3'] = \"UTC\"\n",
    "cube_header['CDELT3'] = time_delta[0].to_value(u.s)\n",
    "cube_header['CRVAL3'] = 0\n",
    "cube_header['CRPIX3'] = 0\n",
    "cube_header['CUNIT3'] = \"s\"\n",
    "cube_header['CNAME1'] = \"Carrington Longitude\"\n",
    "cube_header['CNAME2'] = \"Carrington Latitude\"\n",
    "cube_header['CNAME3'] = \"Time\"\n",
    "cube_header['DATEREF'] = times[0].isot\n",
    "del cube_header['mjdref']\n",
    "del cube_header['mjd-obs']"
   ]
  },
  {
   "cell_type": "code",
   "execution_count": 147,
   "metadata": {},
   "outputs": [
    {
     "data": {
      "text/plain": [
       "MetaDict([('wcsaxes', 3),\n",
       "          ('crpix1', 1800.5),\n",
       "          ('crpix2', 900.5),\n",
       "          ('cdelt1', 0.1),\n",
       "          ('cdelt2', 0.1),\n",
       "          ('cunit1', 'deg'),\n",
       "          ('cunit2', 'deg'),\n",
       "          ('ctype1', 'CRLN-CAR'),\n",
       "          ('ctype2', 'CRLT-CAR'),\n",
       "          ('crval1', 0.0),\n",
       "          ('crval2', 0.0),\n",
       "          ('lonpole', 0.0),\n",
       "          ('latpole', 90.0),\n",
       "          ('date-obs', '2020-12-02T00:00:23.400'),\n",
       "          ('dsun_obs', 147471967995.64),\n",
       "          ('hgln_obs', -0.01912112591458),\n",
       "          ('hglt_obs', 0.727277),\n",
       "          ('naxis1', 3600),\n",
       "          ('naxis2', 1800),\n",
       "          ('naxis', 2),\n",
       "          ('ctype3', 'UTC'),\n",
       "          ('cdelt3', 86399.9),\n",
       "          ('crval3', 0),\n",
       "          ('crpix3', 0),\n",
       "          ('cunit3', 's'),\n",
       "          ('cname1', 'Carrington Longitude'),\n",
       "          ('cname2', 'Carrington Latitude'),\n",
       "          ('cname3', 'Time'),\n",
       "          ('dateref', '2020-12-02T00:00:23.400')])"
      ]
     },
     "execution_count": 147,
     "metadata": {},
     "output_type": "execute_result"
    }
   ],
   "source": [
    "cube_header"
   ]
  },
  {
   "cell_type": "code",
   "execution_count": 148,
   "metadata": {},
   "outputs": [],
   "source": [
    "cube_wcs = WCS(cube_header)"
   ]
  },
  {
   "cell_type": "code",
   "execution_count": 149,
   "metadata": {},
   "outputs": [
    {
     "data": {
      "text/plain": [
       "WCS Keywords\n",
       "\n",
       "Number of WCS axes: 3\n",
       "CTYPE : 'CRLN-CAR'  'CRLT-CAR'  'UTC'  \n",
       "CRVAL : 0.0  0.0  0.0  \n",
       "CRPIX : 1800.5  900.5  0.0  \n",
       "PC1_1 PC1_2 PC1_3  : 1.0  0.0  0.0  \n",
       "PC2_1 PC2_2 PC2_3  : 0.0  1.0  0.0  \n",
       "PC3_1 PC3_2 PC3_3  : 0.0  0.0  1.0  \n",
       "CDELT : 0.1  0.1  86399.9  \n",
       "NAXIS : 3600  1800"
      ]
     },
     "execution_count": 149,
     "metadata": {},
     "output_type": "execute_result"
    }
   ],
   "source": [
    "cube_wcs"
   ]
  },
  {
   "cell_type": "code",
   "execution_count": 150,
   "metadata": {},
   "outputs": [
    {
     "data": {
      "text/plain": [
       "[<SkyCoord (HeliographicCarrington: obstime=2020-12-02T00:00:23.400, observer=None): (lon, lat, radius) in (deg, deg, km)\n",
       "     (180.05, -89.95, 695700.)>,\n",
       " <Time object: scale='utc' format='mjd' value=59186.000269675926>]"
      ]
     },
     "execution_count": 150,
     "metadata": {},
     "output_type": "execute_result"
    }
   ],
   "source": [
    "cube_wcs.pixel_to_world(0, 0, 0)"
   ]
  },
  {
   "cell_type": "code",
   "execution_count": 151,
   "metadata": {},
   "outputs": [],
   "source": [
    "data = seq.as_array()"
   ]
  },
  {
   "cell_type": "code",
   "execution_count": 152,
   "metadata": {},
   "outputs": [
    {
     "data": {
      "text/plain": [
       "(1800, 3600, 11)"
      ]
     },
     "execution_count": 152,
     "metadata": {},
     "output_type": "execute_result"
    }
   ],
   "source": [
    "data.shape"
   ]
  },
  {
   "cell_type": "code",
   "execution_count": 153,
   "metadata": {},
   "outputs": [],
   "source": [
    "data = np.rollaxis(data, -1)"
   ]
  },
  {
   "cell_type": "code",
   "execution_count": 154,
   "metadata": {},
   "outputs": [
    {
     "data": {
      "text/plain": [
       "(11, 1800, 3600)"
      ]
     },
     "execution_count": 154,
     "metadata": {},
     "output_type": "execute_result"
    }
   ],
   "source": [
    "data.shape"
   ]
  },
  {
   "cell_type": "code",
   "execution_count": 156,
   "metadata": {},
   "outputs": [],
   "source": [
    "ndc = NDCube(data, wcs=cube_wcs)"
   ]
  },
  {
   "cell_type": "code",
   "execution_count": 157,
   "metadata": {},
   "outputs": [
    {
     "data": {
      "application/vnd.jupyter.widget-view+json": {
       "model_id": "c678d6a627b64ebcac5547cde6e062b8",
       "version_major": 2,
       "version_minor": 0
      },
      "text/plain": [
       "Canvas(toolbar=Toolbar(toolitems=[('Home', 'Reset original view', 'home', 'home'), ('Back', 'Back to previous …"
      ]
     },
     "metadata": {},
     "output_type": "display_data"
    },
    {
     "data": {
      "text/plain": [
       "<sunpy.visualization.animator.wcs.ArrayAnimatorWCS at 0x7ff6b292a730>"
      ]
     },
     "execution_count": 157,
     "metadata": {},
     "output_type": "execute_result"
    }
   ],
   "source": [
    "ndc.plot(vmin=-1500, vmax=1500, cmap='hmimag')"
   ]
  },
  {
   "cell_type": "code",
   "execution_count": 158,
   "metadata": {},
   "outputs": [
    {
     "data": {
      "text/plain": [
       "[('time',),\n",
       " ('custom:pos.heliographic.carrington.lon',\n",
       "  'custom:pos.heliographic.carrington.lat'),\n",
       " ('custom:pos.heliographic.carrington.lon',\n",
       "  'custom:pos.heliographic.carrington.lat')]"
      ]
     },
     "execution_count": 158,
     "metadata": {},
     "output_type": "execute_result"
    }
   ],
   "source": [
    "ndc.array_axis_physical_types"
   ]
  },
  {
   "cell_type": "code",
   "execution_count": 175,
   "metadata": {},
   "outputs": [],
   "source": [
    "small_cube = ndc.crop_by_values([240, -33, None], [260, -13, None], units=(u.deg, u.deg, u.s))"
   ]
  },
  {
   "cell_type": "code",
   "execution_count": 178,
   "metadata": {},
   "outputs": [
    {
     "data": {
      "application/vnd.jupyter.widget-view+json": {
       "model_id": "4e522951112c4413bd37bc78b8856244",
       "version_major": 2,
       "version_minor": 0
      },
      "text/plain": [
       "Canvas(toolbar=Toolbar(toolitems=[('Home', 'Reset original view', 'home', 'home'), ('Back', 'Back to previous …"
      ]
     },
     "metadata": {},
     "output_type": "display_data"
    },
    {
     "data": {
      "text/plain": [
       "<sunpy.visualization.animator.wcs.ArrayAnimatorWCS at 0x7ff6b1aa7fa0>"
      ]
     },
     "execution_count": 178,
     "metadata": {},
     "output_type": "execute_result"
    }
   ],
   "source": [
    "small_cube.plot(vmin=-1500, vmax=1500)"
   ]
  },
  {
   "cell_type": "code",
   "execution_count": 179,
   "metadata": {},
   "outputs": [
    {
     "data": {
      "text/plain": [
       "(<SkyCoord (HeliographicCarrington: obstime=2020-12-02T00:00:23.400, observer=None): (lon, lat, radius) in (deg, deg, km)\n",
       "     [[(240.05, -32.95, 695700.), (240.15, -32.95, 695700.),\n",
       "       (240.25, -32.95, 695700.), ..., (259.85, -32.95, 695700.),\n",
       "       (259.95, -32.95, 695700.), (260.05, -32.95, 695700.)],\n",
       "      [(240.05, -32.85, 695700.), (240.15, -32.85, 695700.),\n",
       "       (240.25, -32.85, 695700.), ..., (259.85, -32.85, 695700.),\n",
       "       (259.95, -32.85, 695700.), (260.05, -32.85, 695700.)],\n",
       "      [(240.05, -32.75, 695700.), (240.15, -32.75, 695700.),\n",
       "       (240.25, -32.75, 695700.), ..., (259.85, -32.75, 695700.),\n",
       "       (259.95, -32.75, 695700.), (260.05, -32.75, 695700.)],\n",
       "      ...,\n",
       "      [(240.05, -13.15, 695700.), (240.15, -13.15, 695700.),\n",
       "       (240.25, -13.15, 695700.), ..., (259.85, -13.15, 695700.),\n",
       "       (259.95, -13.15, 695700.), (260.05, -13.15, 695700.)],\n",
       "      [(240.05, -13.05, 695700.), (240.15, -13.05, 695700.),\n",
       "       (240.25, -13.05, 695700.), ..., (259.85, -13.05, 695700.),\n",
       "       (259.95, -13.05, 695700.), (260.05, -13.05, 695700.)],\n",
       "      [(240.05, -12.95, 695700.), (240.15, -12.95, 695700.),\n",
       "       (240.25, -12.95, 695700.), ..., (259.85, -12.95, 695700.),\n",
       "       (259.95, -12.95, 695700.), (260.05, -12.95, 695700.)]]>,\n",
       " <Time object: scale='utc' format='mjd' value=[59186.00026968 59187.00026852 59188.00026736 59189.0002662\n",
       "  59190.00026505 59191.00026389 59192.00026273 59193.00026157\n",
       "  59194.00026042 59195.00025926 59196.0002581 ]>)"
      ]
     },
     "execution_count": 179,
     "metadata": {},
     "output_type": "execute_result"
    }
   ],
   "source": [
    "small_cube.axis_world_coords()"
   ]
  },
  {
   "cell_type": "code",
   "execution_count": 180,
   "metadata": {},
   "outputs": [
    {
     "data": {
      "text/plain": [
       "(<Time object: scale='utc' format='mjd' value=[59186.00026968 59187.00026852 59188.00026736 59189.0002662\n",
       "  59190.00026505 59191.00026389 59192.00026273 59193.00026157\n",
       "  59194.00026042 59195.00025926 59196.0002581 ]>,)"
      ]
     },
     "execution_count": 180,
     "metadata": {},
     "output_type": "execute_result"
    }
   ],
   "source": [
    "small_cube.axis_world_coords(\"time\")"
   ]
  }
 ],
 "metadata": {
  "kernelspec": {
   "display_name": "Environment (virtualenv_predsci)",
   "language": "python",
   "name": "virtualenv_predsci"
  },
  "language_info": {
   "codemirror_mode": {
    "name": "ipython",
    "version": 3
   },
   "file_extension": ".py",
   "mimetype": "text/x-python",
   "name": "python",
   "nbconvert_exporter": "python",
   "pygments_lexer": "ipython3",
   "version": "3.9.1"
  }
 },
 "nbformat": 4,
 "nbformat_minor": 4
}
