{
 "cells": [
  {
   "cell_type": "markdown",
   "metadata": {},
   "source": [
    "# Searching and Downloading Data with SunPy\n",
    "\n",
    "SunPy provides `Fido` a unified interface to many different solar physics data providers. As well as being a single user interface to search and download data in Python, `Fido` aims to be easy to extend to new data providers. These `Fido` plugins, normally referred to as clients, can be implemented in the `sunpy` package or any other package.\n",
    "\n",
    "In this session we will go through how `Fido` works and how you can use it to query many different data sources at one and filter the results."
   ]
  },
  {
   "cell_type": "markdown",
   "metadata": {},
   "source": [
    "## A Simple Example\n",
    "\n",
    "The most common place `Fido` will search is the [Virtual Solar Observatory (VSO)](https://sdac.virtualsolar.org/cgi/search) which provides a unified search API to many different data providers. Let's look for some HMI data through `Fido` and the VSO:"
   ]
  },
  {
   "cell_type": "code",
   "execution_count": null,
   "metadata": {},
   "outputs": [],
   "source": [
    "from sunpy.net import Fido, attrs as a\n",
    "import astropy.units as u"
   ]
  },
  {
   "cell_type": "code",
   "execution_count": null,
   "metadata": {
    "scrolled": true
   },
   "outputs": [],
   "source": [
    "Fido.search(a.Time(\"2020/12/10\", \"2020/12/11\"))"
   ]
  },
  {
   "cell_type": "code",
   "execution_count": null,
   "metadata": {},
   "outputs": [],
   "source": [
    "Fido.search(a.Time(\"2020/12/10\", \"2020/12/11\"), a.Instrument.hmi)"
   ]
  },
  {
   "cell_type": "code",
   "execution_count": null,
   "metadata": {},
   "outputs": [],
   "source": [
    "Fido.search(a.Time(\"2020/12/10\", \"2020/12/11\"), a.Instrument.hmi, a.Sample(1*u.day))"
   ]
  },
  {
   "cell_type": "code",
   "execution_count": null,
   "metadata": {},
   "outputs": [],
   "source": [
    "results = Fido.search(a.Time(\"2020/12/10\", \"2020/12/11\"), a.Instrument.hmi, a.Sample(1*u.day), a.Physobs.los_magnetic_field)\n",
    "results"
   ]
  },
  {
   "cell_type": "code",
   "execution_count": null,
   "metadata": {},
   "outputs": [],
   "source": [
    "Fido.fetch(results)"
   ]
  },
  {
   "cell_type": "markdown",
   "metadata": {},
   "source": [
    "## A more complex example: HMI and AIA\n",
    "\n",
    "Let's extend this example and do some searches for both a HMI and some AIA data at the same time. To make this work we can combine attrs together using the `&` (and) and `|` (or) operators:"
   ]
  },
  {
   "cell_type": "code",
   "execution_count": null,
   "metadata": {},
   "outputs": [],
   "source": [
    "time = a.Time(\"2020/11/10\", \"2020/11/11\") & a.Sample(1*u.day)\n",
    "time "
   ]
  },
  {
   "cell_type": "code",
   "execution_count": null,
   "metadata": {},
   "outputs": [],
   "source": [
    "hmi = a.Instrument.hmi & a.Physobs.los_magnetic_field\n",
    "hmi"
   ]
  },
  {
   "cell_type": "code",
   "execution_count": null,
   "metadata": {},
   "outputs": [],
   "source": [
    "aia = a.Instrument.aia & a.Wavelength(17.1*u.nm)\n",
    "aia"
   ]
  },
  {
   "cell_type": "code",
   "execution_count": null,
   "metadata": {},
   "outputs": [],
   "source": [
    "Fido.search(time, hmi | aia)"
   ]
  },
  {
   "cell_type": "markdown",
   "metadata": {},
   "source": [
    "## Querying Multiple Sources\n",
    "\n",
    "Both of these examples so far have focused on the VSO. Fido supports many different clients:"
   ]
  },
  {
   "cell_type": "code",
   "execution_count": null,
   "metadata": {},
   "outputs": [],
   "source": [
    "Fido"
   ]
  },
  {
   "cell_type": "markdown",
   "metadata": {},
   "source": [
    "### SUVI"
   ]
  },
  {
   "cell_type": "code",
   "execution_count": null,
   "metadata": {},
   "outputs": [],
   "source": [
    "suvi = a.Instrument.suvi & a.Level.two"
   ]
  },
  {
   "cell_type": "code",
   "execution_count": null,
   "metadata": {},
   "outputs": [],
   "source": [
    "Fido.search(a.Time(\"2020/11/10\", \"2020/11/10T00:00:10\"),\n",
    "            a.Wavelength(171*u.AA),\n",
    "            a.Instrument.aia | suvi)"
   ]
  },
  {
   "cell_type": "markdown",
   "metadata": {},
   "source": [
    "## JSOC\n",
    "\n",
    "In addition to the VSO client which serves data via JSOC, sunpy has it's own [JSOC](http://jsoc.stanford.edu/ajax/exportdata.html) client. Which can be faster and more flexible than the VSO for large or complex exports. However, it is harder to use as the VSO has put a lot of effort into indexing the JSOC data in a way which is easier to search via common parameters like Instrument and physical type.\n",
    "\n",
    "Let's start with a simple AIA search using the JSOC:"
   ]
  },
  {
   "cell_type": "code",
   "execution_count": null,
   "metadata": {},
   "outputs": [],
   "source": [
    "a.jsoc.Series"
   ]
  },
  {
   "cell_type": "code",
   "execution_count": null,
   "metadata": {},
   "outputs": [],
   "source": [
    "Fido.search(a.Time(\"2020/11/10\", \"2020/11/11\"), a.Sample(1*u.hour), a.jsoc.Series.aia_lev1_euv_12s)"
   ]
  },
  {
   "cell_type": "code",
   "execution_count": null,
   "metadata": {},
   "outputs": [],
   "source": [
    "Fido.search(a.Time(\"2020/11/10\", \"2020/11/11T06:00:00\"),\n",
    "            a.Sample(1*u.hour),\n",
    "            a.jsoc.Series.aia_lev1_euv_12s | a.jsoc.Series.hmi_b_720s)"
   ]
  },
  {
   "cell_type": "code",
   "execution_count": null,
   "metadata": {},
   "outputs": [],
   "source": [
    "aia = a.jsoc.Series.aia_lev1_euv_12s & a.Wavelength(304*u.AA) & a.jsoc.Segment.image\n",
    "hmi = a.jsoc.Series.hmi_m_720s & a.jsoc.Segment.magnetogram"
   ]
  },
  {
   "cell_type": "code",
   "execution_count": null,
   "metadata": {},
   "outputs": [],
   "source": [
    "results = Fido.search(a.Time(\"2020/11/10\", \"2020/11/10T00:50:00\"),\n",
    "                      a.Sample(1*u.hour),\n",
    "                      aia | hmi,\n",
    "                      a.jsoc.Notify(\"stuart@cadair.com\"))"
   ]
  },
  {
   "cell_type": "code",
   "execution_count": null,
   "metadata": {},
   "outputs": [],
   "source": [
    "results"
   ]
  },
  {
   "cell_type": "code",
   "execution_count": null,
   "metadata": {},
   "outputs": [],
   "source": [
    "files = Fido.fetch(results)\n",
    "files"
   ]
  },
  {
   "cell_type": "markdown",
   "metadata": {},
   "source": [
    "### MapSequence\n",
    "\n",
    "Map supports an iterable of disjoint maps called `MapSequence`, let's make one out of both these files we downloaded."
   ]
  },
  {
   "cell_type": "code",
   "execution_count": null,
   "metadata": {},
   "outputs": [],
   "source": [
    "%matplotlib widget"
   ]
  },
  {
   "cell_type": "code",
   "execution_count": null,
   "metadata": {},
   "outputs": [],
   "source": [
    "import sunpy.map"
   ]
  },
  {
   "cell_type": "code",
   "execution_count": null,
   "metadata": {},
   "outputs": [],
   "source": [
    "maps = sunpy.map.Map(files, sequence=True)"
   ]
  },
  {
   "cell_type": "code",
   "execution_count": null,
   "metadata": {},
   "outputs": [],
   "source": [
    "maps"
   ]
  },
  {
   "cell_type": "code",
   "execution_count": null,
   "metadata": {},
   "outputs": [],
   "source": [
    "maps[0].peek(cmap='hmimag')"
   ]
  },
  {
   "cell_type": "markdown",
   "metadata": {},
   "source": [
    "## Querying the Heliophysics Events Knowlesgebase (HEK)\n",
    "\n",
    "Sunpy has a client for querying the HEK, which can be used to search for flares and other kinds of events. See https://docs.sunpy.org/en/stable/guide/acquiring_data/hek.html for more details.\n",
    "\n",
    "It's worth noting that in the upcoming sunpy 2.1 the HEK (and JSOC metadata) queries will be built into `Fido`, but the query syntax will remain largely the same."
   ]
  },
  {
   "cell_type": "code",
   "execution_count": null,
   "metadata": {},
   "outputs": [],
   "source": [
    "import numpy as np\n",
    "import matplotlib.pyplot as plt\n",
    "from astropy.coordinates import SkyCoord\n",
    "\n",
    "import sunpy.map"
   ]
  },
  {
   "cell_type": "code",
   "execution_count": null,
   "metadata": {},
   "outputs": [],
   "source": [
    "from sunpy.net import hek"
   ]
  },
  {
   "cell_type": "code",
   "execution_count": null,
   "metadata": {},
   "outputs": [],
   "source": [
    "client = hek.HEKClient()"
   ]
  },
  {
   "cell_type": "code",
   "execution_count": null,
   "metadata": {},
   "outputs": [],
   "source": [
    "res = client.search(hek.attrs.Time(\"2020/12/01\", \"2020/12/16\"), hek.attrs.EventType('FL'))"
   ]
  },
  {
   "cell_type": "code",
   "execution_count": null,
   "metadata": {},
   "outputs": [],
   "source": [
    "res"
   ]
  },
  {
   "cell_type": "markdown",
   "metadata": {},
   "source": [
    "This results object is a slightly customised, [astropy Table](https://docs.astropy.org/en/stable/table/index.html) which allows us to inspect it and work with the flare results. First we can list the keys."
   ]
  },
  {
   "cell_type": "code",
   "execution_count": null,
   "metadata": {},
   "outputs": [],
   "source": [
    "res.keys()"
   ]
  },
  {
   "cell_type": "markdown",
   "metadata": {},
   "source": [
    "Let's have a look at the flare class:"
   ]
  },
  {
   "cell_type": "code",
   "execution_count": null,
   "metadata": {},
   "outputs": [],
   "source": [
    "res['fl_goescls']"
   ]
  },
  {
   "cell_type": "markdown",
   "metadata": {},
   "source": [
    "Let's select only the results which have a GOES flare class."
   ]
  },
  {
   "cell_type": "code",
   "execution_count": null,
   "metadata": {},
   "outputs": [],
   "source": [
    "flares = res[res['fl_goescls'].nonzero()]\n",
    "flares"
   ]
  },
  {
   "cell_type": "code",
   "execution_count": null,
   "metadata": {},
   "outputs": [],
   "source": [
    "flares['event_peaktime', 'fl_goescls', 'hpc_coord']"
   ]
  },
  {
   "cell_type": "markdown",
   "metadata": {},
   "source": [
    "This hpc_coord isn't very useful, so let's convert it into a coordinate object we can use:"
   ]
  },
  {
   "cell_type": "code",
   "execution_count": null,
   "metadata": {},
   "outputs": [],
   "source": [
    "point = flares['hpc_coord'][0]"
   ]
  },
  {
   "cell_type": "code",
   "execution_count": null,
   "metadata": {},
   "outputs": [],
   "source": [
    "point"
   ]
  },
  {
   "cell_type": "code",
   "execution_count": null,
   "metadata": {},
   "outputs": [],
   "source": [
    "point = point.strip(\"POINT()\")\n",
    "point"
   ]
  },
  {
   "cell_type": "code",
   "execution_count": null,
   "metadata": {},
   "outputs": [],
   "source": [
    "point = point.split()\n",
    "point"
   ]
  },
  {
   "cell_type": "code",
   "execution_count": null,
   "metadata": {},
   "outputs": [],
   "source": [
    "list(map(float, point))"
   ]
  },
  {
   "cell_type": "code",
   "execution_count": null,
   "metadata": {},
   "outputs": [],
   "source": [
    "coords = []\n",
    "for c in flares['hpc_coord']:\n",
    "    coords.append(list(map(float, c.strip(\"POINT()\").split())))"
   ]
  },
  {
   "cell_type": "markdown",
   "metadata": {},
   "source": [
    "Having cleaned up the coordinates, we can inject them back into the table, because you can put astropy coordinates into an astropy table."
   ]
  },
  {
   "cell_type": "code",
   "execution_count": null,
   "metadata": {},
   "outputs": [],
   "source": [
    "flares['hpc_coord'] = SkyCoord(coords, unit=u.arcsec, obstime=flares['event_peaktime'], observer=\"earth\", frame=\"helioprojective\")"
   ]
  },
  {
   "cell_type": "code",
   "execution_count": null,
   "metadata": {},
   "outputs": [],
   "source": [
    "flares['event_peaktime', 'fl_goescls', 'hpc_coord']"
   ]
  },
  {
   "cell_type": "markdown",
   "metadata": {},
   "source": [
    "Now let's create a simple map and plot the locations of all the flares on it."
   ]
  },
  {
   "cell_type": "code",
   "execution_count": null,
   "metadata": {},
   "outputs": [],
   "source": [
    "shape = (260,260)"
   ]
  },
  {
   "cell_type": "code",
   "execution_count": null,
   "metadata": {},
   "outputs": [],
   "source": [
    "header = sunpy.map.make_fitswcs_header(shape,\n",
    "                                       SkyCoord(0, 0, unit=u.arcsec, obstime=flares['event_peaktime'][0], observer=\"earth\", frame=\"helioprojective\"),\n",
    "                                       scale=[10,10]*u.arcsec/u.pix)"
   ]
  },
  {
   "cell_type": "code",
   "execution_count": null,
   "metadata": {},
   "outputs": [],
   "source": [
    "empty = sunpy.map.Map(np.zeros(shape)*np.nan, header)"
   ]
  },
  {
   "cell_type": "code",
   "execution_count": null,
   "metadata": {},
   "outputs": [],
   "source": [
    "plt.figure()\n",
    "ax = plt.subplot(projection=empty)\n",
    "empty.plot(cmap=\"Blues\")\n",
    "empty.draw_grid(color='k')\n",
    "ax.plot_coord(flares['hpc_coord'], \"x\")"
   ]
  }
 ],
 "metadata": {
  "kernelspec": {
   "display_name": "Environment (virtualenv_predsci)",
   "language": "python",
   "name": "virtualenv_predsci"
  },
  "language_info": {
   "codemirror_mode": {
    "name": "ipython",
    "version": 3
   },
   "file_extension": ".py",
   "mimetype": "text/x-python",
   "name": "python",
   "nbconvert_exporter": "python",
   "pygments_lexer": "ipython3",
   "version": "3.9.1"
  }
 },
 "nbformat": 4,
 "nbformat_minor": 4
}
