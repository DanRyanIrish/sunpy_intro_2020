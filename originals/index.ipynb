{
 "cells": [
  {
   "cell_type": "markdown",
   "metadata": {},
   "source": [
    "# Introduction to SunPy Workshop\n",
    "\n",
    "This repository will contain the materials for an introductory workshop on sunpy and solar data in Python.\n",
    "\n",
    "To use these notebooks you will need to install sunpy and jupyter."
   ]
  },
  {
   "cell_type": "markdown",
   "metadata": {},
   "source": [
    "# Sessions\n",
    "\n",
    "Links to material for the sessions will be added below nearer the workshop.\n",
    "\n",
    "1. Overview of images in sunpy.\n",
    "1. Coordinates and World Coordinate Systems.\n",
    "1. Searching for data and events with sunpy."
   ]
  }
 ],
 "metadata": {
  "kernelspec": {
   "display_name": "Environment (virtualenv_predsci)",
   "language": "python",
   "name": "virtualenv_predsci"
  },
  "language_info": {
   "codemirror_mode": {
    "name": "ipython",
    "version": 3
   },
   "file_extension": ".py",
   "mimetype": "text/x-python",
   "name": "python",
   "nbconvert_exporter": "python",
   "pygments_lexer": "ipython3",
   "version": "3.9.0"
  }
 },
 "nbformat": 4,
 "nbformat_minor": 4
}
