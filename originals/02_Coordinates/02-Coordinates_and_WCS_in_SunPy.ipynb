{
 "cells": [
  {
   "cell_type": "markdown",
   "metadata": {},
   "source": [
    "# Coordinates and World Coordinate Systems in SunPy\n",
    "\n",
    "In this session we will talk about common world coordinate frames used in solar physics, and how they relate to images taken of the Sun. We will also discuss how the World Coordinate System (WCS) information is stored in FITS headers, and read and used by sunpy. We will finish with some examples of how this information can be used to manipulate images and assist in scientific workflows. "
   ]
  },
  {
   "cell_type": "markdown",
   "metadata": {},
   "source": [
    "## Supported Physical Coordinate Systems\n",
    "\n",
    "SunPy, via Astropy's coordinate framework supports a number of physical coordinate systems commonly used in solar physics. These are listed below:\n"
   ]
  },
  {
   "cell_type": "markdown",
   "metadata": {},
   "source": [
    "<table class=\"colwidths-auto align-default table\" border=\"0\">\n",
    "<thead>\n",
    "<tr class=\"row-odd\"><th class=\"head\"><p>Coordinate system</p></th>\n",
    "<th class=\"head\"><p>Abbreviation</p></th>\n",
    "<th class=\"head\"><p>SunPy/Astropy equivalent</p></th>\n",
    "<th class=\"head\"><p>Notes</p></th>\n",
    "</tr>\n",
    "</thead>\n",
    "<tbody>\n",
    "<tr class=\"row-even\"><td><p>Heliocentric Aries Ecliptic (Mean)</p></td>\n",
    "<td><p>HAE (also HEC)</p></td>\n",
    "<td><p>Astropy’s <a class=\"reference external\" href=\"https://docs.astropy.org/en/stable/api/astropy.coordinates.HeliocentricMeanEcliptic.html#astropy.coordinates.HeliocentricMeanEcliptic\" title=\"(in Astropy v4.2)\"><code class=\"xref py py-obj docutils literal notranslate\"><span class=\"pre\">HeliocentricMeanEcliptic</span></code></a></p></td>\n",
    "<td></td>\n",
    "</tr>\n",
    "<tr class=\"row-odd\"><td><p>Heliocentric Cartesian</p></td>\n",
    "<td><p>HCC</p></td>\n",
    "<td><p><a class=\"reference internal\" href=\"../../api/sunpy.coordinates.frames.Heliocentric.html#sunpy.coordinates.frames.Heliocentric\" title=\"sunpy.coordinates.frames.Heliocentric\"><code class=\"xref py py-obj docutils literal notranslate\"><span class=\"pre\">Heliocentric</span></code></a></p></td>\n",
    "<td></td>\n",
    "</tr>\n",
    "<tr class=\"row-even\"><td><p>Heliocentric Earth Ecliptic</p></td>\n",
    "<td><p>HEE</p></td>\n",
    "<td><p><a class=\"reference internal\" href=\"../../api/sunpy.coordinates.frames.HeliocentricEarthEcliptic.html#sunpy.coordinates.frames.HeliocentricEarthEcliptic\" title=\"sunpy.coordinates.frames.HeliocentricEarthEcliptic\"><code class=\"xref py py-obj docutils literal notranslate\"><span class=\"pre\">HeliocentricEarthEcliptic</span></code></a></p></td>\n",
    "<td></td>\n",
    "</tr>\n",
    "<tr class=\"row-odd\"><td><p>Heliocentric Earth Equatorial</p></td>\n",
    "<td><p>HEEQ (also HEQ)</p></td>\n",
    "<td><p><a class=\"reference internal\" href=\"../../api/sunpy.coordinates.frames.HeliographicStonyhurst.html#sunpy.coordinates.frames.HeliographicStonyhurst\" title=\"sunpy.coordinates.frames.HeliographicStonyhurst\"><code class=\"xref py py-obj docutils literal notranslate\"><span class=\"pre\">HeliographicStonyhurst</span></code></a></p></td>\n",
    "<td><p>Use a Cartesian representation</p></td>\n",
    "</tr>\n",
    "<tr class=\"row-even\"><td><p>Heliocentric Inertial</p></td>\n",
    "<td><p>HCI</p></td>\n",
    "<td><p><a class=\"reference internal\" href=\"../../api/sunpy.coordinates.frames.HeliocentricInertial.html#sunpy.coordinates.frames.HeliocentricInertial\" title=\"sunpy.coordinates.frames.HeliocentricInertial\"><code class=\"xref py py-obj docutils literal notranslate\"><span class=\"pre\">HeliocentricInertial</span></code></a></p></td>\n",
    "<td></td>\n",
    "</tr>\n",
    "<tr class=\"row-odd\"><td><p>Heliocentric Radial</p></td>\n",
    "<td><p>HCR</p></td>\n",
    "<td><p>similar to <a class=\"reference internal\" href=\"../../api/sunpy.coordinates.frames.Heliocentric.html#sunpy.coordinates.frames.Heliocentric\" title=\"sunpy.coordinates.frames.Heliocentric\"><code class=\"xref py py-obj docutils literal notranslate\"><span class=\"pre\">Heliocentric</span></code></a></p></td>\n",
    "<td><p>Use a cylindrical representation, <em>but</em> with a 90-degree offset in <code class=\"docutils literal notranslate\"><span class=\"pre\">psi</span></code></p></td>\n",
    "</tr>\n",
    "<tr class=\"row-even\"><td><p>Heliocentric/Heliographic Radial-Tangential-Normal</p></td>\n",
    "<td><p>HGRTN</p></td>\n",
    "<td><p>similar to <a class=\"reference internal\" href=\"../../api/sunpy.coordinates.frames.Heliocentric.html#sunpy.coordinates.frames.Heliocentric\" title=\"sunpy.coordinates.frames.Heliocentric\"><code class=\"xref py py-obj docutils literal notranslate\"><span class=\"pre\">Heliocentric</span></code></a></p></td>\n",
    "<td><p>The axes are permuted, with HCC X, Y, Z equivalent respectively to HGRTN Y, Z, X</p></td>\n",
    "</tr>\n",
    "<tr class=\"row-odd\"><td><p>Heliographic Carrington</p></td>\n",
    "<td><p>HGC</p></td>\n",
    "<td><p><a class=\"reference internal\" href=\"../../api/sunpy.coordinates.frames.HeliographicCarrington.html#sunpy.coordinates.frames.HeliographicCarrington\" title=\"sunpy.coordinates.frames.HeliographicCarrington\"><code class=\"xref py py-obj docutils literal notranslate\"><span class=\"pre\">HeliographicCarrington</span></code></a></p></td>\n",
    "<td></td>\n",
    "</tr>\n",
    "<tr class=\"row-even\"><td><p>Heliographic Stonyhurst</p></td>\n",
    "<td><p>HGS</p></td>\n",
    "<td><p><a class=\"reference internal\" href=\"../../api/sunpy.coordinates.frames.HeliographicStonyhurst.html#sunpy.coordinates.frames.HeliographicStonyhurst\" title=\"sunpy.coordinates.frames.HeliographicStonyhurst\"><code class=\"xref py py-obj docutils literal notranslate\"><span class=\"pre\">HeliographicStonyhurst</span></code></a></p></td>\n",
    "<td></td>\n",
    "</tr>\n",
    "<tr class=\"row-odd\"><td><p>Helioprojective Cartesian</p></td>\n",
    "<td><p>HPC</p></td>\n",
    "<td><p><a class=\"reference internal\" href=\"../../api/sunpy.coordinates.frames.Helioprojective.html#sunpy.coordinates.frames.Helioprojective\" title=\"sunpy.coordinates.frames.Helioprojective\"><code class=\"xref py py-obj docutils literal notranslate\"><span class=\"pre\">Helioprojective</span></code></a></p></td>\n",
    "<td></td>\n",
    "</tr>\n",
    "<tr class=\"row-even\"><td><p>Geocentric Earth Equatorial (Mean)</p></td>\n",
    "<td><p>GEI</p></td>\n",
    "<td><p><a class=\"reference internal\" href=\"../../api/sunpy.coordinates.frames.GeocentricEarthEquatorial.html#sunpy.coordinates.frames.GeocentricEarthEquatorial\" title=\"sunpy.coordinates.frames.GeocentricEarthEquatorial\"><code class=\"xref py py-obj docutils literal notranslate\"><span class=\"pre\">GeocentricEarthEquatorial</span></code></a></p></td>\n",
    "<td></td>\n",
    "</tr>\n",
    "<tr class=\"row-odd\"><td><p>Geographic</p></td>\n",
    "<td><p>GEO</p></td>\n",
    "<td><p>Astropy’s <a class=\"reference external\" href=\"https://docs.astropy.org/en/stable/api/astropy.coordinates.ITRS.html#astropy.coordinates.ITRS\" title=\"(in Astropy v4.2)\"><code class=\"xref py py-obj docutils literal notranslate\"><span class=\"pre\">ITRS</span></code></a></p></td>\n",
    "<td><p>The precise geographic definitions may differ</p></td>\n",
    "</tr>\n",
    "<tr class=\"row-even\"><td><p>Geocentric Solar Ecliptic</p></td>\n",
    "<td><p>GSE</p></td>\n",
    "<td><p><a class=\"reference internal\" href=\"../../api/sunpy.coordinates.frames.GeocentricSolarEcliptic.html#sunpy.coordinates.frames.GeocentricSolarEcliptic\" title=\"sunpy.coordinates.frames.GeocentricSolarEcliptic\"><code class=\"xref py py-obj docutils literal notranslate\"><span class=\"pre\">GeocentricSolarEcliptic</span></code></a></p></td>\n",
    "<td></td>\n",
    "</tr>\n",
    "</tbody>\n",
    "</table>\n",
    "\n",
    "Table taken from: \n",
    "https://docs.sunpy.org/en/stable/code_ref/coordinates/index.html#supported-coordinate-systems"
   ]
  },
  {
   "cell_type": "markdown",
   "metadata": {},
   "source": [
    "## Using SkyCoord to transform between frames"
   ]
  },
  {
   "cell_type": "code",
   "execution_count": null,
   "metadata": {},
   "outputs": [],
   "source": [
    "import astropy.units as u\n",
    "from astropy.coordinates import SkyCoord\n",
    "import sunpy.coordinates"
   ]
  },
  {
   "cell_type": "code",
   "execution_count": null,
   "metadata": {},
   "outputs": [],
   "source": [
    "hgs = SkyCoord(0 * u.deg, 0 * u.deg, obstime=\"2020/12/15T00:00:00\", frame=\"heliographic_stonyhurst\")\n",
    "hgs"
   ]
  },
  {
   "cell_type": "code",
   "execution_count": null,
   "metadata": {},
   "outputs": [],
   "source": [
    "hpc = SkyCoord(0 * u.arcsec, 0 * u.arcsec, obstime=\"2020/12/15T00:00:00\",\n",
    "               observer=\"earth\", frame=\"helioprojective\")\n",
    "hpc"
   ]
  },
  {
   "cell_type": "code",
   "execution_count": null,
   "metadata": {},
   "outputs": [],
   "source": [
    "hpc.transform_to(\"heliographic_stonyhurst\")"
   ]
  },
  {
   "cell_type": "markdown",
   "metadata": {},
   "source": [
    "### Changing observers"
   ]
  },
  {
   "cell_type": "code",
   "execution_count": null,
   "metadata": {},
   "outputs": [],
   "source": [
    "hpc_earth = sunpy.coordinates.Helioprojective(observer=\"earth\", obstime=\"2017-07-26\")"
   ]
  },
  {
   "cell_type": "code",
   "execution_count": null,
   "metadata": {},
   "outputs": [],
   "source": [
    "hpc_venus = SkyCoord(0*u.arcsec, 0*u.arcsec, observer=\"venus\", obstime=\"2017-07-26\", frame=\"helioprojective\")"
   ]
  },
  {
   "cell_type": "code",
   "execution_count": null,
   "metadata": {},
   "outputs": [],
   "source": [
    "hpc_venus.transform_to(hpc_venus)"
   ]
  },
  {
   "cell_type": "markdown",
   "metadata": {},
   "source": [
    "## Projected Coordinate Systems"
   ]
  },
  {
   "cell_type": "markdown",
   "metadata": {},
   "source": [
    "<div style=\"float:left; width:39%\">\n",
    "<p>\n",
    "When taking images of the sky, we are projecting the spherical celestial coordinate system onto a 2-dimensional plane, which means that there is no simple linear relation between pixel coordinates and celestial coordinates\n",
    "</p>\n",
    "<p>\n",
    "There are multiple coordinate systems used to describe the locations in 2D and 3D space for both Astronomy and Solar Physics. We shall use a couple of these systems here as examples but if you want to know more about them there are many of resources avalible.\n",
    "</p>\n",
    "<p>\n",
    "Useful coordinate and WCS resources:\n",
    "<ol>\n",
    "<li>\n",
    "<a href=\"http://www.aanda.org/10.1051/0004-6361:20054262\">\n",
    "Thompson, W. T. Coordinate systems for solar image data. Astronomy and Astrophysics 449, 791–803 (2006).\n",
    "</a>\n",
    "</li>\n",
    "<li>\n",
    "<a href=\"http://www.edpsciences.org/10.1051/0004-6361:20021326\">\n",
    "Greisen, E. W. & Calabretta, M. R. Representations of world coordinates in FITS. Astronomy and Astrophysics 395, 1061–1075 (2002).\n",
    "</a>\n",
    "</li>\n",
    "<li>\n",
    "<a href=\"http://www.edpsciences.org/10.1051/0004-6361:20021327\">\n",
    "Calabretta, M. R. & Greisen, E. W. Representations of celestial coordinates in FITS. Astronomy and Astrophysics 395, 1077–1122 (2002).\n",
    "</a>\n",
    "</li>\n",
    "<li>\n",
    "<a href=\"https://fits.gsfc.nasa.gov/fits_wcs.html\">\n",
    "FITS WCS Page\n",
    "</a>\n",
    "</li>\n",
    "</ol>\n",
    "\n",
    "</div>\n",
    "<div style=\"float:left; width:59%\">\n",
    "<img src=\"coord_inset.png\" width=100% />\n",
    "</div>"
   ]
  },
  {
   "cell_type": "markdown",
   "metadata": {},
   "source": [
    "# WCS: Mapping Physical Coordinates to Arrays\n",
    "\n",
    "A fundamental part of sunpy's Map and other parts of the astronomical Python ecosystem is the \"World Coordinate System\". This system is a way to convert between \"pixel\" and \"world\" coordinates, be those spatial, spectral, temporal or anything else you wish.\n",
    "\n",
    "In this tutorial we will be using the FITS WCS formalisim, this is described in a number of papers, most recently the FITS 4 specification. This formalism combines two key things, the mathematical transforms from \"pixel\" coords to \"world\" coords, and a serialisation mechanism compatible with the FITS file specification.\n",
    "\n",
    "Astropy provides [`astropy.wcs`](https://docs.astropy.org/en/stable/wcs/index.html) which provides a convienient way of using the FITS WCS formalism. This is what we will be using in these tutorials to do this pixel to world coordinate conversion."
   ]
  },
  {
   "cell_type": "code",
   "execution_count": null,
   "metadata": {},
   "outputs": [],
   "source": [
    "%matplotlib widget"
   ]
  },
  {
   "cell_type": "code",
   "execution_count": null,
   "metadata": {},
   "outputs": [],
   "source": [
    "import matplotlib.pyplot as plt\n",
    "\n",
    "from sunpy.data.sample import AIA_171_ROLL_IMAGE\n",
    "import sunpy.map"
   ]
  },
  {
   "cell_type": "code",
   "execution_count": null,
   "metadata": {},
   "outputs": [],
   "source": [
    "aiamap = sunpy.map.Map(AIA_171_ROLL_IMAGE)"
   ]
  },
  {
   "cell_type": "code",
   "execution_count": null,
   "metadata": {},
   "outputs": [],
   "source": [
    "aiamap"
   ]
  },
  {
   "cell_type": "code",
   "execution_count": null,
   "metadata": {},
   "outputs": [],
   "source": [
    "aiamap.wcs"
   ]
  },
  {
   "cell_type": "code",
   "execution_count": null,
   "metadata": {},
   "outputs": [],
   "source": [
    "zeroth = aiamap.wcs.pixel_to_world(0*u.pix, 0*u.pix)\n",
    "zeroth"
   ]
  },
  {
   "cell_type": "code",
   "execution_count": null,
   "metadata": {},
   "outputs": [],
   "source": [
    "aiamap.wcs.world_to_pixel(zeroth)"
   ]
  },
  {
   "cell_type": "markdown",
   "metadata": {},
   "source": [
    "### WCS and Map\n",
    "\n",
    "The sunpy Map object constructs the WCS object from the metadata, giving us a way of \"fixing\" data sources which aren't compliant with the modern FITS specifications.\n",
    "\n",
    "We can use these to walk through the key components of a celestial WCS."
   ]
  },
  {
   "cell_type": "code",
   "execution_count": null,
   "metadata": {},
   "outputs": [],
   "source": [
    "aiamap.reference_coordinate"
   ]
  },
  {
   "cell_type": "code",
   "execution_count": null,
   "metadata": {},
   "outputs": [],
   "source": [
    "aiamap.reference_pixel"
   ]
  },
  {
   "cell_type": "code",
   "execution_count": null,
   "metadata": {},
   "outputs": [],
   "source": [
    "aiamap.scale"
   ]
  },
  {
   "cell_type": "code",
   "execution_count": null,
   "metadata": {},
   "outputs": [],
   "source": [
    "aiamap.rotation_matrix"
   ]
  },
  {
   "cell_type": "markdown",
   "metadata": {},
   "source": [
    "### Manipulating the Map"
   ]
  },
  {
   "cell_type": "code",
   "execution_count": null,
   "metadata": {},
   "outputs": [],
   "source": [
    "aiamap"
   ]
  },
  {
   "cell_type": "code",
   "execution_count": null,
   "metadata": {},
   "outputs": [],
   "source": [
    "aiamap.peek()"
   ]
  },
  {
   "cell_type": "markdown",
   "metadata": {},
   "source": [
    "### Rotating Maps"
   ]
  },
  {
   "cell_type": "code",
   "execution_count": null,
   "metadata": {},
   "outputs": [],
   "source": [
    "aia_aligned = aiamap.rotate(order=3)"
   ]
  },
  {
   "cell_type": "code",
   "execution_count": null,
   "metadata": {},
   "outputs": [],
   "source": [
    "aia_aligned.rotation_matrix"
   ]
  },
  {
   "cell_type": "code",
   "execution_count": null,
   "metadata": {},
   "outputs": [],
   "source": [
    "aia_aligned"
   ]
  },
  {
   "cell_type": "code",
   "execution_count": null,
   "metadata": {},
   "outputs": [],
   "source": [
    "aia_aligned.peek()"
   ]
  },
  {
   "cell_type": "markdown",
   "metadata": {},
   "source": [
    "### Cropping Maps"
   ]
  },
  {
   "cell_type": "code",
   "execution_count": null,
   "metadata": {},
   "outputs": [],
   "source": [
    "bl_tr = SkyCoord(Tx=[300, 800], Ty=[100, 500], unit=u.arcsec, frame=aia_aligned.coordinate_frame)"
   ]
  },
  {
   "cell_type": "code",
   "execution_count": null,
   "metadata": {},
   "outputs": [],
   "source": [
    "ax = plt.subplot(projection=aia_aligned)\n",
    "aia_aligned.plot()\n",
    "ax.plot_coord(bl_tr, \"o\")"
   ]
  },
  {
   "cell_type": "code",
   "execution_count": null,
   "metadata": {},
   "outputs": [],
   "source": [
    "aia_aligned.submap(bl_tr).peek()"
   ]
  },
  {
   "cell_type": "markdown",
   "metadata": {},
   "source": [
    "## Constructing WCSes Manually\n",
    "\n",
    "Sometimes, if your existing data doesn't have one, or you want to regrid your data, you need to manually construct a new WCS. Doing this can require a decent amount of knowledge about the FITS WCS standard, but if you are constructing a 2D imaging WCS, sunpy has a function to help you."
   ]
  },
  {
   "cell_type": "code",
   "execution_count": null,
   "metadata": {},
   "outputs": [],
   "source": [
    "sunpy.map.make_fitswcs_header?"
   ]
  },
  {
   "cell_type": "markdown",
   "metadata": {},
   "source": [
    "This function generates a 2D spatial WCS, it isn't restricted to helioprojective imaging WCSes it could also be used to generate WCSes for synoptic full-sun type data.\n",
    "\n",
    "Let's start by generating a new WCS for our AIA image, with a different observer:"
   ]
  },
  {
   "cell_type": "code",
   "execution_count": null,
   "metadata": {},
   "outputs": [],
   "source": [
    "reference_coord = SkyCoord(aiamap.reference_coordinate.Tx,\n",
    "                           aiamap.reference_coordinate.Ty,\n",
    "                           observer='venus',\n",
    "                           obstime=aiamap.date,\n",
    "                           frame='helioprojective')"
   ]
  },
  {
   "cell_type": "code",
   "execution_count": null,
   "metadata": {},
   "outputs": [],
   "source": [
    "reference_coord"
   ]
  },
  {
   "cell_type": "code",
   "execution_count": null,
   "metadata": {},
   "outputs": [],
   "source": [
    "aia_from_venus = sunpy.map.make_fitswcs_header(\n",
    "    aiamap.data,\n",
    "    reference_coord,\n",
    "    u.Quantity(aiamap.reference_pixel),\n",
    "    u.Quantity(aiamap.scale),\n",
    "    rotation_matrix=aiamap.rotation_matrix,\n",
    "    instrument=aiamap.instrument,\n",
    "    observatory=aiamap.observatory,\n",
    "    wavelength=aiamap.wavelength,\n",
    "    exposure=aiamap.exposure_time,\n",
    ")"
   ]
  },
  {
   "cell_type": "code",
   "execution_count": null,
   "metadata": {},
   "outputs": [],
   "source": [
    "aia_from_venus"
   ]
  },
  {
   "cell_type": "markdown",
   "metadata": {},
   "source": [
    "Let's do the same thing but for a plate caree heliographic image:"
   ]
  },
  {
   "cell_type": "code",
   "execution_count": null,
   "metadata": {},
   "outputs": [],
   "source": [
    "reference_coord = SkyCoord(0*u.deg,\n",
    "                           0*u.deg,\n",
    "                           obstime=aiamap.date,\n",
    "                           frame='heliographic_stonyhurst')\n",
    "reference_coord"
   ]
  },
  {
   "cell_type": "code",
   "execution_count": null,
   "metadata": {},
   "outputs": [],
   "source": [
    "shape_out = [720, 1440]"
   ]
  },
  {
   "cell_type": "code",
   "execution_count": null,
   "metadata": {},
   "outputs": [],
   "source": [
    "CAR_header = sunpy.map.make_fitswcs_header(\n",
    "    shape_out,\n",
    "    reference_coord,\n",
    "    scale=[180 / shape_out[0],\n",
    "           360 / shape_out[1]] * u.deg / u.pix,\n",
    "    instrument=aiamap.instrument,\n",
    "    observatory=aiamap.observatory,\n",
    "    wavelength=aiamap.wavelength,\n",
    "    exposure=aiamap.exposure_time,\n",
    "    projection_code=\"CAR\"\n",
    ")"
   ]
  },
  {
   "cell_type": "code",
   "execution_count": null,
   "metadata": {},
   "outputs": [],
   "source": [
    "CAR_header"
   ]
  },
  {
   "cell_type": "markdown",
   "metadata": {},
   "source": [
    "## Combining with reproject\n",
    "\n",
    "Using this header helper with reproject can make it easier to regrid images"
   ]
  },
  {
   "cell_type": "code",
   "execution_count": null,
   "metadata": {},
   "outputs": [],
   "source": [
    "from reproject import reproject_interp\n",
    "from astropy.wcs import WCS"
   ]
  },
  {
   "cell_type": "code",
   "execution_count": null,
   "metadata": {},
   "outputs": [],
   "source": [
    "array, footprint = reproject_interp(aiamap, WCS(CAR_header), shape_out=shape_out)"
   ]
  },
  {
   "cell_type": "code",
   "execution_count": null,
   "metadata": {},
   "outputs": [],
   "source": [
    "outmap = sunpy.map.Map(array, CAR_header)\n",
    "outmap.plot_settings = aiamap.plot_settings"
   ]
  },
  {
   "cell_type": "code",
   "execution_count": null,
   "metadata": {},
   "outputs": [],
   "source": [
    "outmap"
   ]
  },
  {
   "cell_type": "code",
   "execution_count": null,
   "metadata": {},
   "outputs": [],
   "source": [
    "outmap.peek()"
   ]
  }
 ],
 "metadata": {
  "kernelspec": {
   "display_name": "Environment (virtualenv_predsci)",
   "language": "python",
   "name": "virtualenv_predsci"
  },
  "language_info": {
   "codemirror_mode": {
    "name": "ipython",
    "version": 3
   },
   "file_extension": ".py",
   "mimetype": "text/x-python",
   "name": "python",
   "nbconvert_exporter": "python",
   "pygments_lexer": "ipython3",
   "version": "3.9.0"
  }
 },
 "nbformat": 4,
 "nbformat_minor": 4
}
